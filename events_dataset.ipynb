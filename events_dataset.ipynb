{
 "cells": [
  {
   "cell_type": "markdown",
   "id": "8f520368-280f-4b39-8b3e-4678d6afe00b",
   "metadata": {},
   "source": [
    "# Events dataset"
   ]
  },
  {
   "cell_type": "markdown",
   "id": "60542ad3-ec26-4ba2-b8c3-eda3afbcfa04",
   "metadata": {},
   "source": [
    "This notebook contains the steps and investigations done to create a dataset with major US political and international events from 01-01-2015 up to 16-04-2020 (date of our last quotes).\n",
    "\n",
    "After some research we decided to investigate 3 different datasets from multiple sources:\n",
    "- [GDELT](https://www.gdeltproject.org)\n",
    "- [ACLED](https://acleddata.com/)\n",
    "- Wikipedia pages\n",
    "\n",
    "The first two aggregate data from news articles and social media (Twitter, Facebook, ...) to detect events such as protests or riots. The goald would have been to merge those 2 sources and keep the most important events. Then, we would also merge them with international events deemed as important by us and grabbed from Wikipedia and general knowledge."
   ]
  },
  {
   "cell_type": "markdown",
   "id": "949a06ea-0eb7-4d3b-87df-a289f48e6094",
   "metadata": {},
   "source": [
    "**TL;DR**  \n",
    "After investigating multiple possible events datasets, we ended up creating one by hand using Wikipedia ([link](https://en.wikipedia.org/wiki/2015_in_the_United_States) and equivalent for the relevant years). The GDELT and ACLED datasets were not suited to our needs."
   ]
  },
  {
   "cell_type": "markdown",
   "id": "650263be-cd7e-4ef5-8999-c3e79a92d7d4",
   "metadata": {
    "jp-MarkdownHeadingCollapsed": true,
    "tags": []
   },
   "source": [
    "## Setup"
   ]
  },
  {
   "cell_type": "code",
   "execution_count": 1,
   "id": "7103e1c3-ce99-4e45-b1f1-7ce4924b9fb9",
   "metadata": {},
   "outputs": [],
   "source": [
    "# Notebook config\n",
    "%config Completer.use_jedi = False"
   ]
  },
  {
   "cell_type": "code",
   "execution_count": 2,
   "id": "122a7bec-af2b-4c25-b61a-77929fd5955c",
   "metadata": {},
   "outputs": [],
   "source": [
    "import sys   \n",
    "import os\n",
    "from datetime import datetime\n",
    "import re\n",
    "\n",
    "import asyncio\n",
    "import aiohttp \n",
    "import aiofiles \n",
    "\n",
    "import pandas as pd\n",
    "import requests\n",
    "import tqdm.asyncio\n",
    "from bs4 import BeautifulSoup"
   ]
  },
  {
   "cell_type": "code",
   "execution_count": 3,
   "id": "0e62ab76-758a-412b-9432-f098d92e577b",
   "metadata": {},
   "outputs": [],
   "source": [
    "# Configuration\n",
    "DATA_PATH = \"data\"\n",
    "PKL_PATH = os.path.join(DATA_PATH, \"pkl\")\n",
    "CSV_PATH = os.path.join(DATA_PATH, \"csv\")\n",
    "RESOURCES_PATH = os.path.join(DATA_PATH, \"resources\")\n",
    "EVENTS_PATH = os.path.join(DATA_PATH, \"events\")"
   ]
  },
  {
   "cell_type": "markdown",
   "id": "e176cf36-a4d8-406b-8143-6d24a7900288",
   "metadata": {
    "jp-MarkdownHeadingCollapsed": true,
    "tags": []
   },
   "source": [
    "## 1. GDELT "
   ]
  },
  {
   "cell_type": "markdown",
   "id": "b3beb243-436e-4043-9339-43ca83578a22",
   "metadata": {},
   "source": [
    "The raw data is available through [this page](https://www.gdeltproject.org/data.html#rawdatafiles). As we see files are deposited daily. This means that we need to retrieve only the files of interest, from 2015 to 2020. \n",
    "\n",
    "First, we define a few helper functions."
   ]
  },
  {
   "cell_type": "code",
   "execution_count": 4,
   "id": "4400f29a-2a56-4d67-82ba-c877fc6eff01",
   "metadata": {},
   "outputs": [],
   "source": [
    "def parse_date(date_str):\n",
    "    \"\"\"\n",
    "    Parse date from string\n",
    "    \"\"\"\n",
    "    try:\n",
    "        date_str = date_str.strip(\".export.CSV.zip\")\n",
    "        date = datetime.strptime(date_str, \"%Y%m%d\")\n",
    "    except ValueError:\n",
    "        return\n",
    "    return date\n",
    "\n",
    "def in_time_range(date):\n",
    "    \"\"\"\n",
    "    Return true if date is in time range\n",
    "    \"\"\" \n",
    "    return bool(start_time <= date <= end_time)\n",
    "\n",
    "def gen_link(a):\n",
    "    \"\"\"\n",
    "    Get link from a html tag\n",
    "    \"\"\"\n",
    "    base = \"http://data.gdeltproject.org/events/\"\n",
    "    date = parse_date(a.text)\n",
    "    \n",
    "    if not date:\n",
    "        return\n",
    "    \n",
    "    if in_time_range(date):\n",
    "        return base + a.text\n",
    "    return \n",
    " \n",
    "def get_urls():\n",
    "    \"\"\"\n",
    "    Retrieve file urls from GDELT's website\n",
    "    \"\"\"\n",
    "    url = \"http://data.gdeltproject.org/events/index.html\"\n",
    "    r = requests.get(url)\n",
    "    soup = BeautifulSoup(r.content, 'html.parser')\n",
    "    \n",
    "    # Get the <a> html elements\n",
    "    ax = soup.find_all(\"a\")\n",
    "    # Remove 3 first elems\n",
    "    for _ in range(3):\n",
    "        ax.pop(0)\n",
    "    \n",
    "    # Generate URLs from html tag\n",
    "    urls = []\n",
    "    for a in ax:\n",
    "        new_a = gen_link(a)\n",
    "        if new_a:\n",
    "            urls.append(new_a)\n",
    "    return urls"
   ]
  },
  {
   "cell_type": "markdown",
   "id": "9627f8c7-4ae0-4d10-a14a-99fe9c08633a",
   "metadata": {},
   "source": [
    "Note that since each file is quite small but the data weighs around 70 GB in total, we decided to use asyncio to make our code a lot faster."
   ]
  },
  {
   "cell_type": "code",
   "execution_count": 5,
   "id": "f5f1abed-a328-49f9-984e-9d40727c8564",
   "metadata": {},
   "outputs": [],
   "source": [
    "async def fetch_file(url, dirpath):\n",
    "    \"\"\"\n",
    "    Download files asynchronously\n",
    "    \"\"\"\n",
    "    fname = url.split(\"/\")[-1]\n",
    "    fpath = os.path.join(dirpath, fname)\n",
    "    # Don't redownload if file already exists\n",
    "    if os.path.exists(fpath):\n",
    "        return\n",
    "    \n",
    "    async with sema, aiohttp.ClientSession() as session:\n",
    "        async with session.get(url) as resp:\n",
    "            assert resp.status == 200\n",
    "            data = await resp.read()\n",
    "\n",
    "    async with aiofiles.open(\n",
    "        fpath, \"wb\"\n",
    "    ) as outfile:\n",
    "        await outfile.write(data)"
   ]
  },
  {
   "cell_type": "markdown",
   "id": "c7ef71d5-cb59-4ee7-8453-0c5323399fe8",
   "metadata": {},
   "source": [
    "Below is the actual scrape and download code."
   ]
  },
  {
   "cell_type": "code",
   "execution_count": 6,
   "id": "5a9270f8-a280-4143-bc71-698715b66829",
   "metadata": {},
   "outputs": [
    {
     "name": "stdout",
     "output_type": "stream",
     "text": [
      "len: 1933 \n",
      "first link: http://data.gdeltproject.org/events/20200416.export.CSV.zip \n",
      "last link: http://data.gdeltproject.org/events/20150101.export.CSV.zip\n"
     ]
    },
    {
     "name": "stderr",
     "output_type": "stream",
     "text": [
      "100%|██████████████████████████████████████████████| 1933/1933 [00:00<00:00, 52721.66it/s]"
     ]
    },
    {
     "name": "stdout",
     "output_type": "stream",
     "text": [
      "Done\n"
     ]
    },
    {
     "name": "stderr",
     "output_type": "stream",
     "text": [
      "\n"
     ]
    }
   ],
   "source": [
    "# Check that directory exists\n",
    "if not os.path.exists(EVENTS_PATH):\n",
    "    os.mkdir(\"./data/events\")\n",
    "\n",
    "# Update timerange of interest\n",
    "# %Y, %m, %d\n",
    "start_time = datetime(2015, 1, 1)\n",
    "end_time = datetime(2020, 4, 16) \n",
    "\n",
    "# Get file urls\n",
    "urls = get_urls()\n",
    "# Sanity check\n",
    "print(f\"len: {len(urls)} \\nfirst link: {urls[0]} \\nlast link: {urls[-1]}\")\n",
    "\n",
    "# Download the files\n",
    "sema = asyncio.BoundedSemaphore(5)\n",
    "loop = asyncio.get_event_loop()\n",
    "tasks = [loop.create_task(fetch_file(url, EVENTS_PATH)) for url in urls]\n",
    "\n",
    "for fetch in tqdm.asyncio.tqdm.as_completed(tasks):\n",
    "    await fetch\n",
    "\n",
    "print(\"Done\")"
   ]
  },
  {
   "cell_type": "code",
   "execution_count": 16,
   "id": "f4262039-12a6-47d7-aec8-31c110553f06",
   "metadata": {},
   "outputs": [
    {
     "name": "stdout",
     "output_type": "stream",
     "text": [
      "<class 'pandas.core.frame.DataFrame'>\n",
      "RangeIndex: 140892 entries, 0 to 140891\n",
      "Data columns (total 58 columns):\n",
      " #   Column  Non-Null Count   Dtype  \n",
      "---  ------  --------------   -----  \n",
      " 0   0       140892 non-null  int64  \n",
      " 1   1       140892 non-null  int64  \n",
      " 2   2       140892 non-null  int64  \n",
      " 3   3       140892 non-null  int64  \n",
      " 4   4       140892 non-null  float64\n",
      " 5   5       127242 non-null  object \n",
      " 6   6       127242 non-null  object \n",
      " 7   7       73418 non-null   object \n",
      " 8   8       1755 non-null    object \n",
      " 9   9       772 non-null     object \n",
      " 10  10      1293 non-null    object \n",
      " 11  11      383 non-null     object \n",
      " 12  12      67158 non-null   object \n",
      " 13  13      5688 non-null    object \n",
      " 14  14      149 non-null     object \n",
      " 15  15      96138 non-null   object \n",
      " 16  16      96141 non-null   object \n",
      " 17  17      53188 non-null   object \n",
      " 18  18      1424 non-null    object \n",
      " 19  19      584 non-null     object \n",
      " 20  20      1017 non-null    object \n",
      " 21  21      267 non-null     object \n",
      " 22  22      52342 non-null   object \n",
      " 23  23      3761 non-null    object \n",
      " 24  24      92 non-null      object \n",
      " 25  25      140892 non-null  int64  \n",
      " 26  26      140892 non-null  int64  \n",
      " 27  27      140892 non-null  int64  \n",
      " 28  28      140892 non-null  int64  \n",
      " 29  29      140892 non-null  int64  \n",
      " 30  30      140892 non-null  float64\n",
      " 31  31      140892 non-null  int64  \n",
      " 32  32      140892 non-null  int64  \n",
      " 33  33      140892 non-null  int64  \n",
      " 34  34      140892 non-null  float64\n",
      " 35  35      140892 non-null  int64  \n",
      " 36  36      123634 non-null  object \n",
      " 37  37      123681 non-null  object \n",
      " 38  38      123681 non-null  object \n",
      " 39  39      123634 non-null  float64\n",
      " 40  40      123653 non-null  float64\n",
      " 41  41      123681 non-null  object \n",
      " 42  42      140892 non-null  int64  \n",
      " 43  43      93418 non-null   object \n",
      " 44  44      93447 non-null   object \n",
      " 45  45      93447 non-null   object \n",
      " 46  46      93418 non-null   float64\n",
      " 47  47      93432 non-null   float64\n",
      " 48  48      93447 non-null   object \n",
      " 49  49      140892 non-null  int64  \n",
      " 50  50      136914 non-null  object \n",
      " 51  51      136971 non-null  object \n",
      " 52  52      136971 non-null  object \n",
      " 53  53      136914 non-null  float64\n",
      " 54  54      136938 non-null  float64\n",
      " 55  55      136971 non-null  object \n",
      " 56  56      140892 non-null  int64  \n",
      " 57  57      140892 non-null  object \n",
      "dtypes: float64(9), int64(16), object(33)\n",
      "memory usage: 62.3+ MB\n"
     ]
    }
   ],
   "source": [
    "csv = pd.read_csv(f\"{EVENTS_PATH}/20200416.export.CSV.zip\", compression=\"zip\", sep=\"\\t\", header=None)\n",
    "csv.info()"
   ]
  },
  {
   "cell_type": "code",
   "execution_count": 17,
   "id": "c0ffe9db-b7d4-476e-b47d-c89ef37dfa9c",
   "metadata": {},
   "outputs": [
    {
     "data": {
      "text/html": [
       "<div>\n",
       "<style scoped>\n",
       "    .dataframe tbody tr th:only-of-type {\n",
       "        vertical-align: middle;\n",
       "    }\n",
       "\n",
       "    .dataframe tbody tr th {\n",
       "        vertical-align: top;\n",
       "    }\n",
       "\n",
       "    .dataframe thead th {\n",
       "        text-align: right;\n",
       "    }\n",
       "</style>\n",
       "<table border=\"1\" class=\"dataframe\">\n",
       "  <thead>\n",
       "    <tr style=\"text-align: right;\">\n",
       "      <th></th>\n",
       "      <th>0</th>\n",
       "      <th>1</th>\n",
       "      <th>2</th>\n",
       "      <th>3</th>\n",
       "      <th>4</th>\n",
       "      <th>5</th>\n",
       "      <th>6</th>\n",
       "      <th>7</th>\n",
       "      <th>8</th>\n",
       "      <th>9</th>\n",
       "      <th>...</th>\n",
       "      <th>48</th>\n",
       "      <th>49</th>\n",
       "      <th>50</th>\n",
       "      <th>51</th>\n",
       "      <th>52</th>\n",
       "      <th>53</th>\n",
       "      <th>54</th>\n",
       "      <th>55</th>\n",
       "      <th>56</th>\n",
       "      <th>57</th>\n",
       "    </tr>\n",
       "  </thead>\n",
       "  <tbody>\n",
       "    <tr>\n",
       "      <th>0</th>\n",
       "      <td>918393796</td>\n",
       "      <td>20190417</td>\n",
       "      <td>201904</td>\n",
       "      <td>2019</td>\n",
       "      <td>2019.2932</td>\n",
       "      <td>IRL</td>\n",
       "      <td>DUBLIN</td>\n",
       "      <td>IRL</td>\n",
       "      <td>NaN</td>\n",
       "      <td>NaN</td>\n",
       "      <td>...</td>\n",
       "      <td>CH</td>\n",
       "      <td>4</td>\n",
       "      <td>Dublin, Dublin, Ireland</td>\n",
       "      <td>EI</td>\n",
       "      <td>EI07</td>\n",
       "      <td>53.3331</td>\n",
       "      <td>-6.24889</td>\n",
       "      <td>-1502554</td>\n",
       "      <td>20200416</td>\n",
       "      <td>http://www.xinhuanet.com/english/2020-04/16/c_...</td>\n",
       "    </tr>\n",
       "  </tbody>\n",
       "</table>\n",
       "<p>1 rows × 58 columns</p>\n",
       "</div>"
      ],
      "text/plain": [
       "          0         1       2     3          4    5       6    7    8    9   \\\n",
       "0  918393796  20190417  201904  2019  2019.2932  IRL  DUBLIN  IRL  NaN  NaN   \n",
       "\n",
       "   ...  48 49                       50  51    52       53       54        55  \\\n",
       "0  ...  CH  4  Dublin, Dublin, Ireland  EI  EI07  53.3331 -6.24889  -1502554   \n",
       "\n",
       "         56                                                 57  \n",
       "0  20200416  http://www.xinhuanet.com/english/2020-04/16/c_...  \n",
       "\n",
       "[1 rows x 58 columns]"
      ]
     },
     "execution_count": 17,
     "metadata": {},
     "output_type": "execute_result"
    }
   ],
   "source": [
    "csv.head(1)"
   ]
  },
  {
   "cell_type": "markdown",
   "id": "b8a38373-0b2c-4be2-bf19-4ef7b9ca8513",
   "metadata": {},
   "source": [
    "As we can see, this is quite a big dataset for just one day. After more research, we decided that a significant time investment would be necessary in order to correctly use the dataset. The codebook alone is more than 10 pages long! Also, the whole project is quite scattered accross many different subprojects, which makes the GDELT's documentation quite hard to understand. To summarize, we decided not to use this dataset, but still included it since we consider the scrape and download code to be interesting. "
   ]
  },
  {
   "cell_type": "markdown",
   "id": "6e61f553-6201-4dcf-8f9b-d4b0051126c6",
   "metadata": {
    "jp-MarkdownHeadingCollapsed": true,
    "tags": []
   },
   "source": [
    "## 2. ACLED\n"
   ]
  },
  {
   "cell_type": "markdown",
   "id": "34455635-7f71-4f74-8c3a-01c902edaf70",
   "metadata": {},
   "source": [
    "The second dataset that we investigated is the project called [ACLED](https://acleddata.com/). The Armed Conflict Location & Event Data Project (ACLED) is a \"disaggregated data collection, analysis, and crisis mapping project\" [1](https://acleddata.com/about-acled/). They also provide an export tool allowing us to filter by year and country. That way, we downloaded the available file."
   ]
  },
  {
   "cell_type": "code",
   "execution_count": 18,
   "id": "c5e6b54b-ee6f-41f9-a0a5-95d271680223",
   "metadata": {},
   "outputs": [
    {
     "name": "stdout",
     "output_type": "stream",
     "text": [
      "<class 'pandas.core.frame.DataFrame'>\n",
      "RangeIndex: 26238 entries, 0 to 26237\n",
      "Data columns (total 28 columns):\n",
      " #   Column            Non-Null Count  Dtype  \n",
      "---  ------            --------------  -----  \n",
      " 0   data_id           26238 non-null  int64  \n",
      " 1   iso               26238 non-null  int64  \n",
      " 2   event_id_cnty     26238 non-null  object \n",
      " 3   event_id_no_cnty  26238 non-null  int64  \n",
      " 4   event_date        26238 non-null  object \n",
      " 5   year              26238 non-null  int64  \n",
      " 6   time_precision    26238 non-null  int64  \n",
      " 7   event_type        26238 non-null  object \n",
      " 8   sub_event_type    26238 non-null  object \n",
      " 9   actor1            26238 non-null  object \n",
      " 10  assoc_actor_1     18110 non-null  object \n",
      " 11  inter1            26238 non-null  int64  \n",
      " 12  interaction       26238 non-null  int64  \n",
      " 13  region            26238 non-null  object \n",
      " 14  country           26238 non-null  object \n",
      " 15  admin1            26238 non-null  object \n",
      " 16  admin2            26192 non-null  object \n",
      " 17  admin3            0 non-null      float64\n",
      " 18  location          26238 non-null  object \n",
      " 19  latitude          26238 non-null  float64\n",
      " 20  longitude         26238 non-null  float64\n",
      " 21  geo_precision     26238 non-null  int64  \n",
      " 22  source            26238 non-null  object \n",
      " 23  source_scale      26238 non-null  object \n",
      " 24  notes             26238 non-null  object \n",
      " 25  fatalities        26238 non-null  int64  \n",
      " 26  timestamp         26238 non-null  int64  \n",
      " 27  iso3              26238 non-null  object \n",
      "dtypes: float64(3), int64(10), object(15)\n",
      "memory usage: 5.6+ MB\n"
     ]
    },
    {
     "data": {
      "text/plain": [
       "None"
      ]
     },
     "metadata": {},
     "output_type": "display_data"
    },
    {
     "data": {
      "text/html": [
       "<div>\n",
       "<style scoped>\n",
       "    .dataframe tbody tr th:only-of-type {\n",
       "        vertical-align: middle;\n",
       "    }\n",
       "\n",
       "    .dataframe tbody tr th {\n",
       "        vertical-align: top;\n",
       "    }\n",
       "\n",
       "    .dataframe thead th {\n",
       "        text-align: right;\n",
       "    }\n",
       "</style>\n",
       "<table border=\"1\" class=\"dataframe\">\n",
       "  <thead>\n",
       "    <tr style=\"text-align: right;\">\n",
       "      <th></th>\n",
       "      <th>data_id</th>\n",
       "      <th>iso</th>\n",
       "      <th>event_id_cnty</th>\n",
       "      <th>event_id_no_cnty</th>\n",
       "      <th>event_date</th>\n",
       "      <th>year</th>\n",
       "      <th>time_precision</th>\n",
       "      <th>event_type</th>\n",
       "      <th>sub_event_type</th>\n",
       "      <th>actor1</th>\n",
       "      <th>...</th>\n",
       "      <th>location</th>\n",
       "      <th>latitude</th>\n",
       "      <th>longitude</th>\n",
       "      <th>geo_precision</th>\n",
       "      <th>source</th>\n",
       "      <th>source_scale</th>\n",
       "      <th>notes</th>\n",
       "      <th>fatalities</th>\n",
       "      <th>timestamp</th>\n",
       "      <th>iso3</th>\n",
       "    </tr>\n",
       "  </thead>\n",
       "  <tbody>\n",
       "    <tr>\n",
       "      <th>22407</th>\n",
       "      <td>8478721</td>\n",
       "      <td>840</td>\n",
       "      <td>USA18712</td>\n",
       "      <td>18712</td>\n",
       "      <td>20 May 2020</td>\n",
       "      <td>2020</td>\n",
       "      <td>1</td>\n",
       "      <td>Protests</td>\n",
       "      <td>Peaceful protest</td>\n",
       "      <td>Protesters (United States)</td>\n",
       "      <td>...</td>\n",
       "      <td>Chicago-Central</td>\n",
       "      <td>41.8757</td>\n",
       "      <td>-87.6243</td>\n",
       "      <td>1</td>\n",
       "      <td>CBS2 (Chicago)</td>\n",
       "      <td>Subnational</td>\n",
       "      <td>On 20 May 2020, an unknown number of residents...</td>\n",
       "      <td>0</td>\n",
       "      <td>1631060770</td>\n",
       "      <td>USA</td>\n",
       "    </tr>\n",
       "    <tr>\n",
       "      <th>7990</th>\n",
       "      <td>7668263</td>\n",
       "      <td>840</td>\n",
       "      <td>USA11294</td>\n",
       "      <td>11294</td>\n",
       "      <td>25 August 2020</td>\n",
       "      <td>2020</td>\n",
       "      <td>1</td>\n",
       "      <td>Protests</td>\n",
       "      <td>Peaceful protest</td>\n",
       "      <td>Protesters (United States)</td>\n",
       "      <td>...</td>\n",
       "      <td>Memphis</td>\n",
       "      <td>35.1495</td>\n",
       "      <td>-90.0489</td>\n",
       "      <td>1</td>\n",
       "      <td>Commercial Appeal</td>\n",
       "      <td>Subnational</td>\n",
       "      <td>On 25 August 2020, USPS workers affiliated wit...</td>\n",
       "      <td>0</td>\n",
       "      <td>1612916000</td>\n",
       "      <td>USA</td>\n",
       "    </tr>\n",
       "  </tbody>\n",
       "</table>\n",
       "<p>2 rows × 28 columns</p>\n",
       "</div>"
      ],
      "text/plain": [
       "       data_id  iso event_id_cnty  event_id_no_cnty      event_date  year  \\\n",
       "22407  8478721  840      USA18712             18712     20 May 2020  2020   \n",
       "7990   7668263  840      USA11294             11294  25 August 2020  2020   \n",
       "\n",
       "       time_precision event_type    sub_event_type  \\\n",
       "22407               1   Protests  Peaceful protest   \n",
       "7990                1   Protests  Peaceful protest   \n",
       "\n",
       "                           actor1  ...         location  latitude  longitude  \\\n",
       "22407  Protesters (United States)  ...  Chicago-Central   41.8757   -87.6243   \n",
       "7990   Protesters (United States)  ...          Memphis   35.1495   -90.0489   \n",
       "\n",
       "      geo_precision             source source_scale  \\\n",
       "22407             1     CBS2 (Chicago)  Subnational   \n",
       "7990              1  Commercial Appeal  Subnational   \n",
       "\n",
       "                                                   notes  fatalities  \\\n",
       "22407  On 20 May 2020, an unknown number of residents...           0   \n",
       "7990   On 25 August 2020, USPS workers affiliated wit...           0   \n",
       "\n",
       "        timestamp  iso3  \n",
       "22407  1631060770   USA  \n",
       "7990   1612916000   USA  \n",
       "\n",
       "[2 rows x 28 columns]"
      ]
     },
     "execution_count": 18,
     "metadata": {},
     "output_type": "execute_result"
    }
   ],
   "source": [
    "df = pd.read_csv(os.path.join(EVENTS_PATH, \"2015-01-01-2020-12-31-North_America-United_States.csv\"))\n",
    "display(df.info())\n",
    "df.sample(2)"
   ]
  },
  {
   "cell_type": "markdown",
   "id": "039f4b82-22ec-4bf0-909f-85ee6387d489",
   "metadata": {},
   "source": [
    "Although the dataset seemed quite adapted in the sense that we could just filter by type, media source and fatalities for example to get the biggest protests and riots, we soon discovered that the file only provided data for 2020:"
   ]
  },
  {
   "cell_type": "code",
   "execution_count": 19,
   "id": "f1157079-b24c-4b0b-8676-5ebac2e8f0b4",
   "metadata": {},
   "outputs": [
    {
     "data": {
      "text/plain": [
       "array([2020])"
      ]
     },
     "execution_count": 19,
     "metadata": {},
     "output_type": "execute_result"
    }
   ],
   "source": [
    "df[\"year\"].unique()"
   ]
  },
  {
   "cell_type": "markdown",
   "id": "e0022528-76b9-4767-9de3-482f0c6c8c3d",
   "metadata": {},
   "source": [
    "We had to dig the confirmation of that and a subpage of their website. On a separate note, this reminds us of the importance of good user experience (UX), as their export tool did not indicate that no data existed for 2015-2019. Because of that, this dataset is also unusable."
   ]
  },
  {
   "cell_type": "markdown",
   "id": "9efcdfe9-8a3a-4b30-82c8-6519a45fb72e",
   "metadata": {
    "jp-MarkdownHeadingCollapsed": true,
    "tags": []
   },
   "source": [
    "## 3. Wikipedia dataset"
   ]
  },
  {
   "cell_type": "markdown",
   "id": "c41e293c-f926-4bb9-832d-c62d91ab3865",
   "metadata": {},
   "source": [
    "This last source is straight-forward. We read the \"events\" page of each year and extracted the most interesting events for us. We extracted events that we thought were either of \"international importance\" or of \"national importance\". \n",
    "\n",
    "This is a summary of the extracted events per year."
   ]
  },
  {
   "cell_type": "markdown",
   "id": "a27ad058-0446-4c8a-a2c9-4072b931823c",
   "metadata": {
    "tags": []
   },
   "source": [
    "[2015](https://en.wikipedia.org/wiki/2015_in_the_United_States):\n",
    "- March 25 Indiana Governor Mike Pence signs Indiana SB 101 into law, prompting a national debate over religious freedom and LGBT rights. After a week of public outcry, the law is modified and similar bills in Arkansas, North Carolina, Georgia, and North Dakota fail to pass their state legislatures.\n",
    "- April 11 – President Barack Obama and Cuban President Raúl Castro discuss historic proposed normalizations to Cuba-United States relations at the 7th Summit of the Americas in Panama City, Panama.\n",
    "- April - start of the 2016 presidential campaign\n",
    "- April 25 – May 3 – Protests in Baltimore, Maryland from Baltimore City Hall to the Inner Harbor against the April 19 death of Freddie Gray in police custody soon turn violent, with extensive property damage, looting, numerous arrests, and injuries of both police officers and citizens being reported. Maryland Governor Larry Hogan declares a state of emergency in the city and deploys the Maryland National Guard in response.\n",
    "- May 22 - The State Department begins publishing the e-mails of Hillary Clinton, mostly concerning the 2012 Benghazi attack, that drew controversy earlier in the year when it was revealed that Clinton had been using a private e-mail server for work-related communications during her time as Secretary of State.\n",
    "- June 24 - The House of Representatives passes a bill that gives President Barack Obama an authority to negotiate international trade agreements with Congress's approval. It is seen as a stepping stone toward the passing of Obama's proposed trade deal with eleven Asian countries known as the Trans-Pacific Partnership.\n",
    "- June 26 - In a 5–4 decision, the U.S. Supreme Court rules that the Constitution guarantees a right to same-sex marriage in the United States. Justice Anthony Kennedy wrote the majority opinion, joined by Justices Ruth Bader Ginsburg, Stephen Breyer, Sonia Sotomayor and Elena Kagan.\n",
    "- October 1 - 26-year-old Christopher Harper-Mercer opens fire at Umpqua Community College in Roseburg, Oregon. killing 9 people and injuring 9 others. It is the largest shooting at a college since the Virginia Tech massacre in 2007.\n",
    "- October 29 – Representative Paul Ryan takes over for John Boehner as Speaker of the House of Representatives after being elected following Boehner's resignation.\n",
    "- December 2 - 2015 San Bernardino attack: 14 people are killed in a terrorist attack at a facility for the mentally disabled in San Bernardino, California. It is the deadliest mass shooting in the United States in 2015, and the deadliest since 2012.\n",
    "\n",
    "[2016](https://en.wikipedia.org/wiki/2016_in_the_United_States):\n",
    "- February 9 – The New Hampshire primaries are held. Donald Trump wins the Republican primary, and Bernie Sanders wins the Democratic primary.\n",
    "- March 1 – Super Tuesday\n",
    "- March 16 – President Obama nominates Merrick Garland to replace Antonin Scalia on the Supreme Court.\n",
    "- May 4 - John Kasich suspends his presidential campaign, leaving Donald Trump the presumptive Republican nominee.\n",
    "- May 25 – An audit by the State Department Inspector General finds that Hillary Clinton violated directives from the department in her use of a private email server for government business during her time as Secretary of State. The Inspector General says that Clinton did not request approval to use the private server, and that such a request would have been denied because of security risks.\n",
    "- June 12 - Orlando shooting\n",
    "- June 22–23 – Members of the House Democratic Caucus, led by Representative John Lewis (D-Georgia) and Representative Katherine Clark (D-Massachusetts), declare their intention to remain on the floor of the House of Representatives until its Republican Speaker, Paul Ryan, allows votes on gun control legislation in the aftermath of the Orlando nightclub shooting. The sit-in is staged by about 60 legislators.\n",
    "- July 8 – Despite the conclusions of the FBI and attorney general, the State Department reopens its investigation into Hillary Clinton's use of a private email server.\n",
    "- September 21 - Charlotte protests\n",
    "- September 26 – Presidential candidates Donald Trump and Hillary Clinton take part in their first live televised debate, with an estimated audience of up to 100 million viewers.\n",
    "- November 8 - 2016 presidential Election\n",
    "- December 2 - Donald Trump becomes the first US president or president-elect since 1979 to make direct contact with the President of Taiwan, upsetting Chinese diplomats and sparking concern over whether Trump will uphold the \"One China policy\" at the foundation of China-U.S. relations.\n",
    "- December 31 – United States troops withdraw from Afghanistan, leaving behind 8,400 troops stationed at 4 garrisons (Kabul, Kandahar, Bagram, and Jalalabad).\n",
    "\n",
    "[2017](https://en.wikipedia.org/wiki/2017_in_the_United_States):\n",
    "- January 6 - After briefing President Barack Obama, the United States Senate, and President-elect Donald Trump, the United States Intelligence Community releases a declassified version of its investigation into Russia's interference in the 2016 presidential election. The report asserts that Russia carried out a massive cyber operation on orders from President Vladimir Putin to influence the election in favor of Trump in a multipronged attack consisting of hacking the Democratic National Committee, use of social media and Internet trolls to spread misinformation, and open propaganda on Russian state media outlets. Trump asserts that the outcome of the election was not affected by the interference, but nonetheless announces his intention to appoint a team to combat international cyber attacks within his first 90 days in office.\n",
    "- January 20 – Donald Trump is sworn in as the 45th President of the United States, and Mike Pence is sworn in as Vice President of the United States.\n",
    "- May 9 - FBI chief James Comey is fired by Trump for mishandling of the Hillary Clinton email controversy. However, critics accuse Trump of attempting to subvert the ongoing FBI investigation into possible ties between Russia and the Trump campaign.\n",
    "- June 17 - Charleston church shooting\n",
    "- July 18 – The US Senate votes to start debating a new Republican healthcare bill to replace Obamacare.\n",
    "- September 5 – The Trump administration announces that the Deferred Action for Childhood Arrivals (DACA) immigration policy, which was set by the Obama administration in 2012, will be scrapped.\n",
    "- October 1 - Las Vegas mass shooting\n",
    "- December 2 - San Bernardino shooting\n",
    "- December 6 – In a speech at the White House, President Trump announces that the US now recognizes Jerusalem as Israel's capital.\n",
    "\n",
    "[2018](https://en.wikipedia.org/wiki/2018_in_the_United_States):\n",
    "- January 11 – \"Shitholegate\" During a meeting with lawmakers about immigration, President Trump is reported to have asked, \"Why are we having all these people from shithole countries come here?\" His remarks are condemned as \"racist\" and \"shocking\" by a UN spokesman. (comp. Donald Trump racial views) The government of Botswana demands a clarification, and Ambassador Earl R. Miller is asked if the USDS regards Botswana as a \"shithole\" country. The event is termed by many media outlets \"Shitholegate\".\n",
    "- January 20 – Senate Democrats block a bill that would have kept the government running until mid-February and the government shutdown of January 2018 begins. \n",
    "- February 14 -  Marjory Stoneman Douglas High School in Parkland, Florida mass shooting\n",
    "- March 22 – President Trump announces tariffs on up to $60bn in Chinese goods and plans to limit the country's investment in the US. The Dow Jones falls sharply in response.\n",
    "- The Senate Intelligence Committee releases an unclassified version of its investigation into Russian cyberattacks in 2016, concluding: \"Russian-affiliated cyber actors were able to gain access to restricted elements of election infrastructure. [...] In a small number of states, these cyber actors were in a position to, at a minimum, alter or delete voter registration data; however, they did not appear to be in a position to manipulate individual votes or aggregate vote totals.\"\n",
    "- June 18 - 70 former U.S. Attorneys deliver a letter to Jeff Sessions, urging that he end his \"dangerous, expensive, zero tolerance\" migrant policy, which separates children at the border, calling it \"inconsistent with the values of the institution in which we served.\"\n",
    "- June 19 - The United States announces that it will withdraw from the United Nations Human Rights Council.\n",
    "- August 1 – President Trump calls for the Russia investigation to end \"right now\", urging Attorney General Jeff Sessions to halt the inquiry into alleged election meddling, while accusing special counsel Robert Mueller of being \"totally conflicted\".\n",
    "- October 2 – The Washington Post journalist Jamal Khashoggi is murdered inside the Saudi consulate in Istanbul, triggering a diplomatic crisis between the U.S. and Saudi Arabia.\n",
    "- October 20 – President Trump announces that the US will \"terminate\" the Intermediate-Range Nuclear Forces Treaty over alleged Russian violations.\n",
    "- October 29 – Migrant caravan. 800 U.S. soldiers are deployed to the Mexico–United States border as a part of Operation Faithful Patriot, reinforcing the border against incoming Central American migrant caravans.\n",
    "- November 6 - Midterm elections\n",
    "- December 13 – In a rare rebuke to the White House, the Senate votes 56–41 to end US military assistance to Saudi Arabia's intervention in Yemen over alleged war crimes. It passes a separate resolution that holds Saudi Crown Prince Mohammed bin Salman personally responsible for the death of Saudi dissident Jamal Kashoggi.\n",
    "\n",
    "[2019](https://en.wikipedia.org/wiki/2019_in_the_United_States):\n",
    "- January 3 – The Democrats take control of the House of Representatives, with a promise to end the government shutdown, but without funding for President Donald Trump's proposed border wall. The Republicans increase their control of the United States Senate.\n",
    "- January - start of the 2020 presidential campaign\n",
    "- January 28 – The Justice Department charges Chinese tech firm Huawei with multiple counts of fraud, raising U.S.-China tensions.\n",
    "- March 22 - Special Counsel Robert Mueller turns in the report of his nearly two-year investigation on whether the Trump campaign helped Russia interfere in the 2016 presidential election.\n",
    "- April 18 – A redacted version of the final Mueller Report is released by Attorney General William Barr to Congress and the general public. The report goes into detail on findings from the 2017–2019 Special Counsel probe regarding Russian contacts with the 2016 Donald Trump election campaign and matters regarding obstruction of justice by President Trump himself.\n",
    "- During a three-way meeting at the Korean Demilitarized Zone with South and North Korean leaders, President Trump becomes the first sitting U.S. president to set foot on North Korean territory. Both Trump and North Korean leader Kim Jong-un pledge to restart stalled nuclear negotiations between the two countries.\n",
    "- July 6 - Billionaire financier and registered sex offender Jeffrey Epstein is arrested on federal charges of sex trafficking and additionally charged by the Southern District of New York with sex trafficking and with conspiracy to traffic minors in Florida and New York.\n",
    "- August 3 - El Paso shooting: A mass shooting occurs at a Walmart near the Cielo Vista Mall in El Paso, Texas, resulting in 23 fatalities and 23 injured.\n",
    "- August 10 - 2020 Democratic candidates for president speak at a gun forum sponsored by Everytown for Gun Safety, in Des Moines, Iowa.\n",
    "- August 12 - The Trump administration issues new rules that reject applicants for temporary or permanent visas for failing to meet income standards or for receiving public assistance such as welfare, food stamps, public housing or Medicaid.\n",
    "- September 24 - Speaker of the House Nancy Pelosi announces the start of a formal impeachment inquiry against President Trump.\n",
    "- September 25 – The White House releases details of a July 25 phone call between President Trump and Volodymyr Zelensky, in which Trump asks the Ukrainian President to investigate Democratic presidential candidate Joe Biden.\n",
    "- October 3 - President Trump calls on Ukraine and China to investigate former Vice President Joe Biden and his son Hunter Biden.\n",
    "- December 1 - The White House announces that President Donald Trump will not participate in the House Judiciary Committee impeachment hearing on December 3.\n",
    "- December 3 - The House Intelligence Committee releases a report accusing President Donald Trump of using his office to further his personal interests.\n",
    "- Decdember 6 - The House of Representatives approves 228–187 to restore parts of the Voting Rights Act of 1965. President Trump threatens to veto if the bill is approved by the Senate.\n",
    "- December 10 - Democrats in the House of Representatives announce formal charges against President Trump that accuse him of abusing power and obstructing Congress, making him the fourth U.S. president in history to face impeachment.\n",
    "- December 18 - The U.S. House of Representatives votes largely along party lines to forward two articles of impeachment against President Donald Trump to the Senate, accusing him of abuse of power and obstructing Congress. Donald Trump becomes the third U.S. president to be impeached by the House.\n",
    "\n",
    "[2020](https://en.wikipedia.org/wiki/2020_in_the_United_States):\n",
    "- January 3 – 2019–2021 Persian Gulf crisis: President Donald Trump approves the targeted killing of Iranian general Qasem Soleimani and Iraqi paramilitary leader Abu Mahdi al-Muhandis in Baghdad, Iraq.\n",
    "- January 9 - Persian Gulf crisis: The House of Representatives votes 224–194 to pass a non-binding War Powers Resolution to limit the president's ability to pursue military actions against Iran without congressional consent.\n",
    "- January 14 - The seventh Democratic presidential debate is held in Des Moines, Iowa. Six candidates participate.\n",
    "- January 16 – The impeachment trial of President Donald Trump begins in the U.S. Senate.\n",
    "- January 21 – COVID-19 pandemic: The first case of COVID-19 in the United States is confirmed by the Centers for Disease Control and Prevention (CDC).\n",
    "- february 5 - February 5 – The impeachment trial of President Donald Trump concludes with the Senate voting 52–48 to acquit on the first article of impeachment and 53–47 on the second charge. Utah Senator Mitt Romney becomes the first ever senator to vote to remove a president of their own political party."
   ]
  },
  {
   "cell_type": "markdown",
   "id": "d66b2a94-10b1-4511-ac1d-a0d114c0194b",
   "metadata": {},
   "source": [
    "This list was then converted to a python list (thank's regex!). Notice that the last element of each tuple's event is a short description of the event."
   ]
  },
  {
   "cell_type": "code",
   "execution_count": 25,
   "id": "1fab3225-9513-41f4-a111-09dacf97fd56",
   "metadata": {},
   "outputs": [],
   "source": [
    "l_2015 = [ \n",
    "    (\"2015 March 25\",\"Indiana Governor Mike Pence signs Indiana SB 101 into law, prompting a national debate over religious freedom and LGBT rights. After a week of public outcry, the law is modified and similar bills in Arkansas, North Carolina, Georgia, and North Dakota fail to pass their state legislatures.\", \"LGBT debate\"), \n",
    "    (\"2015 April 11\", \" President Barack Obama and Cuban President Raúl Castro discuss historic proposed normalizations to Cuba-United States relations at the 7th Summit of the Americas in Panama City, Panama.\", \"US-Cuba relations start again\"), \n",
    "    (\"2015 April\", \"start of the 2016 presidential campaign\", \"2016 presidential campaign\"), \n",
    "    (\"2015 April 25\", \" Protests in Baltimore, Maryland from Baltimore City Hall to the Inner Harbor against the April 19 death of Freddie Gray in police custody soon turn violent, with extensive property damage, looting, numerous arrests, and injuries of both police officers and citizens being reported. Maryland Governor Larry Hogan declares a state of emergency in the city and deploys the Maryland National Guard in response.\", \"Baltimore protests\"), \n",
    "    (\"2015 May 22\",\" The State Department begins publishing the e-mails of Hillary Clinton, mostly concerning the 2012 Benghazi attack, that drew controversy earlier in the year when it was revealed that Clinton had been using a private e-mail server for work-related communications during her time as Secretary of State.\", \"H. Clinton email's controversy\"), \n",
    "    (\"2015 June 26\",\" In a 5, 4 decision, the U.S. Supreme Court rules that the Constitution guarantees a right to same-sex marriage in the United States. Justice Anthony Kennedy wrote the majority opinion, joined by Justices Ruth Bader Ginsburg, Stephen Breyer, Sonia Sotomayor and Elena Kagan.\", \"Same-sex marriage supreme court rule\"), \n",
    "    (\"2015 October 1\",\"26-year-old Christopher Harper-Mercer opens fire at Umpqua Community College in Roseburg, Oregon. killing 9 people and injuring 9 others. It is the largest shooting at a college since the Virginia Tech massacre in 2007.\", \"Umpqua Community College shooting\"), \n",
    "    (\"2015 October 29\", \" Representative Paul Ryan takes over for John Boehner as Speaker of the House of Representatives after being elected following Boehner's resignation.\", \"Paul Ryan (rep.) elected Speaker of the House of Representatives\"), \n",
    "    (\"2015 December 2\",\"2015 San Bernardino attack: 14 people are killed in a terrorist attack at a facility for the mentally disabled in San Bernardino, California. It is the deadliest mass shooting in the United States in 2015, and the deadliest since 2012.\", \"San Bernardino shooting\"),\n",
    "]\n",
    "l_2016 = [\n",
    "    (\"2016 February 9 \",\" The New Hampshire primaries are held. Donald Trump wins the Republican primary, and Bernie Sanders wins the Democratic primary.\", \"New Hampshire primaries won by D. Trump\"),\n",
    "    (\"2016 March 1 \",\" Super Tuesday\", \"Super Tuesday\"),\n",
    "    (\"2016 March 16 \",\" President Obama nominates Merrick Garland to replace Antonin Scalia on the Supreme Court.\", \"Merrick Garland Supreme Court nomination\"),\n",
    "    (\"2016 May 4 \",\" John Kasich suspends his presidential campaign, leaving Donald Trump the presumptive Republican nominee.\", \"D. Trump is last rep. nominee\"),\n",
    "    (\"2016 May 25 \",\" An audit by the State Department Inspector General finds that Hillary Clinton violated directives from the department in her use of a private email server for government business during her time as Secretary of State. The Inspector General says that Clinton did not request approval to use the private server, and that such a request would have been denied because of security risks.\", \"Investigation against H. Clinton over private email use\"),\n",
    "    (\"2016 June 12 \",\"Orlando shooting\", \"Orlando shooting\"),\n",
    "    (\"2016 June 22\", \"Members of the House Democratic Caucus, led by Representative John Lewis (D-Georgia) and Representative Katherine Clark (D-Massachusetts) declare their intention to remain on the floor of the House of Representatives until its Republican Speaker, Paul Ryan, allows votes on gun control legislation in the aftermath of the Orlando nightclub shooting. The sit-in is staged by about 60 legislators.\", \"Democrat Representatives protest in House of Representatives\"),\n",
    "    (\"2016 July 8 \",\" Despite the conclusions of the FBI and attorney general, the State Department reopens its investigation into Hillary Clinton's use of a private email server.\", \"FBI reopens investigation on H. Clinton\"),\n",
    "    (\"2016 September 21 \",\" Charlotte protests\", \"Charlotte protests\"),\n",
    "    (\"2016 September 26 \",\" Presidential candidates Donald Trump and Hillary Clinton take part in their first live televised debate, with an estimated audience of up to 100 million viewers.\", \"Presidential debate betwenn D. Trump and H. Clinton\"),\n",
    "    (\"2016 November 8 \",\" 2016 presidential Election\", \"2016 Presidential Election\"),\n",
    "    (\"2016 December 2 \",\"Donald Trump becomes the first US president or president-elect since 1979 to make direct contact with the President of Taiwan, upsetting Chinese diplomats and sparking concern over whether Trump will uphold the \\\"One China policy\\\" at the foundation of China-U.S. relations.\", \"D. Trump visits Taiwan\"),\n",
    "    (\"2016 December 31 \",\" United States troops withdraw from Afghanistan, leaving behind 8,400 troops stationed at 4 garrisons (Kabul, Kandahar, Bagram, and Jalalabad).\", \"US troosp withdraw from Afghanistan\"),\n",
    "]\n",
    "l_2017 = [\n",
    "    (\"2017 January 6\",\" After briefing President Barack Obama, the United States Senate, and President-elect Donald Trump, the United States Intelligence Community releases a declassified version of its investigation into Russia's interference in the 2016 presidential election. The report asserts that Russia carried out a massive cyber operation on orders from President Vladimir Putin to influence the election in favor of Trump in a multipronged attack consisting of hacking the Democratic National Committee, use of social media and Internet trolls to spread misinformation, and open propaganda on Russian state media outlets. Trump asserts that the outcome of the election was not affected by the interference, but nonetheless announces his intention to appoint a team to combat international cyber attacks within his first 90 days in office.\", \"Allegations of russian interference in presidential election\"),\n",
    "    (\"2017 January 20\",\" Donald Trump is sworn in as the 45th President of the United States, and Mike Pence is sworn in as Vice President of the United States.\", \"D. Trump sworn as President\"),\n",
    "    (\"2017 May \",\" FBI chief James Comey is fired by Trump for mishandling of the Hillary Clinton email controversy. However, critics accuse Trump of attempting to subvert the ongoing FBI investigation into possible ties between Russia and the Trump campaign.\", \"FBI chief James Comey fired\"),\n",
    "    (\"2017 June 17\",\"Charleston church shooting\", \"Charleston church shooting\"),\n",
    "    (\"2017 July 18\",\"The US Senate votes to start debating a new Republican healthcare bill to replace Obamacare.\", \"Senate votes on new Republican healthcare bill\"),\n",
    "    (\"2017 September 5\",\" The Trump administration announces that the Deferred Action for Childhood Arrivals (DACA) immigration policy, which was set by the Obama administration in 2012, will be scrapped.\", \"New immigration policy bill by Trump administration\"),\n",
    "    (\"2017 October 1\",\" Las Vegas mass shooting\", \"Las Vegas mass shooting\"),\n",
    "    (\"2017 December 2\",\" San Bernardino shooting\", \"San Bernardino shooting\"),\n",
    "    (\"2017 December 6\",\" In a speech at the White House, President Trump announces that the US now recognizes Jerusalem as Israel's capital.\", \"US recognire Jerusalem as Israel's capital\"),\n",
    "]\n",
    "l_2018 = [\n",
    "    (\"2018 January 11\",\"\\\"Shitholegate\\\" During a meeting with lawmakers about immigration, President Trump is reported to have asked, \\\"Why are we having all these people from shithole countries come here?\\\" His remarks are condemned as \\\"racist\\\" and \\\"shocking\\\" by a UN spokesman. (comp. Donald Trump racial views) The government of Botswana demands a clarification, and Ambassador Earl R. Miller is asked if the USDS regards Botswana as a \\\"shithole\\\" country.\", \"Shitholegate\"),\n",
    "    (\"2018 January 20\",\"Senate Democrats block a bill that would have kept the government running until mid-February and the government shutdown of January 2018 begins. \", \"Government shutdown\"),\n",
    "    (\"2018 February 14\",\" Marjory Stoneman Douglas High School in Parkland, Florida mass shooting\", \"Marjory Stoneman Douglas High School shooting\"),\n",
    "    (\"2018 March 22\",\"President Trump announces tariffs on up to $60bn in Chinese goods and plans to limit the country's investment in the US. The Dow Jones falls sharply in response.\", \"Tariffs against China\"),\n",
    "    (\"2018 June 18\",\"70 former U.S. Attorneys deliver a letter to Jeff Sessions, urging that he end his \\\"dangerous, expensive, zero tolerance\\\" migrant policy, which separates children at the border, calling it \\\"inconsistent with the values of the institution in which we served.\\\"\", \"Opposition to new migration policy\"),\n",
    "    (\"2018 June 19\",\"The United States announces that it will withdraw from the United Nations Human Rights Council.\", \"Announcement of US withdrawal from UNHCR\"),\n",
    "    (\"2018 August 1\",\"President Trump calls for the Russia investigation to end \\\"right now\\\", urging Attorney General Jeff Sessions to halt the inquiry into alleged election meddling, while accusing special counsel Robert Mueller of being \\\"totally conflicted\\\".\", \"Trump opposed to russian interference investigation\"),\n",
    "    (\"2018 October 2\",\"The Washington Post journalist Jamal Khashoggi is murdered inside the Saudi consulate in Istanbul, triggering a diplomatic crisis between the U.S. and Saudi Arabia.\", \"Murder of Jamal Kashoggi\"),\n",
    "    (\"2018 October 20\",\"President Trump announces that the US will \\\"terminate\\\" the Intermediate-Range Nuclear Forces Treaty over alleged Russian violations.\", \"US withdrawal of IRNFT treaty\"),\n",
    "    (\"2018 October 29\",\"Migrant caravan. 800 U.S. soldiers are deployed to the Mexico–United States border as a part of Operation Faithful Patriot, reinforcing the border against incoming Central American migrant caravans.\", \"US troops deployed to stop migrant caravans\"),\n",
    "    (\"2018 November 6\",\"Midterm elections\", \"Midterm elections\"),\n",
    "    (\"2018 December 13\",\"In a rare rebuke to the White House, the Senate votes 56–41 to end US military assistance to Saudi Arabia's intervention in Yemen over alleged war crimes. It passes a separate resolution that holds Saudi Crown Prince Mohammed bin Salman personally responsible for the death of Saudi dissident Jamal Kashoggi.\", \"US stops military assistance to Saudi Arabia\"),\n",
    "]\n",
    "l_2019 = [\n",
    "    (\"2019 January 3\", \"The Democrats take control of the House of Representatives, with a promise to end the government shutdown, but without funding for President Donald Trump's proposed border wall. The Republicans increase their control of the United States Senate.\", \"Democrats in majority in the House of Representatives\"),\n",
    "    (\"2019 January\", \"start of the 2020 presidential campaign\", \"2020 presidential campaign starts\"),\n",
    "    (\"2019 January 28\", \"The Justice Department charges Chinese tech firm Huawei with multiple counts of fraud, raising U.S.China tensions.\", \"Huawei accused of fraud\"),\n",
    "    (\"2019 March 22\", \"Special Counsel Robert Mueller turns in the report of his nearly two-year investigation on whether the Trump campaign helped Russia interfere in the 2016 presidential election.\", \"Mueller investigation given to Congress\"),\n",
    "    (\"2019 April 18\", \"A redacted version of the final Mueller Report is released by Attorney General William Barr to Congress and the general public. The report goes into detail on findings from the 2017-2019 Special Counsel probe regarding Russian contacts with the 2016 Donald Trump election campaign and matters regarding obstruction of justice by President Trump himself.\", \"Redacted version of Mueller Report made available to the public\"),\n",
    "    (\"2019 July 6\", \"Billionaire financier and registered sex offender Jeffrey Epstein is arrested on federal charges of sex trafficking and additionally charged by the Southern District of New York with sex trafficking and with conspiracy to traffic minors in Florida and New York.\", \"Jeffrey Epstein arrested\"),\n",
    "    (\"2019 August 3\", \"El Paso shooting: A mass shooting occurs at a Walmart near the Cielo Vista Mall in El Paso, Texas, resulting in 23 fatalities and 23 injured.\", \"El Paso shooting\"),\n",
    "    (\"2019 August 12\", \"The Trump administration issues new rules that reject applicants for temporary or permanent visas for failing to meet income standards or for receiving public assistance such as welfare, food stamps, public housing or Medicaid.\", \"New rules for visa applications\"),\n",
    "    (\"2019 September 24\", \"Speaker of the House Nancy Pelosi announces the start of a formal impeachment inquiry against President Trump.\", \"Start of impeachment inquiry against Pres. D. Trump\"),\n",
    "    (\"2019 October 3\", \"President Trump calls on Ukraine and China to investigate former Vice President Joe Biden and his son Hunter Biden.\", \"Trump asks other countries to investigate J. Biden\"),\n",
    "    (\"2019 December 1\", \"The White House announces that President Donald Trump will not participate in the House Judiciary Committee impeachment hearing on December 3.\", \"D. Trump refuses to appear for to his impeachment hearing\"),\n",
    "    (\"2019 December 3\", \"The House Intelligence Committee releases a report accusing President Donald Trump of using his office to further his personal interests.\", \"Allegations of abuse of power from D. Trump\"),\n",
    "    (\"2019 December 6\", \"The House of Representatives approves 228-187 to restore parts of the Voting Rights Act of 1965. President Trump threatens to veto if the bill is approved by the Senate.\", \"House of Representatives opposes Trump administration\"),\n",
    "    (\"2019 December 10\", \"Democrats in the House of Representatives announce formal charges against President Trump that accuse him of abusing power and obstructing Congress, making him the fourth U.S. president in history to face impeachment.\", \"Democrats accuse Trump of abusing power\"),\n",
    "    (\"2019 December 18\", \"The U.S. House of Representatives votes largely along party lines to forward two articles of impeachment against President Donald Trump to the Senate, accusing him of abuse of power and obstructing Congress. Donald Trump becomes the third U.S. president to be impeached by the House.\", \"Democrats continue impeachment procedure\"),\n",
    "]\n",
    "l_2020 = [\n",
    "    (\"2020 January 3 \",\"2019–2021 Persian Gulf crisis: President Donald Trump approves the targeted killing of Iranian general Qasem Soleimani and Iraqi paramilitary leader Abu Mahdi al-Muhandis in Baghdad, Iraq.\", \"Murder of Iranian general Qasem Soleimani\"),\n",
    "    (\"2020 January 9 \",\"Persian Gulf crisis: The House of Representatives votes 224–194 to pass a non-binding War Powers Resolution to limit the president's ability to pursue military actions against Iran without congressional consent.\", \"House of Representatives limits Pres. power to start war\"),\n",
    "    (\"2020 January 14 \",\"The seventh Democratic presidential debate is held in Des Moines, Iowa. Six candidates participate.\", \"Seventh Democratic debate\"),\n",
    "    (\"2020 January 16 \",\"The impeachment trial of President Donald Trump begins in the U.S. Senate.\", \"First impeachment trial begins\"),\n",
    "    (\"2020 January 21 \",\"COVID-19 pandemic: The first case of COVID-19 in the United States is confirmed by the Centers for Disease Control and Prevention (CDC).\", \"First case of COVID-19 discovered in the US\"),\n",
    "    (\"2020 february 5 \",\"The impeachment trial of President Donald Trump concludes with the Senate voting 52–48 to acquit on the first article of impeachment and 53–47 on the second charge. Utah Senator Mitt Romney becomes the first ever senator to vote to remove a president of their own political party.\", \"Trump acquitted\"),\n",
    "]"
   ]
  },
  {
   "cell_type": "code",
   "execution_count": 26,
   "id": "c3e1f40f-fa8d-43c1-873f-87c83a2e0a9d",
   "metadata": {},
   "outputs": [
    {
     "name": "stdout",
     "output_type": "stream",
     "text": [
      "64 events in list\n"
     ]
    }
   ],
   "source": [
    "# Aggregate everything in a single list\n",
    "events_lst = []\n",
    "for lst in [l_2015, l_2016, l_2017, l_2018, l_2019, l_2020]:\n",
    "    [events_lst.append(event) for event in lst]\n",
    "print(len(events_lst), \"events in list\")"
   ]
  },
  {
   "cell_type": "code",
   "execution_count": 27,
   "id": "b906c78a-8651-4e99-ae71-7cb0fe7bd335",
   "metadata": {},
   "outputs": [
    {
     "name": "stdout",
     "output_type": "stream",
     "text": [
      "<class 'pandas.core.frame.DataFrame'>\n",
      "RangeIndex: 64 entries, 0 to 63\n",
      "Data columns (total 3 columns):\n",
      " #   Column      Non-Null Count  Dtype         \n",
      "---  ------      --------------  -----         \n",
      " 0   date        64 non-null     datetime64[ns]\n",
      " 1   desc        64 non-null     object        \n",
      " 2   short_desc  64 non-null     object        \n",
      "dtypes: datetime64[ns](1), object(2)\n",
      "memory usage: 1.6+ KB\n"
     ]
    },
    {
     "data": {
      "text/plain": [
       "None"
      ]
     },
     "metadata": {},
     "output_type": "display_data"
    },
    {
     "data": {
      "text/html": [
       "<div>\n",
       "<style scoped>\n",
       "    .dataframe tbody tr th:only-of-type {\n",
       "        vertical-align: middle;\n",
       "    }\n",
       "\n",
       "    .dataframe tbody tr th {\n",
       "        vertical-align: top;\n",
       "    }\n",
       "\n",
       "    .dataframe thead th {\n",
       "        text-align: right;\n",
       "    }\n",
       "</style>\n",
       "<table border=\"1\" class=\"dataframe\">\n",
       "  <thead>\n",
       "    <tr style=\"text-align: right;\">\n",
       "      <th></th>\n",
       "      <th>date</th>\n",
       "      <th>desc</th>\n",
       "      <th>short_desc</th>\n",
       "    </tr>\n",
       "  </thead>\n",
       "  <tbody>\n",
       "    <tr>\n",
       "      <th>8</th>\n",
       "      <td>2015-12-02</td>\n",
       "      <td>2015 San Bernardino attack: 14 people are kill...</td>\n",
       "      <td>San Bernardino shooting</td>\n",
       "    </tr>\n",
       "    <tr>\n",
       "      <th>32</th>\n",
       "      <td>2018-01-20</td>\n",
       "      <td>Senate Democrats block a bill that would have ...</td>\n",
       "      <td>Government shutdown</td>\n",
       "    </tr>\n",
       "    <tr>\n",
       "      <th>33</th>\n",
       "      <td>2018-02-14</td>\n",
       "      <td>Marjory Stoneman Douglas High School in Parkl...</td>\n",
       "      <td>Marjory Stoneman Douglas High School shooting</td>\n",
       "    </tr>\n",
       "  </tbody>\n",
       "</table>\n",
       "</div>"
      ],
      "text/plain": [
       "         date                                               desc  \\\n",
       "8  2015-12-02  2015 San Bernardino attack: 14 people are kill...   \n",
       "32 2018-01-20  Senate Democrats block a bill that would have ...   \n",
       "33 2018-02-14   Marjory Stoneman Douglas High School in Parkl...   \n",
       "\n",
       "                                       short_desc  \n",
       "8                         San Bernardino shooting  \n",
       "32                            Government shutdown  \n",
       "33  Marjory Stoneman Douglas High School shooting  "
      ]
     },
     "metadata": {},
     "output_type": "display_data"
    }
   ],
   "source": [
    "# Transform to dataframe\n",
    "events = pd.DataFrame(events_lst, columns=[\"date\", \"desc\", \"short_desc\"])\n",
    "events[\"date\"] = pd.to_datetime(events[\"date\"]) \n",
    "display(events.info())\n",
    "display(events.sample(3))"
   ]
  },
  {
   "cell_type": "code",
   "execution_count": 28,
   "id": "12c5c8f7-6e00-42b8-8877-01c4d00b7760",
   "metadata": {},
   "outputs": [],
   "source": [
    "# Save as csv\n",
    "events.to_csv(os.path.join(EVENTS_PATH, \"events.csv\"))"
   ]
  },
  {
   "cell_type": "code",
   "execution_count": null,
   "id": "b0b32b14-590c-48ca-a915-e6e5ec3ca9d6",
   "metadata": {},
   "outputs": [],
   "source": []
  }
 ],
 "metadata": {
  "kernelspec": {
   "display_name": "Python 3 (ipykernel)",
   "language": "python",
   "name": "python3"
  },
  "language_info": {
   "codemirror_mode": {
    "name": "ipython",
    "version": 3
   },
   "file_extension": ".py",
   "mimetype": "text/x-python",
   "name": "python",
   "nbconvert_exporter": "python",
   "pygments_lexer": "ipython3",
   "version": "3.9.5"
  }
 },
 "nbformat": 4,
 "nbformat_minor": 5
}
