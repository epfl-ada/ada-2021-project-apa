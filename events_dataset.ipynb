{
 "cells": [
  {
   "cell_type": "markdown",
   "id": "78e143b8-5d73-4fea-8291-943edb1fa79a",
   "metadata": {},
   "source": [
    "# Events dataset\n",
    "\n",
    "Investigation over multiple possible sources:\n",
    "- GDELT https://www.gdeltproject.org (not adapted)\n",
    "- ACLED https://acleddata.com/\n",
    "- Wikipedia (confirmed)"
   ]
  },
  {
   "cell_type": "code",
   "execution_count": 1,
   "id": "7103e1c3-ce99-4e45-b1f1-7ce4924b9fb9",
   "metadata": {},
   "outputs": [],
   "source": [
    "# Notebook config\n",
    "%config Completer.use_jedi = False"
   ]
  },
  {
   "cell_type": "code",
   "execution_count": 8,
   "id": "122a7bec-af2b-4c25-b61a-77929fd5955c",
   "metadata": {},
   "outputs": [],
   "source": [
    "import sys   \n",
    "import os\n",
    "from datetime import datetime\n",
    "import re\n",
    "\n",
    "import asyncio\n",
    "import aiohttp \n",
    "import aiofiles \n",
    "\n",
    "import pandas as pd\n",
    "import requests\n",
    "import tqdm.asyncio\n",
    "from bs4 import BeautifulSoup"
   ]
  },
  {
   "cell_type": "code",
   "execution_count": 9,
   "id": "0e62ab76-758a-412b-9432-f098d92e577b",
   "metadata": {},
   "outputs": [],
   "source": [
    "# Configuration\n",
    "DATA_PATH = \"data\"\n",
    "PKL_PATH = os.path.join(DATA_PATH, \"pkl\")\n",
    "CSV_PATH = os.path.join(DATA_PATH, \"csv\")\n",
    "RESOURCES_PATH = os.path.join(DATA_PATH, \"resources\")\n",
    "EVENTS_PATH = os.path.join(DATA_PATH, \"events\")"
   ]
  },
  {
   "cell_type": "markdown",
   "id": "e176cf36-a4d8-406b-8143-6d24a7900288",
   "metadata": {
    "jp-MarkdownHeadingCollapsed": true,
    "tags": []
   },
   "source": [
    "## 1. GDELT \n",
    "https://www.gdeltproject.org/data.html#rawdatafiles\n",
    "\n",
    "Need to scrape the page to get the links and download each file.\n",
    "Use async - await to make it a lot faster."
   ]
  },
  {
   "cell_type": "code",
   "execution_count": 2,
   "id": "4400f29a-2a56-4d67-82ba-c877fc6eff01",
   "metadata": {},
   "outputs": [],
   "source": [
    "def parse_date(date_str):\n",
    "    \"\"\"\n",
    "    Parse date from string\n",
    "    \"\"\"\n",
    "    try:\n",
    "        date_str = date_str.strip(\".export.CSV.zip\")\n",
    "        date = datetime.strptime(date_str, \"%Y%m%d\")\n",
    "    except ValueError:\n",
    "        return\n",
    "    return date\n",
    "\n",
    "def in_time_range(date):\n",
    "    \"\"\"\n",
    "    Return true if date is in time range\n",
    "    \"\"\" \n",
    "    return bool(start_time <= date <= end_time)\n",
    "\n",
    "def gen_link(a):\n",
    "    \"\"\"\n",
    "    Get link from a html tag\n",
    "    \"\"\"\n",
    "    base = \"http://data.gdeltproject.org/events/\"\n",
    "    date = parse_date(a.text)\n",
    "    \n",
    "    if not date:\n",
    "        return\n",
    "    \n",
    "    if in_time_range(date):\n",
    "        return base + a.text\n",
    "    return \n",
    " \n",
    "def get_urls():\n",
    "    \"\"\"\n",
    "    Retrieve file urls from GDELT's website\n",
    "    \"\"\"\n",
    "    url = \"http://data.gdeltproject.org/events/index.html\"\n",
    "    r = requests.get(url)\n",
    "    soup = BeautifulSoup(r.content, 'html.parser')\n",
    "    \n",
    "    # Get the <a> html elements\n",
    "    ax = soup.find_all(\"a\")\n",
    "    # Remove 3 first elems\n",
    "    for _ in range(3):\n",
    "        ax.pop(0)\n",
    "    \n",
    "    # Generate URLs from html tag\n",
    "    urls = []\n",
    "    for a in ax:\n",
    "        new_a = gen_link(a)\n",
    "        if new_a:\n",
    "            urls.append(new_a)\n",
    "    return urls"
   ]
  },
  {
   "cell_type": "code",
   "execution_count": 3,
   "id": "f5f1abed-a328-49f9-984e-9d40727c8564",
   "metadata": {},
   "outputs": [],
   "source": [
    "async def fetch_file(url, dirpath):\n",
    "    \"\"\"\n",
    "    Download files asynchronously\n",
    "    \"\"\"\n",
    "    fname = url.split(\"/\")[-1]\n",
    "    fpath = os.path.join(dirpath, fname)\n",
    "    # Don't redownload if file already exists\n",
    "    if os.path.exists(fpath):\n",
    "        return\n",
    "    \n",
    "    async with sema, aiohttp.ClientSession() as session:\n",
    "        async with session.get(url) as resp:\n",
    "            assert resp.status == 200\n",
    "            data = await resp.read()\n",
    "\n",
    "    async with aiofiles.open(\n",
    "        fpath, \"wb\"\n",
    "    ) as outfile:\n",
    "        await outfile.write(data)"
   ]
  },
  {
   "cell_type": "code",
   "execution_count": null,
   "id": "5a9270f8-a280-4143-bc71-698715b66829",
   "metadata": {},
   "outputs": [],
   "source": [
    "# Check that directory exists\n",
    "if not os.path.exists(EVENTS_PATH):\n",
    "    os.mkdir(\"./data/events\")\n",
    "\n",
    "# Update timerange of interest\n",
    "# %Y, %m, %d\n",
    "start_time = datetime(2015, 1, 1)\n",
    "end_time = datetime(2020, 12, 31) \n",
    "\n",
    "# Get file urls\n",
    "urls = get_urls()\n",
    "# Sanity check\n",
    "print(f\"len: {len(urls)} \\nfirst link: {urls[0]} \\nlast link: {urls[-1]}\")\n",
    "\n",
    "# Download the files\n",
    "sema = asyncio.BoundedSemaphore(5)\n",
    "loop = asyncio.get_event_loop()\n",
    "tasks = [loop.create_task(fetch_file(url, EVENTS_PATH)) for url in urls]\n",
    "\n",
    "for fetch in tqdm.asyncio.tqdm.as_completed(tasks):\n",
    "    await fetch\n",
    "\n",
    "print(\"Done\")"
   ]
  },
  {
   "cell_type": "markdown",
   "id": "b8a38373-0b2c-4be2-bf19-4ef7b9ca8513",
   "metadata": {},
   "source": [
    "The data is actually not what I expected, it would take too much time to make it usable."
   ]
  },
  {
   "cell_type": "markdown",
   "id": "6e61f553-6201-4dcf-8f9b-d4b0051126c6",
   "metadata": {
    "tags": []
   },
   "source": [
    "## 2. ACLED\n",
    "https://acleddata.com/\n",
    "\n",
    "Could export file specific to US using their website:\n",
    "`2015-01-01-2020-12-31-North_America-United_States.csv`"
   ]
  },
  {
   "cell_type": "code",
   "execution_count": 27,
   "id": "c5e6b54b-ee6f-41f9-a0a5-95d271680223",
   "metadata": {},
   "outputs": [
    {
     "name": "stdout",
     "output_type": "stream",
     "text": [
      "<class 'pandas.core.frame.DataFrame'>\n",
      "RangeIndex: 26238 entries, 0 to 26237\n",
      "Data columns (total 28 columns):\n",
      " #   Column            Non-Null Count  Dtype  \n",
      "---  ------            --------------  -----  \n",
      " 0   data_id           26238 non-null  int64  \n",
      " 1   iso               26238 non-null  int64  \n",
      " 2   event_id_cnty     26238 non-null  object \n",
      " 3   event_id_no_cnty  26238 non-null  int64  \n",
      " 4   event_date        26238 non-null  object \n",
      " 5   year              26238 non-null  int64  \n",
      " 6   time_precision    26238 non-null  int64  \n",
      " 7   event_type        26238 non-null  object \n",
      " 8   sub_event_type    26238 non-null  object \n",
      " 9   actor1            26238 non-null  object \n",
      " 10  assoc_actor_1     18110 non-null  object \n",
      " 11  inter1            26238 non-null  int64  \n",
      " 12  interaction       26238 non-null  int64  \n",
      " 13  region            26238 non-null  object \n",
      " 14  country           26238 non-null  object \n",
      " 15  admin1            26238 non-null  object \n",
      " 16  admin2            26192 non-null  object \n",
      " 17  admin3            0 non-null      float64\n",
      " 18  location          26238 non-null  object \n",
      " 19  latitude          26238 non-null  float64\n",
      " 20  longitude         26238 non-null  float64\n",
      " 21  geo_precision     26238 non-null  int64  \n",
      " 22  source            26238 non-null  object \n",
      " 23  source_scale      26238 non-null  object \n",
      " 24  notes             26238 non-null  object \n",
      " 25  fatalities        26238 non-null  int64  \n",
      " 26  timestamp         26238 non-null  int64  \n",
      " 27  iso3              26238 non-null  object \n",
      "dtypes: float64(3), int64(10), object(15)\n",
      "memory usage: 5.6+ MB\n"
     ]
    }
   ],
   "source": [
    "df = pd.read_csv(os.path.join(EVENTS_PATH, \"2015-01-01-2020-12-31-North_America-United_States.csv\"))\n",
    "df.info()"
   ]
  },
  {
   "cell_type": "markdown",
   "id": "039f4b82-22ec-4bf0-909f-85ee6387d489",
   "metadata": {},
   "source": [
    "Need to find a way to filter out those events and only retain the biggest ones."
   ]
  },
  {
   "cell_type": "code",
   "execution_count": 41,
   "id": "f1157079-b24c-4b0b-8676-5ebac2e8f0b4",
   "metadata": {},
   "outputs": [
    {
     "data": {
      "text/plain": [
       "array([2020])"
      ]
     },
     "execution_count": 41,
     "metadata": {},
     "output_type": "execute_result"
    }
   ],
   "source": [
    "df[\"year\"].unique()"
   ]
  },
  {
   "cell_type": "markdown",
   "id": "e0022528-76b9-4767-9de3-482f0c6c8c3d",
   "metadata": {},
   "source": [
    "Even though not mentioned directly, they only provide data since 2020 for the US. So unusable too."
   ]
  },
  {
   "cell_type": "markdown",
   "id": "9efcdfe9-8a3a-4b30-82c8-6519a45fb72e",
   "metadata": {
    "tags": []
   },
   "source": [
    "## 3. Wikipedia dataset\n",
    "https://en.wikipedia.org/wiki/2020_in_United_States_politics_and_government\n"
   ]
  },
  {
   "cell_type": "code",
   "execution_count": 93,
   "id": "1fab3225-9513-41f4-a111-09dacf97fd56",
   "metadata": {},
   "outputs": [],
   "source": [
    "l_2015 = [ \n",
    "    (\"2015 March 25\",\"Indiana Governor Mike Pence signs Indiana SB 101 into law, prompting a national debate over religious freedom and LGBT rights. After a week of public outcry, the law is modified and similar bills in Arkansas, North Carolina, Georgia, and North Dakota fail to pass their state legislatures.\", \"LGBT debate\"), \n",
    "    (\"2015 April 11\", \" President Barack Obama and Cuban President Raúl Castro discuss historic proposed normalizations to Cuba-United States relations at the 7th Summit of the Americas in Panama City, Panama.\", \"US-Cuba relations start again\"), \n",
    "    (\"2015 April\", \"start of the 2016 presidential campaign\", \"2016 presidential campaign\"), \n",
    "    (\"2015 April 25\", \" Protests in Baltimore, Maryland from Baltimore City Hall to the Inner Harbor against the April 19 death of Freddie Gray in police custody soon turn violent, with extensive property damage, looting, numerous arrests, and injuries of both police officers and citizens being reported. Maryland Governor Larry Hogan declares a state of emergency in the city and deploys the Maryland National Guard in response.\", \"Baltimore protests\"), \n",
    "    (\"2015 May 22\",\" The State Department begins publishing the e-mails of Hillary Clinton, mostly concerning the 2012 Benghazi attack, that drew controversy earlier in the year when it was revealed that Clinton had been using a private e-mail server for work-related communications during her time as Secretary of State.\", \"H. Clinton email's controversy\"), \n",
    "    (\"2015 June 26\",\" In a 5, 4 decision, the U.S. Supreme Court rules that the Constitution guarantees a right to same-sex marriage in the United States. Justice Anthony Kennedy wrote the majority opinion, joined by Justices Ruth Bader Ginsburg, Stephen Breyer, Sonia Sotomayor and Elena Kagan.\", \"Same-sex marriage supreme court rule\"), \n",
    "    (\"2015 October 1\",\"26-year-old Christopher Harper-Mercer opens fire at Umpqua Community College in Roseburg, Oregon. killing 9 people and injuring 9 others. It is the largest shooting at a college since the Virginia Tech massacre in 2007.\", \"Umpqua Community College shooting\"), \n",
    "    (\"2015 October 29\", \" Representative Paul Ryan takes over for John Boehner as Speaker of the House of Representatives after being elected following Boehner's resignation.\", \"Paul Ryan (rep.) elected Speaker of the House of Representatives\"), \n",
    "    (\"2015 December 2\",\"2015 San Bernardino attack: 14 people are killed in a terrorist attack at a facility for the mentally disabled in San Bernardino, California. It is the deadliest mass shooting in the United States in 2015, and the deadliest since 2012.\", \"San Bernardino shooting\"),\n",
    "]\n",
    "l_2016 = [\n",
    "    (\"2016 February 9 \",\" The New Hampshire primaries are held. Donald Trump wins the Republican primary, and Bernie Sanders wins the Democratic primary.\", \"New Hampshire primaries won by D. Trump\"),\n",
    "    (\"2016 March 1 \",\" Super Tuesday\", \"Super Tuesday\"),\n",
    "    (\"2016 March 16 \",\" President Obama nominates Merrick Garland to replace Antonin Scalia on the Supreme Court.\", \"Merrick Garland Supreme Court nomination\"),\n",
    "    (\"2016 May 4 \",\" John Kasich suspends his presidential campaign, leaving Donald Trump the presumptive Republican nominee.\", \"D. Trump is last rep. nominee\"),\n",
    "    (\"2016 May 25 \",\" An audit by the State Department Inspector General finds that Hillary Clinton violated directives from the department in her use of a private email server for government business during her time as Secretary of State. The Inspector General says that Clinton did not request approval to use the private server, and that such a request would have been denied because of security risks.\", \"Investigation against H. Clinton over private email use\"),\n",
    "    (\"2016 June 12 \",\"Orlando shooting\", \"Orlando shooting\"),\n",
    "    (\"2016 June 22\", \"Members of the House Democratic Caucus, led by Representative John Lewis (D-Georgia) and Representative Katherine Clark (D-Massachusetts) declare their intention to remain on the floor of the House of Representatives until its Republican Speaker, Paul Ryan, allows votes on gun control legislation in the aftermath of the Orlando nightclub shooting. The sit-in is staged by about 60 legislators.\", \"Democrat Representatives protest in House of Representatives\"),\n",
    "    (\"2016 July 8 \",\" Despite the conclusions of the FBI and attorney general, the State Department reopens its investigation into Hillary Clinton's use of a private email server.\", \"FBI reopens investigation on H. Clinton\"),\n",
    "    (\"2016 September 21 \",\" Charlotte protests\", \"Charlotte protests\"),\n",
    "    (\"2016 September 26 \",\" Presidential candidates Donald Trump and Hillary Clinton take part in their first live televised debate, with an estimated audience of up to 100 million viewers.\", \"Presidential debate betwenn D. Trump and H. Clinton\"),\n",
    "    (\"2016 November 8 \",\" 2016 presidential Election\", \"2016 Presidential Election\"),\n",
    "    (\"2016 December 2 \",\"Donald Trump becomes the first US president or president-elect since 1979 to make direct contact with the President of Taiwan, upsetting Chinese diplomats and sparking concern over whether Trump will uphold the \\\"One China policy\\\" at the foundation of China-U.S. relations.\", \"D. Trump visits Taiwan\"),\n",
    "    (\"2016 December 31 \",\" United States troops withdraw from Afghanistan, leaving behind 8,400 troops stationed at 4 garrisons (Kabul, Kandahar, Bagram, and Jalalabad).\", \"US troosp withdraw from Afghanistan\"),\n",
    "]\n",
    "l_2017 = [\n",
    "    (\"2017 January 6\",\" After briefing President Barack Obama, the United States Senate, and President-elect Donald Trump, the United States Intelligence Community releases a declassified version of its investigation into Russia's interference in the 2016 presidential election. The report asserts that Russia carried out a massive cyber operation on orders from President Vladimir Putin to influence the election in favor of Trump in a multipronged attack consisting of hacking the Democratic National Committee, use of social media and Internet trolls to spread misinformation, and open propaganda on Russian state media outlets. Trump asserts that the outcome of the election was not affected by the interference, but nonetheless announces his intention to appoint a team to combat international cyber attacks within his first 90 days in office.\", \"Allegations of russian interference in presidential election\"),\n",
    "    (\"2017 January 20\",\" Donald Trump is sworn in as the 45th President of the United States, and Mike Pence is sworn in as Vice President of the United States.\", \"D. Trump sworn as President\"),\n",
    "    (\"2017 May \",\" FBI chief James Comey is fired by Trump for mishandling of the Hillary Clinton email controversy. However, critics accuse Trump of attempting to subvert the ongoing FBI investigation into possible ties between Russia and the Trump campaign.\", \"FBI chief James Comey fired\"),\n",
    "    (\"2017 June 17\",\"Charleston church shooting\", \"Charleston church shooting\"),\n",
    "    (\"2017 July 18\",\"The US Senate votes to start debating a new Republican healthcare bill to replace Obamacare.\", \"Senate votes on new Republican healthcare bill\"),\n",
    "    (\"2017 September 5\",\" The Trump administration announces that the Deferred Action for Childhood Arrivals (DACA) immigration policy, which was set by the Obama administration in 2012, will be scrapped.\", \"New immigration policy bill by Trump administration\"),\n",
    "    (\"2017 October 1\",\" Las Vegas mass shooting\", \"Las Vegas mass shooting\"),\n",
    "    (\"2017 December 2\",\" San Bernardino shooting\", \"San Bernardino shooting\"),\n",
    "    (\"2017 December 6\",\" In a speech at the White House, President Trump announces that the US now recognizes Jerusalem as Israel's capital.\", \"US recognire Jerusalem as Israel's capital\"),\n",
    "]\n",
    "l_2018 = [\n",
    "    (\"2018 January 11\",\"\\\"Shitholegate\\\" During a meeting with lawmakers about immigration, President Trump is reported to have asked, \\\"Why are we having all these people from shithole countries come here?\\\" His remarks are condemned as \\\"racist\\\" and \\\"shocking\\\" by a UN spokesman. (comp. Donald Trump racial views) The government of Botswana demands a clarification, and Ambassador Earl R. Miller is asked if the USDS regards Botswana as a \\\"shithole\\\" country.\", \"Shitholegate\"),\n",
    "    (\"2018 January 20\",\"Senate Democrats block a bill that would have kept the government running until mid-February and the government shutdown of January 2018 begins. \", \"Government shutdown\"),\n",
    "    (\"2018 February 14\",\" Marjory Stoneman Douglas High School in Parkland, Florida mass shooting\", \"Marjory Stoneman Douglas High School shooting\"),\n",
    "    (\"2018 March 22\",\"President Trump announces tariffs on up to $60bn in Chinese goods and plans to limit the country's investment in the US. The Dow Jones falls sharply in response.\", \"Tariffs against China\"),\n",
    "    (\"2018 June 18\",\"70 former U.S. Attorneys deliver a letter to Jeff Sessions, urging that he end his \\\"dangerous, expensive, zero tolerance\\\" migrant policy, which separates children at the border, calling it \\\"inconsistent with the values of the institution in which we served.\\\"\", \"Opposition to new migration policy\"),\n",
    "    (\"2018 June 19\",\"The United States announces that it will withdraw from the United Nations Human Rights Council.\", \"Announcement of US withdrawal from UNHCR\"),\n",
    "    (\"2018 August 1\",\"President Trump calls for the Russia investigation to end \\\"right now\\\", urging Attorney General Jeff Sessions to halt the inquiry into alleged election meddling, while accusing special counsel Robert Mueller of being \\\"totally conflicted\\\".\", \"Trump opposed to russian interference investigation\"),\n",
    "    (\"2018 October 2\",\"The Washington Post journalist Jamal Khashoggi is murdered inside the Saudi consulate in Istanbul, triggering a diplomatic crisis between the U.S. and Saudi Arabia.\", \"Murder of Jamal Kashoggi\"),\n",
    "    (\"2018 October 20\",\"President Trump announces that the US will \\\"terminate\\\" the Intermediate-Range Nuclear Forces Treaty over alleged Russian violations.\", \"US withdrawal of IRNFT treaty\"),\n",
    "    (\"2018 October 29\",\"Migrant caravan. 800 U.S. soldiers are deployed to the Mexico–United States border as a part of Operation Faithful Patriot, reinforcing the border against incoming Central American migrant caravans.\", \"US troops deployed to stop migrant caravans\"),\n",
    "    (\"2018 November 6\",\"Midterm elections\", \"Midterm elections\"),\n",
    "    (\"2018 December 13\",\"In a rare rebuke to the White House, the Senate votes 56–41 to end US military assistance to Saudi Arabia's intervention in Yemen over alleged war crimes. It passes a separate resolution that holds Saudi Crown Prince Mohammed bin Salman personally responsible for the death of Saudi dissident Jamal Kashoggi.\", \"US stops military assistance to Saudi Arabia\"),\n",
    "]\n",
    "l_2019 = [\n",
    "    (\"2019 January 3\", \"The Democrats take control of the House of Representatives, with a promise to end the government shutdown, but without funding for President Donald Trump's proposed border wall. The Republicans increase their control of the United States Senate.\", \"Democrats in majority in the House of Representatives\"),\n",
    "    (\"2019 January\", \"start of the 2020 presidential campaign\", \"2020 presidential campaign starts\"),\n",
    "    (\"2019 January 28\", \"The Justice Department charges Chinese tech firm Huawei with multiple counts of fraud, raising U.S.China tensions.\", \"Huawei accused of fraud\"),\n",
    "    (\"2019 March 22\", \"Special Counsel Robert Mueller turns in the report of his nearly two-year investigation on whether the Trump campaign helped Russia interfere in the 2016 presidential election.\", \"Mueller investigation given to Congress\"),\n",
    "    (\"2019 April 18\", \"A redacted version of the final Mueller Report is released by Attorney General William Barr to Congress and the general public. The report goes into detail on findings from the 2017-2019 Special Counsel probe regarding Russian contacts with the 2016 Donald Trump election campaign and matters regarding obstruction of justice by President Trump himself.\", \"Redacted version of Mueller Report made available to the public\"),\n",
    "    (\"2019 July 6\", \"Billionaire financier and registered sex offender Jeffrey Epstein is arrested on federal charges of sex trafficking and additionally charged by the Southern District of New York with sex trafficking and with conspiracy to traffic minors in Florida and New York.\", \"Jeffrey Epstein arrested\"),\n",
    "    (\"2019 August 3\", \"El Paso shooting: A mass shooting occurs at a Walmart near the Cielo Vista Mall in El Paso, Texas, resulting in 23 fatalities and 23 injured.\", \"El Paso shooting\"),\n",
    "    (\"2019 August 12\", \"The Trump administration issues new rules that reject applicants for temporary or permanent visas for failing to meet income standards or for receiving public assistance such as welfare, food stamps, public housing or Medicaid.\", \"New rules for visa applications\"),\n",
    "    (\"2019 September 24\", \"Speaker of the House Nancy Pelosi announces the start of a formal impeachment inquiry against President Trump.\", \"Start of impeachment inquiry against Pres. D. Trump\"),\n",
    "    (\"2019 October 3\", \"President Trump calls on Ukraine and China to investigate former Vice President Joe Biden and his son Hunter Biden.\", \"Trump asks other countries to investigate J. Biden\"),\n",
    "    (\"2019 December 1\", \"The White House announces that President Donald Trump will not participate in the House Judiciary Committee impeachment hearing on December 3.\", \"D. Trump refuses to appear for to his impeachment hearing\"),\n",
    "    (\"2019 December 3\", \"The House Intelligence Committee releases a report accusing President Donald Trump of using his office to further his personal interests.\", \"Allegations of abuse of power from D. Trump\"),\n",
    "    (\"2019 December 6\", \"The House of Representatives approves 228-187 to restore parts of the Voting Rights Act of 1965. President Trump threatens to veto if the bill is approved by the Senate.\", \"House of Representatives opposes Trump administration\"),\n",
    "    (\"2019 December 10\", \"Democrats in the House of Representatives announce formal charges against President Trump that accuse him of abusing power and obstructing Congress, making him the fourth U.S. president in history to face impeachment.\", \"Democrats accuse Trump of abusing power\"),\n",
    "    (\"2019 December 18\", \"The U.S. House of Representatives votes largely along party lines to forward two articles of impeachment against President Donald Trump to the Senate, accusing him of abuse of power and obstructing Congress. Donald Trump becomes the third U.S. president to be impeached by the House.\", \"Democrats continue impeachment procedure\"),\n",
    "]\n",
    "l_2020 = [\n",
    "    (\"2020 January 3 \",\"2019–2021 Persian Gulf crisis: President Donald Trump approves the targeted killing of Iranian general Qasem Soleimani and Iraqi paramilitary leader Abu Mahdi al-Muhandis in Baghdad, Iraq.\", \"Murder of Iranian general Qasem Soleimani\"),\n",
    "    (\"2020 January 9 \",\"Persian Gulf crisis: The House of Representatives votes 224–194 to pass a non-binding War Powers Resolution to limit the president's ability to pursue military actions against Iran without congressional consent.\", \"House of Representatives limits Pres. power to start war\"),\n",
    "    (\"2020 January 14 \",\"The seventh Democratic presidential debate is held in Des Moines, Iowa. Six candidates participate.\", \"Seventh Democratic debate\"),\n",
    "    (\"2020 January 16 \",\"The impeachment trial of President Donald Trump begins in the U.S. Senate.\", \"First impeachment trial begins\"),\n",
    "    (\"2020 January 21 \",\"COVID-19 pandemic: The first case of COVID-19 in the United States is confirmed by the Centers for Disease Control and Prevention (CDC).\", \"First case of COVID-19 discovered in the US\"),\n",
    "    (\"2020 february 5 \",\"The impeachment trial of President Donald Trump concludes with the Senate voting 52–48 to acquit on the first article of impeachment and 53–47 on the second charge. Utah Senator Mitt Romney becomes the first ever senator to vote to remove a president of their own political party.\", \"Trumps acquitted\"),\n",
    "    (\"2020 April 22 \",\"COVID-19 pandemic: President Trump signs an immigration executive order halting the issuance of certain green cards for 60 days.\", \"Harder immigration policy\"),\n",
    "    (\"2020 May 25 \",\"Minneapolis police officer Derek Chauvin murders George Floyd, 46, by kneeling on his neck, as three other officers watch. Video of the incident goes viral and the four officers are subsequently fired.\", \"Start of George Floyd protests\"),\n",
    "    (\"2020 September 26 \",\"President Trump nominates Seventh Circuit Court of Appeals Judge Amy Coney Barrett to fill the vacant Supreme Court seat following the death of Judge Ruth Bader Ginsburg.\", \"Trump nominates new Federal judge\"),\n",
    "    (\"2020 November 3 \",\"presidential election\", \"2020 president election\"),\n",
    "    (\"2020 November 4 \",\"The United States formally withdraws from the Paris Agreement.\", \"US officially withdraw from Paris Agreement\"),\n",
    "    (\"2020 November 7 \",\"Joe biden won the election\", \"Joe Biden victory\"),\n",
    "]"
   ]
  },
  {
   "cell_type": "code",
   "execution_count": 94,
   "id": "c3e1f40f-fa8d-43c1-873f-87c83a2e0a9d",
   "metadata": {},
   "outputs": [
    {
     "name": "stdout",
     "output_type": "stream",
     "text": [
      "70 events in list\n"
     ]
    }
   ],
   "source": [
    "events_lst = []\n",
    "for lst in [l_2015, l_2016, l_2017, l_2018, l_2019, l_2020]:\n",
    "    [events_lst.append(event) for event in lst]\n",
    "print(len(events_lst), \"events in list\")"
   ]
  },
  {
   "cell_type": "code",
   "execution_count": 97,
   "id": "b906c78a-8651-4e99-ae71-7cb0fe7bd335",
   "metadata": {},
   "outputs": [
    {
     "name": "stdout",
     "output_type": "stream",
     "text": [
      "<class 'pandas.core.frame.DataFrame'>\n",
      "RangeIndex: 70 entries, 0 to 69\n",
      "Data columns (total 3 columns):\n",
      " #   Column       Non-Null Count  Dtype         \n",
      "---  ------       --------------  -----         \n",
      " 0   date         70 non-null     datetime64[ns]\n",
      " 1   description  70 non-null     object        \n",
      " 2   short_desc   70 non-null     object        \n",
      "dtypes: datetime64[ns](1), object(2)\n",
      "memory usage: 1.8+ KB\n"
     ]
    },
    {
     "data": {
      "text/plain": [
       "None"
      ]
     },
     "metadata": {},
     "output_type": "display_data"
    },
    {
     "data": {
      "text/html": [
       "<div>\n",
       "<style scoped>\n",
       "    .dataframe tbody tr th:only-of-type {\n",
       "        vertical-align: middle;\n",
       "    }\n",
       "\n",
       "    .dataframe tbody tr th {\n",
       "        vertical-align: top;\n",
       "    }\n",
       "\n",
       "    .dataframe thead th {\n",
       "        text-align: right;\n",
       "    }\n",
       "</style>\n",
       "<table border=\"1\" class=\"dataframe\">\n",
       "  <thead>\n",
       "    <tr style=\"text-align: right;\">\n",
       "      <th></th>\n",
       "      <th>date</th>\n",
       "      <th>description</th>\n",
       "      <th>short_desc</th>\n",
       "    </tr>\n",
       "  </thead>\n",
       "  <tbody>\n",
       "    <tr>\n",
       "      <th>36</th>\n",
       "      <td>2018-06-19</td>\n",
       "      <td>The United States announces that it will withd...</td>\n",
       "      <td>Announcement of US withdrawal from UNHCR</td>\n",
       "    </tr>\n",
       "    <tr>\n",
       "      <th>44</th>\n",
       "      <td>2019-01-01</td>\n",
       "      <td>start of the 2020 presidential campaign</td>\n",
       "      <td>2020 presidential campaign starts</td>\n",
       "    </tr>\n",
       "    <tr>\n",
       "      <th>38</th>\n",
       "      <td>2018-10-02</td>\n",
       "      <td>The Washington Post journalist Jamal Khashoggi...</td>\n",
       "      <td>Murder of Jamal Kashoggi</td>\n",
       "    </tr>\n",
       "  </tbody>\n",
       "</table>\n",
       "</div>"
      ],
      "text/plain": [
       "         date                                        description  \\\n",
       "36 2018-06-19  The United States announces that it will withd...   \n",
       "44 2019-01-01            start of the 2020 presidential campaign   \n",
       "38 2018-10-02  The Washington Post journalist Jamal Khashoggi...   \n",
       "\n",
       "                                  short_desc  \n",
       "36  Announcement of US withdrawal from UNHCR  \n",
       "44         2020 presidential campaign starts  \n",
       "38                  Murder of Jamal Kashoggi  "
      ]
     },
     "metadata": {},
     "output_type": "display_data"
    }
   ],
   "source": [
    "events = pd.DataFrame(events_lst, columns=[\"date\", \"description\", \"short_desc\"])\n",
    "events[\"date\"] = pd.to_datetime(events[\"date\"]) \n",
    "display(events.info())\n",
    "display(events.sample(3))"
   ]
  },
  {
   "cell_type": "code",
   "execution_count": 99,
   "id": "12c5c8f7-6e00-42b8-8877-01c4d00b7760",
   "metadata": {},
   "outputs": [],
   "source": [
    "# Save as csv\n",
    "events.to_csv(os.path.join(EVENTS_PATH, \"events.csv\"))"
   ]
  },
  {
   "cell_type": "markdown",
   "id": "ca3ccece-bfb8-4a9a-bf8c-bd05a91c6c02",
   "metadata": {
    "tags": []
   },
   "source": [
    "[2015](https://en.wikipedia.org/wiki/2015_in_the_United_States):\n",
    "- March 25 Indiana Governor Mike Pence signs Indiana SB 101 into law, prompting a national debate over religious freedom and LGBT rights. After a week of public outcry, the law is modified and similar bills in Arkansas, North Carolina, Georgia, and North Dakota fail to pass their state legislatures.[83][84][85]\n",
    "- April 11 – President Barack Obama and Cuban President Raúl Castro discuss historic proposed normalizations to Cuba-United States relations at the 7th Summit of the Americas in Panama City, Panama.\n",
    "- April - start of the 2016 presidential campaign\n",
    "- April 25 – May 3 – Protests in Baltimore, Maryland from Baltimore City Hall to the Inner Harbor against the April 19 death of Freddie Gray in police custody soon turn violent, with extensive property damage, looting, numerous arrests, and injuries of both police officers and citizens being reported. Maryland Governor Larry Hogan declares a state of emergency in the city and deploys the Maryland National Guard in response.[99][100]\n",
    "- May 22 - The State Department begins publishing the e-mails of Hillary Clinton, mostly concerning the 2012 Benghazi attack, that drew controversy earlier in the year when it was revealed that Clinton had been using a private e-mail server for work-related communications during her time as Secretary of State.[127]\n",
    "- June 24 - The House of Representatives passes a bill that gives President Barack Obama an authority to negotiate international trade agreements with Congress's approval. It is seen as a stepping stone toward the passing of Obama's proposed trade deal with eleven Asian countries known as the Trans-Pacific Partnership.[169]\n",
    "- June 26 - In a 5–4 decision, the U.S. Supreme Court rules that the Constitution guarantees a right to same-sex marriage in the United States. Justice Anthony Kennedy wrote the majority opinion, joined by Justices Ruth Bader Ginsburg, Stephen Breyer, Sonia Sotomayor and Elena Kagan.[173][174]\n",
    "- October 1 - 26-year-old Christopher Harper-Mercer opens fire at Umpqua Community College in Roseburg, Oregon. killing 9 people and injuring 9 others. It is the largest shooting at a college since the Virginia Tech massacre in 2007.\n",
    "- October 29 – Representative Paul Ryan takes over for John Boehner as Speaker of the House of Representatives after being elected following Boehner's resignation.[264]\n",
    "- December 2 - 2015 San Bernardino attack: 14 people are killed in a terrorist attack at a facility for the mentally disabled in San Bernardino, California. It is the deadliest mass shooting in the United States in 2015, and the deadliest since 2012.\n",
    "\n",
    "[2016](https://en.wikipedia.org/wiki/2016_in_the_United_States):\n",
    "- February 9 – The New Hampshire primaries are held. Donald Trump wins the Republican primary, and Bernie Sanders wins the Democratic primary.\n",
    "- March 1 – Super Tuesday\n",
    "- March 16 – President Obama nominates Merrick Garland to replace Antonin Scalia on the Supreme Court.[34]\n",
    "- May 4 - John Kasich suspends his presidential campaign, leaving Donald Trump the presumptive Republican nominee.[97]\n",
    "- May 25 – An audit by the State Department Inspector General finds that Hillary Clinton violated directives from the department in her use of a private email server for government business during her time as Secretary of State. The Inspector General says that Clinton did not request approval to use the private server, and that such a request would have been denied because of security risks.[115]\n",
    "- June 12 - Orlando shooting\n",
    "- June 22–23 – Members of the House Democratic Caucus, led by Representative John Lewis (D-Georgia) and Representative Katherine Clark (D-Massachusetts), declare their intention to remain on the floor of the House of Representatives until its Republican Speaker, Paul Ryan, allows votes on gun control legislation in the aftermath of the Orlando nightclub shooting. The sit-in is staged by about 60 legislators.[127]\n",
    "- July 8 – Despite the conclusions of the FBI and attorney general, the State Department reopens its investigation into Hillary Clinton's use of a private email server.[144]\n",
    "- September 21 - Charlotte protests\n",
    "- September 26 – Presidential candidates Donald Trump and Hillary Clinton take part in their first live televised debate, with an estimated audience of up to 100 million viewers.[173]\n",
    "- November 8 - 2016 presidential Election\n",
    "- December 2 - Donald Trump becomes the first US president or president-elect since 1979 to make direct contact with the President of Taiwan, upsetting Chinese diplomats and sparking concern over whether Trump will uphold the \"One China policy\" at the foundation of China-U.S. relations.[205]\n",
    "- December 31 – United States troops withdraw from Afghanistan, leaving behind 8,400 troops stationed at 4 garrisons (Kabul, Kandahar, Bagram, and Jalalabad).\n",
    "\n",
    "[2017](https://en.wikipedia.org/wiki/2017_in_the_United_States):\n",
    "- January 6 - After briefing President Barack Obama, the United States Senate, and President-elect Donald Trump, the United States Intelligence Community releases a declassified version of its investigation into Russia's interference in the 2016 presidential election. The report asserts that Russia carried out a massive cyber operation on orders from President Vladimir Putin to influence the election in favor of Trump in a multipronged attack consisting of hacking the Democratic National Committee, use of social media and Internet trolls to spread misinformation, and open propaganda on Russian state media outlets. Trump asserts that the outcome of the election was not affected by the interference, but nonetheless announces his intention to appoint a team to combat international cyber attacks within his first 90 days in office.[6][7][8]\n",
    "- January 20 – Donald Trump is sworn in as the 45th President of the United States,[27] and Mike Pence is sworn in as Vice President of the United States.\n",
    "- May 9 - FBI chief James Comey is fired by Trump for mishandling of the Hillary Clinton email controversy. However, critics accuse Trump of attempting to subvert the ongoing FBI investigation into possible ties between Russia and the Trump campaign.[98]\n",
    "- June 17 - Charleston church shooting\n",
    "- July 18 – The US Senate votes to start debating a new Republican healthcare bill to replace Obamacare.[136]\n",
    "- September 5 – The Trump administration announces that the Deferred Action for Childhood Arrivals (DACA) immigration policy, which was set by the Obama administration in 2012, will be scrapped.[206]\n",
    "- October 1 - Las Vegas mass shooting\n",
    "- December 2 - San Bernardino shooting\n",
    "- December 6 – In a speech at the White House, President Trump announces that the US now recognizes Jerusalem as Israel's capital.[272]\n",
    "\n",
    "[2018](https://en.wikipedia.org/wiki/2018_in_the_United_States):\n",
    "- January 11 – \"Shitholegate\" During a meeting with lawmakers about immigration, President Trump is reported to have asked, \"Why are we having all these people from shithole countries come here?\"[9][10] His remarks are condemned as \"racist\" and \"shocking\" by a UN spokesman.[11] (comp. Donald Trump racial views) The government of Botswana demands a clarification,[12] and Ambassador Earl R. Miller is asked if the USDS regards Botswana as a \"shithole\" country.[13] The event is termed by many media outlets \"Shitholegate\".[14]\n",
    "- January 20 – Senate Democrats block a bill that would have kept the government running until mid-February and the government shutdown of January 2018 begins. [21]\n",
    "- February 14 -  Marjory Stoneman Douglas High School in Parkland, Florida mass shooting\n",
    "- March 22 – President Trump announces tariffs on up to $60bn in Chinese goods and plans to limit the country's investment in the US. The Dow Jones falls sharply in response.[67]\n",
    "- The Senate Intelligence Committee releases an unclassified version of its investigation into Russian cyberattacks in 2016, concluding: \"Russian-affiliated cyber actors were able to gain access to restricted elements of election infrastructure. [...] In a small number of states, these cyber actors were in a position to, at a minimum, alter or delete voter registration data; however, they did not appear to be in a position to manipulate individual votes or aggregate vote totals.\"[109]\n",
    "- June 18 - 70 former U.S. Attorneys deliver a letter to Jeff Sessions, urging that he end his \"dangerous, expensive, zero tolerance\" migrant policy, which separates children at the border, calling it \"inconsistent with the values of the institution in which we served.\"[139]\n",
    "- June 19 - The United States announces that it will withdraw from the United Nations Human Rights Council.[141][142]\n",
    "- August 1 – President Trump calls for the Russia investigation to end \"right now\", urging Attorney General Jeff Sessions to halt the inquiry into alleged election meddling, while accusing special counsel Robert Mueller of being \"totally conflicted\".[171]\n",
    "- October 2 – The Washington Post journalist Jamal Khashoggi is murdered inside the Saudi consulate in Istanbul, triggering a diplomatic crisis between the U.S. and Saudi Arabia.\n",
    "- October 20 – President Trump announces that the US will \"terminate\" the Intermediate-Range Nuclear Forces Treaty over alleged Russian violations.[221]\n",
    "- October 29 – Migrant caravan. 800 U.S. soldiers are deployed to the Mexico–United States border as a part of Operation Faithful Patriot, reinforcing the border against incoming Central American migrant caravans.[228]\n",
    "- November 6 - Midterm elections\n",
    "- December 13 – In a rare rebuke to the White House, the Senate votes 56–41 to end US military assistance to Saudi Arabia's intervention in Yemen over alleged war crimes. It passes a separate resolution that holds Saudi Crown Prince Mohammed bin Salman personally responsible for the death of Saudi dissident Jamal Kashoggi.[251]\n",
    "\n",
    "[2019](https://en.wikipedia.org/wiki/2019_in_the_United_States):\n",
    "- January 3 – The Democrats take control of the House of Representatives, with a promise to end the government shutdown, but without funding for President Donald Trump's proposed border wall.[4] The Republicans increase their control of the United States Senate.[5]\n",
    "- January - start of the 2020 presidential campaign\n",
    "- January 28 – The Justice Department charges Chinese tech firm Huawei with multiple counts of fraud, raising U.S.-China tensions.[19]\n",
    "- March 22 - Special Counsel Robert Mueller turns in the report of his nearly two-year investigation on whether the Trump campaign helped Russia interfere in the 2016 presidential election.[67]\n",
    "- April 18 – A redacted version of the final Mueller Report is released by Attorney General William Barr to Congress and the general public. The report goes into detail on findings from the 2017–2019 Special Counsel probe regarding Russian contacts with the 2016 Donald Trump election campaign and matters regarding obstruction of justice by President Trump himself.[105][106]\n",
    "- During a three-way meeting at the Korean Demilitarized Zone with South and North Korean leaders, President Trump becomes the first sitting U.S. president to set foot on North Korean territory. Both Trump and North Korean leader Kim Jong-un pledge to restart stalled nuclear negotiations between the two countries.[180]\n",
    "- July 6 - Billionaire financier and registered sex offender Jeffrey Epstein is arrested on federal charges of sex trafficking and additionally charged by the Southern District of New York with sex trafficking and with conspiracy to traffic minors in Florida and New York.[187][188]\n",
    "- August 3 - El Paso shooting: A mass shooting occurs at a Walmart near the Cielo Vista Mall in El Paso, Texas, resulting in 23 fatalities and 23 injured.[227][228]\n",
    "- August 10 - 2020 Democratic candidates for president speak at a gun forum sponsored by Everytown for Gun Safety, in Des Moines, Iowa.[235]\n",
    "- August 12 - The Trump administration issues new rules that reject applicants for temporary or permanent visas for failing to meet income standards or for receiving public assistance such as welfare, food stamps, public housing or Medicaid.[238]\n",
    "- September 24 - Speaker of the House Nancy Pelosi announces the start of a formal impeachment inquiry against President Trump.[307]\n",
    "- September 25 – The White House releases details of a July 25 phone call between President Trump and Volodymyr Zelensky, in which Trump asks the Ukrainian President to investigate Democratic presidential candidate Joe Biden.[309]\n",
    "- October 3 - President Trump calls on Ukraine and China to investigate former Vice President Joe Biden and his son Hunter Biden.[332]\n",
    "- December 1 - The White House announces that President Donald Trump will not participate in the House Judiciary Committee impeachment hearing on December 3.[441][442]\n",
    "- December 3 - The House Intelligence Committee releases a report accusing President Donald Trump of using his office to further his personal interests.[450][451]\n",
    "- Decdember 6 - The House of Representatives approves 228–187 to restore parts of the Voting Rights Act of 1965.[456] President Trump threatens to veto if the bill is approved by the Senate.[457]\n",
    "- December 10 - Democrats in the House of Representatives announce formal charges against President Trump that accuse him of abusing power and obstructing Congress, making him the fourth U.S. president in history to face impeachment.[461]\n",
    "- December 18 - The U.S. House of Representatives votes largely along party lines to forward two articles of impeachment against President Donald Trump to the Senate, accusing him of abuse of power and obstructing Congress. Donald Trump becomes the third U.S. president to be impeached by the House.[478]\n",
    "\n",
    "[2020](https://en.wikipedia.org/wiki/2020_in_the_United_States):\n",
    "- January 3 – 2019–2021 Persian Gulf crisis: President Donald Trump approves the targeted killing of Iranian general Qasem Soleimani and Iraqi paramilitary leader Abu Mahdi al-Muhandis in Baghdad, Iraq.[5]\n",
    "- January 9 - Persian Gulf crisis: The House of Representatives votes 224–194 to pass a non-binding War Powers Resolution to limit the president's ability to pursue military actions against Iran without congressional consent.[11]\n",
    "- January 14 - The seventh Democratic presidential debate is held in Des Moines, Iowa.[16] Six candidates participate.[17]\n",
    "- January 16 – The impeachment trial of President Donald Trump begins in the U.S. Senate.[22]\n",
    "- January 21 – COVID-19 pandemic: The first case of COVID-19 in the United States is confirmed by the Centers for Disease Control and Prevention (CDC).[24]\n",
    "- february 5 - February 5 – The impeachment trial of President Donald Trump concludes with the Senate voting 52–48 to acquit on the first article of impeachment and 53–47 on the second charge. Utah Senator Mitt Romney becomes the first ever senator to vote to remove a president of their own political party.[38]\n",
    "- April 22 – COVID-19 pandemic: President Trump signs an immigration executive order halting the issuance of certain green cards for 60 days.[161]\n",
    "- May 25 – Minneapolis police officer Derek Chauvin murders George Floyd, 46, by kneeling on his neck, as three other officers watch. Video of the incident goes viral and the four officers are subsequently fired.[189]\n",
    "- July 21 – Republican Ohio House Speaker Larry Householder is arrested by federal agents in connection with a $60 million bribery case. Former Ohio GOP Chairman Matt Borges is also arrested, along with a GOP advisor and two lobbyists.[259]\n",
    "- September 26 – President Trump nominates Seventh Circuit Court of Appeals Judge Amy Coney Barrett to fill the vacant Supreme Court seat following the death of Judge Ruth Bader Ginsburg.[313]\n",
    "- November 3 - presidential elections\n",
    "- November 4 – The United States formally withdraws from the Paris Agreement.[371]\n",
    "- November 7 - Joe biden won the election"
   ]
  }
 ],
 "metadata": {
  "kernelspec": {
   "display_name": "Python 3 (ipykernel)",
   "language": "python",
   "name": "python3"
  },
  "language_info": {
   "codemirror_mode": {
    "name": "ipython",
    "version": 3
   },
   "file_extension": ".py",
   "mimetype": "text/x-python",
   "name": "python",
   "nbconvert_exporter": "python",
   "pygments_lexer": "ipython3",
   "version": "3.9.5"
  }
 },
 "nbformat": 4,
 "nbformat_minor": 5
}
