{
 "cells": [
  {
   "cell_type": "markdown",
   "id": "7709e762",
   "metadata": {},
   "source": [
    "## Load packages"
   ]
  },
  {
   "cell_type": "code",
   "execution_count": 154,
   "id": "a4ec0979",
   "metadata": {},
   "outputs": [],
   "source": [
    "# Load packages\n",
    "import pandas as pd\n",
    "import numpy as np\n",
    "import matplotlib.pyplot as plt"
   ]
  },
  {
   "cell_type": "markdown",
   "id": "554b3e66",
   "metadata": {},
   "source": [
    "## Load datasets"
   ]
  },
  {
   "cell_type": "code",
   "execution_count": 155,
   "id": "0f3fba9d",
   "metadata": {},
   "outputs": [],
   "source": [
    "# Load the main dataset\n",
    "df = pd.read_pickle(\"data/pkl/extracted-2015-2020/extracted-quotes-2016.pkl\")"
   ]
  },
  {
   "cell_type": "code",
   "execution_count": 156,
   "id": "a4c99a2d",
   "metadata": {},
   "outputs": [],
   "source": [
    "# Load the dataset with additional info abbout politicians \n",
    "df_politicians = pd.io.json.read_json(\"data/resources/new_congress_biolist.json\")"
   ]
  },
  {
   "cell_type": "markdown",
   "id": "40c8ed72",
   "metadata": {},
   "source": [
    "## Work on df_politicians table"
   ]
  },
  {
   "cell_type": "code",
   "execution_count": 157,
   "id": "d6c7f831",
   "metadata": {},
   "outputs": [],
   "source": [
    "# Extract from congresses column relevant infor (position, state, parties)\n",
    "def extract_congress_information(row):\n",
    "    information = pd.json_normalize(row[\"congresses\"]).sort_values(\"congressNumber\").tail(1).loc[:, [\"position\",\"stateName\",\"parties\"]]\n",
    "\n",
    "    row[\"position\"] = information.loc[:, \"position\"].values[0]\n",
    "    row[\"stateName\"] = information.loc[:, \"stateName\"].values[0]\n",
    "    row[\"parties\"] = information.loc[:, \"parties\"].values[0]\n",
    "    return row\n",
    "\n",
    "df_politicians = df_politicians.apply(extract_congress_information, axis=1)"
   ]
  },
  {
   "cell_type": "code",
   "execution_count": 158,
   "id": "4472d9fd",
   "metadata": {},
   "outputs": [],
   "source": [
    "# The value in column parties is a list, we want to select the last past party from the list\n",
    "def getLastValue(aList):\n",
    "    return aList[-1]\n",
    "\n",
    "df_politicians[\"parties\"] = df_politicians[\"parties\"].apply(getLastValue)"
   ]
  },
  {
   "cell_type": "code",
   "execution_count": 159,
   "id": "ed683f4f",
   "metadata": {},
   "outputs": [],
   "source": [
    "# Create new column speaker (full name of the politician)\n",
    "df_politicians['speaker'] = df_politicians['givenName'] + \" \" + df_politicians['familyName']\n",
    "\n",
    "# Have the speaker's full names in the same size \n",
    "df_politicians[\"speaker\"] = df_politicians[\"speaker\"].str.lower()\n",
    "\n",
    "# In lower case also in the quotes dataset\n",
    "df[\"speaker\"] = df[\"speaker\"].str.lower()"
   ]
  },
  {
   "cell_type": "code",
   "execution_count": 160,
   "id": "85d7ef21",
   "metadata": {},
   "outputs": [
    {
     "data": {
      "text/plain": [
       "timothy johnson           2\n",
       "donald payne              2\n",
       "duncan hunter             2\n",
       "patrick murphy            2\n",
       "gregory murphy            1\n",
       "                         ..\n",
       "ruben gallego             1\n",
       "pete gallego              1\n",
       "elton gallegly            1\n",
       "michael gallagher         1\n",
       "president donald trump    1\n",
       "Name: speaker, Length: 1154, dtype: int64"
      ]
     },
     "execution_count": 160,
     "metadata": {},
     "output_type": "execute_result"
    }
   ],
   "source": [
    "# Check for full name duplicates\n",
    "# I propose to delete those as they may be in different parties and we will not which one is talking\n",
    "df_politicians['speaker'].value_counts()"
   ]
  },
  {
   "cell_type": "code",
   "execution_count": 161,
   "id": "5a51d1f0",
   "metadata": {},
   "outputs": [],
   "source": [
    "# We drop duplicates by speaker's full name\n",
    "df_politicians = df_politicians.drop_duplicates(subset=['speaker'])"
   ]
  },
  {
   "cell_type": "markdown",
   "id": "7a0b053b",
   "metadata": {},
   "source": [
    "## Merge the quotes with info about speakers"
   ]
  },
  {
   "cell_type": "code",
   "execution_count": 162,
   "id": "2ee53772",
   "metadata": {},
   "outputs": [],
   "source": [
    "# Merge quotes to speaker's info\n",
    "data = pd.merge(df, df_politicians, on='speaker', how='outer') # we merged the dataset"
   ]
  },
  {
   "cell_type": "code",
   "execution_count": 170,
   "id": "1defdf0b",
   "metadata": {},
   "outputs": [],
   "source": [
    "# Subsets by parties \n",
    "subset_democrats = data[data['parties'] == \"Democrat\"]\n",
    "subset_republicans = data[data['parties'] == \"Republican\"]"
   ]
  },
  {
   "cell_type": "markdown",
   "id": "ae0c63d0",
   "metadata": {},
   "source": [
    "## Naive model: select quotes that talk about the opponent party"
   ]
  },
  {
   "cell_type": "code",
   "execution_count": 171,
   "id": "685a748e",
   "metadata": {},
   "outputs": [],
   "source": [
    "# Get the list of Republicans and Democrats\n",
    "names_democrats = df_politicians[df_politicians['parties'] == 'Democrat'][\"speaker\"].tolist()\n",
    "names_republicans = df_politicians[df_politicians['parties'] == 'Republican'][\"speaker\"].tolist()"
   ]
  },
  {
   "cell_type": "code",
   "execution_count": 172,
   "id": "1f09cede",
   "metadata": {},
   "outputs": [
    {
     "name": "stderr",
     "output_type": "stream",
     "text": [
      "/var/folders/dk/jmv_rzs11tl068lmynmr01vr0000gn/T/ipykernel_5905/3982307100.py:3: SettingWithCopyWarning: \n",
      "A value is trying to be set on a copy of a slice from a DataFrame.\n",
      "Try using .loc[row_indexer,col_indexer] = value instead\n",
      "\n",
      "See the caveats in the documentation: https://pandas.pydata.org/pandas-docs/stable/user_guide/indexing.html#returning-a-view-versus-a-copy\n",
      "  subset_democrats[\"quotation\"] = subset_democrats[\"quotation\"].str.lower()\n",
      "/var/folders/dk/jmv_rzs11tl068lmynmr01vr0000gn/T/ipykernel_5905/3982307100.py:4: SettingWithCopyWarning: \n",
      "A value is trying to be set on a copy of a slice from a DataFrame.\n",
      "Try using .loc[row_indexer,col_indexer] = value instead\n",
      "\n",
      "See the caveats in the documentation: https://pandas.pydata.org/pandas-docs/stable/user_guide/indexing.html#returning-a-view-versus-a-copy\n",
      "  subset_republicans[\"quotation\"] = subset_republicans[\"quotation\"].str.lower()\n"
     ]
    }
   ],
   "source": [
    "# Have all quotes in lowercase\n",
    "data[\"quotation\"] = data[\"quotation\"].str.lower()\n",
    "subset_democrats[\"quotation\"] = subset_democrats[\"quotation\"].str.lower()\n",
    "subset_republicans[\"quotation\"] = subset_republicans[\"quotation\"].str.lower()"
   ]
  },
  {
   "cell_type": "code",
   "execution_count": 173,
   "id": "78535fa5",
   "metadata": {},
   "outputs": [],
   "source": [
    "# Drop rows with those who don't have any quotes\n",
    "data = data.dropna(subset=['quotation'])\n",
    "subset_democrats = subset_democrats.dropna(subset=['quotation'])\n",
    "subset_republicans = subset_republicans.dropna(subset=['quotation'])"
   ]
  },
  {
   "cell_type": "code",
   "execution_count": 174,
   "id": "53072206",
   "metadata": {},
   "outputs": [],
   "source": [
    "# Create full lists \n",
    "list_rep = names_republicans + ['republican', 'republicans']\n",
    "pattern_list_rep = '|'.join(list_rep)\n",
    "\n",
    "list_dem = names_democrats + ['democrat', 'democrats']\n",
    "pattern_list_dem = '|'.join(list_dem)"
   ]
  },
  {
   "cell_type": "code",
   "execution_count": 175,
   "id": "d88cce44",
   "metadata": {},
   "outputs": [],
   "source": [
    "# Subset of quotes said by democrats about republicans\n",
    "demo_quotes_abt_rep = subset_democrats[subset_democrats['quotation'].str.contains(pattern_list_rep)]"
   ]
  },
  {
   "cell_type": "code",
   "execution_count": 176,
   "id": "ea6a2eb7",
   "metadata": {},
   "outputs": [],
   "source": [
    "# Subset of quotes said by democrats about democrats\n",
    "rep_quotes_abt_demo = subset_republicans[subset_republicans['quotation'].str.contains(pattern_list_dem)]"
   ]
  },
  {
   "cell_type": "markdown",
   "id": "4a8ae476",
   "metadata": {},
   "source": [
    "## Sentiment analysis of the quotes"
   ]
  },
  {
   "cell_type": "markdown",
   "id": "bfe8bfce",
   "metadata": {},
   "source": [
    "### Use of nltk package"
   ]
  },
  {
   "cell_type": "code",
   "execution_count": 179,
   "id": "c5d2d4c6",
   "metadata": {},
   "outputs": [
    {
     "name": "stderr",
     "output_type": "stream",
     "text": [
      "[nltk_data] Downloading package vader_lexicon to\n",
      "[nltk_data]     /Users/darynabilodid/nltk_data...\n",
      "[nltk_data]   Package vader_lexicon is already up-to-date!\n"
     ]
    }
   ],
   "source": [
    "import nltk\n",
    "# nltk.download()\n",
    "nltk.download('vader_lexicon')\n",
    "\n",
    "from nltk.sentiment import SentimentIntensityAnalyzer\n",
    "sia = SentimentIntensityAnalyzer()"
   ]
  },
  {
   "cell_type": "code",
   "execution_count": 180,
   "id": "1fd85216",
   "metadata": {},
   "outputs": [],
   "source": [
    "# Function that get the sentiment of each quote\n",
    "def get_sentiment(row):   \n",
    "    row['NLTK score'] = sia.polarity_scores(row['quotation'])\n",
    "    return row"
   ]
  },
  {
   "cell_type": "code",
   "execution_count": 181,
   "id": "e14966c7",
   "metadata": {},
   "outputs": [],
   "source": [
    "# Apply function on the subsets - for republicans and democrats\n",
    "demo_quotes_abt_rep = demo_quotes_abt_rep.apply(get_sentiment, axis=1)\n",
    "rep_quotes_abt_demo = rep_quotes_abt_demo.apply(get_sentiment, axis=1)"
   ]
  },
  {
   "cell_type": "code",
   "execution_count": 182,
   "id": "fd654192",
   "metadata": {},
   "outputs": [],
   "source": [
    "# Split in columns to get values \n",
    "# Democrats about republicans \n",
    "demo_quotes_abt_rep = pd.concat([demo_quotes_abt_rep, demo_quotes_abt_rep['NLTK score'].apply(pd.Series)], axis=1)\n",
    "\n",
    "# Republicans about democrats\n",
    "rep_quotes_abt_demo = pd.concat([rep_quotes_abt_demo, rep_quotes_abt_demo['NLTK score'].apply(pd.Series)], axis=1)\n"
   ]
  },
  {
   "cell_type": "markdown",
   "id": "4708d4b5",
   "metadata": {},
   "source": [
    "### Concatenate the 2 subsets and get the final dataset that we will use"
   ]
  },
  {
   "cell_type": "code",
   "execution_count": 189,
   "id": "da6d28c3",
   "metadata": {},
   "outputs": [],
   "source": [
    "mentions_2016 = pd.concat([demo_quotes_abt_rep, rep_quotes_abt_demo]) # contenate 2 subsets"
   ]
  },
  {
   "cell_type": "code",
   "execution_count": 190,
   "id": "3d86c588",
   "metadata": {},
   "outputs": [],
   "source": [
    "mentions_2016.to_csv(\"data/csv/2016_mentions.csv\")"
   ]
  },
  {
   "cell_type": "markdown",
   "id": "a1562d7a",
   "metadata": {},
   "source": [
    "## EDA:  We have 2 datasets that we want to analyze"
   ]
  },
  {
   "cell_type": "markdown",
   "id": "0daa753a",
   "metadata": {},
   "source": [
    "The problem is that we have too quotes classified as neutral. \n",
    "We should read about SentimentIntensityAnalyzer as we may need to preprocess before, or use a different sentiment predictor.\n",
    "Another thing: may be we should appply the analyzer before even lower casing the sentences (because maybe some excitement/anger can be in upper case)\n",
    "Something to think about.\n",
    "https://www.analyticsvidhya.com/blog/2021/01/sentiment-analysis-vader-or-textblob/"
   ]
  },
  {
   "cell_type": "markdown",
   "id": "da3e314e",
   "metadata": {},
   "source": [
    "#### Republicans about democrats "
   ]
  },
  {
   "cell_type": "code",
   "execution_count": 118,
   "id": "8bf9d2d7",
   "metadata": {},
   "outputs": [
    {
     "data": {
      "text/html": [
       "<div>\n",
       "<style scoped>\n",
       "    .dataframe tbody tr th:only-of-type {\n",
       "        vertical-align: middle;\n",
       "    }\n",
       "\n",
       "    .dataframe tbody tr th {\n",
       "        vertical-align: top;\n",
       "    }\n",
       "\n",
       "    .dataframe thead th {\n",
       "        text-align: right;\n",
       "    }\n",
       "</style>\n",
       "<table border=\"1\" class=\"dataframe\">\n",
       "  <thead>\n",
       "    <tr style=\"text-align: right;\">\n",
       "      <th></th>\n",
       "      <th>quoteID</th>\n",
       "      <th>quotation</th>\n",
       "      <th>speaker</th>\n",
       "      <th>qids</th>\n",
       "      <th>date</th>\n",
       "      <th>numOccurrences</th>\n",
       "      <th>probas</th>\n",
       "      <th>urls</th>\n",
       "      <th>phase</th>\n",
       "      <th>subset</th>\n",
       "      <th>...</th>\n",
       "      <th>honorificPrefix</th>\n",
       "      <th>honorificSuffix</th>\n",
       "      <th>position</th>\n",
       "      <th>stateName</th>\n",
       "      <th>parties</th>\n",
       "      <th>NLTK score</th>\n",
       "      <th>neg</th>\n",
       "      <th>neu</th>\n",
       "      <th>pos</th>\n",
       "      <th>compound</th>\n",
       "    </tr>\n",
       "  </thead>\n",
       "  <tbody>\n",
       "    <tr>\n",
       "      <th>3</th>\n",
       "      <td>2018-05-26-040524</td>\n",
       "      <td>put pressure on the democrats to end the horri...</td>\n",
       "      <td>president donald trump</td>\n",
       "      <td>[Q22686]</td>\n",
       "      <td>2018-05-26 17:41:29</td>\n",
       "      <td>15.0</td>\n",
       "      <td>[[President Donald Trump, 0.3806], [None, 0.31...</td>\n",
       "      <td>[http://europe.newsweek.com/trump-claims-democ...</td>\n",
       "      <td>E</td>\n",
       "      <td>True</td>\n",
       "      <td>...</td>\n",
       "      <td>None</td>\n",
       "      <td>None</td>\n",
       "      <td>President</td>\n",
       "      <td>None</td>\n",
       "      <td>Republican</td>\n",
       "      <td>{'neg': 0.115, 'neu': 0.885, 'pos': 0.0, 'comp...</td>\n",
       "      <td>0.115</td>\n",
       "      <td>0.885</td>\n",
       "      <td>0.000</td>\n",
       "      <td>-0.7177</td>\n",
       "    </tr>\n",
       "    <tr>\n",
       "      <th>23</th>\n",
       "      <td>2018-11-15-143163</td>\n",
       "      <td>where i am now when they have a small majority...</td>\n",
       "      <td>president donald trump</td>\n",
       "      <td>[Q22686]</td>\n",
       "      <td>2018-11-15 17:35:31</td>\n",
       "      <td>6.0</td>\n",
       "      <td>[[President Donald Trump, 0.9332], [None, 0.06...</td>\n",
       "      <td>[http://abc22now.com/news/connect-to-congress/...</td>\n",
       "      <td>E</td>\n",
       "      <td>True</td>\n",
       "      <td>...</td>\n",
       "      <td>None</td>\n",
       "      <td>None</td>\n",
       "      <td>President</td>\n",
       "      <td>None</td>\n",
       "      <td>Republican</td>\n",
       "      <td>{'neg': 0.0, 'neu': 0.936, 'pos': 0.064, 'comp...</td>\n",
       "      <td>0.000</td>\n",
       "      <td>0.936</td>\n",
       "      <td>0.064</td>\n",
       "      <td>0.5859</td>\n",
       "    </tr>\n",
       "  </tbody>\n",
       "</table>\n",
       "<p>2 rows × 31 columns</p>\n",
       "</div>"
      ],
      "text/plain": [
       "              quoteID                                          quotation  \\\n",
       "3   2018-05-26-040524  put pressure on the democrats to end the horri...   \n",
       "23  2018-11-15-143163  where i am now when they have a small majority...   \n",
       "\n",
       "                   speaker      qids                date  numOccurrences  \\\n",
       "3   president donald trump  [Q22686] 2018-05-26 17:41:29            15.0   \n",
       "23  president donald trump  [Q22686] 2018-11-15 17:35:31             6.0   \n",
       "\n",
       "                                               probas  \\\n",
       "3   [[President Donald Trump, 0.3806], [None, 0.31...   \n",
       "23  [[President Donald Trump, 0.9332], [None, 0.06...   \n",
       "\n",
       "                                                 urls phase  subset  ...  \\\n",
       "3   [http://europe.newsweek.com/trump-claims-democ...     E    True  ...   \n",
       "23  [http://abc22now.com/news/connect-to-congress/...     E    True  ...   \n",
       "\n",
       "   honorificPrefix honorificSuffix   position stateName     parties  \\\n",
       "3             None            None  President      None  Republican   \n",
       "23            None            None  President      None  Republican   \n",
       "\n",
       "                                           NLTK score    neg    neu    pos  \\\n",
       "3   {'neg': 0.115, 'neu': 0.885, 'pos': 0.0, 'comp...  0.115  0.885  0.000   \n",
       "23  {'neg': 0.0, 'neu': 0.936, 'pos': 0.064, 'comp...  0.000  0.936  0.064   \n",
       "\n",
       "   compound  \n",
       "3   -0.7177  \n",
       "23   0.5859  \n",
       "\n",
       "[2 rows x 31 columns]"
      ]
     },
     "execution_count": 118,
     "metadata": {},
     "output_type": "execute_result"
    }
   ],
   "source": [
    "rep_quotes_abt_demo.head(2)"
   ]
  },
  {
   "cell_type": "code",
   "execution_count": 119,
   "id": "cf23de86",
   "metadata": {},
   "outputs": [
    {
     "data": {
      "image/png": "[encoded data removed]",
      "text/plain": [
       "<Figure size 432x288 with 1 Axes>"
      ]
     },
     "metadata": {
      "needs_background": "light"
     },
     "output_type": "display_data"
    }
   ],
   "source": [
    "plt.hist(rep_quotes_abt_demo['neg'], alpha=0.5);\n",
    "plt.hist(rep_quotes_abt_demo['pos'], alpha=0.5);\n",
    "plt.hist(rep_quotes_abt_demo['neu'], alpha=0.5);\n",
    "labels = ['neg','pos', 'neu'];\n",
    "plt.title('Distribution of sentiment');\n",
    "plt.legend(labels);"
   ]
  }
 ],
 "metadata": {
  "kernelspec": {
   "display_name": "Python 3 (ipykernel)",
   "language": "python",
   "name": "python3"
  },
  "language_info": {
   "codemirror_mode": {
    "name": "ipython",
    "version": 3
   },
   "file_extension": ".py",
   "mimetype": "text/x-python",
   "name": "python",
   "nbconvert_exporter": "python",
   "pygments_lexer": "ipython3",
   "version": "3.8.3"
  }
 },
 "nbformat": 4,
 "nbformat_minor": 5
}
