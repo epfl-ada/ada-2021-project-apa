{
 "cells": [
  {
   "cell_type": "markdown",
   "metadata": {},
   "source": [
    "## Task 2 \n",
    "\n",
    "\n",
    "### Task 2.1\n",
    "Get list of US politicians with political affiliation. \n",
    "\n",
    "2 sources:\n",
    "- https://github.com/casmlab/politicians-tweets \n",
    "- https://www.congress.gov/members?q={%22congress%22:[%22110%22,%22111%22,%22112%22,%22113%22,%22114%22,%22115%22,%22116%22,117]}\n",
    "\n",
    "Take 1st list, keep politicians whose affiliation is known. Then merge with congress list to be sure we have a good dataset.\n",
    "List of politicians is in `data/ressources/politicians.json`."
   ]
  },
  {
   "cell_type": "code",
   "execution_count": 9,
   "metadata": {},
   "outputs": [],
   "source": [
    "import os \n",
    "import json\n",
    "import time\n",
    "import csv\n",
    "\n",
    "from tqdm import tqdm\n",
    "import requests\n",
    "from bs4 import BeautifulSoup"
   ]
  },
  {
   "cell_type": "code",
   "execution_count": 29,
   "metadata": {},
   "outputs": [],
   "source": [
    "def to_csv(file_name: str, pol_lst: list) -> None:\n",
    "    \"\"\"\n",
    "    Write list to file to keep trace\n",
    "    \"\"\"\n",
    "\n",
    "    csv_path = os.path.join(\"data\", \"resources\", file_name)\n",
    "\n",
    "    with open(csv_path, \"w\") as f:\n",
    "        writer = csv.writer(f, delimiter=\" \")\n",
    "        writer.writerow([\"Name\", \"Party\"])\n",
    "\n",
    "        for member in pol_lst:\n",
    "            writer.writerow([el for el in member])\n",
    "        "
   ]
  },
  {
   "cell_type": "markdown",
   "metadata": {},
   "source": [
    "#### Github dataset"
   ]
  },
  {
   "cell_type": "code",
   "execution_count": 14,
   "metadata": {},
   "outputs": [
    {
     "data": {
      "text/plain": [
       "15"
      ]
     },
     "execution_count": 14,
     "metadata": {},
     "output_type": "execute_result"
    }
   ],
   "source": [
    "file_name = \"politicians_github.json\"\n",
    "file_path = os.path.join(\"data\", \"resources\", file_name)\n",
    "\n",
    "with open(file_path, \"r\") as f:\n",
    "    json = json.load(f)\n",
    "\n",
    "len(json)"
   ]
  },
  {
   "cell_type": "code",
   "execution_count": 15,
   "metadata": {},
   "outputs": [
    {
     "data": {
      "text/plain": [
       "dict_keys(['id', 'id_str', 'screen_name', 'confirmed_account_type', 'state', 'twitter_name', 'real_name', 'bioguide', 'office_holder', 'party', 'district', 'level', 'woman', 'birthday', 'last_updated'])"
      ]
     },
     "execution_count": 15,
     "metadata": {},
     "output_type": "execute_result"
    }
   ],
   "source": [
    "json.keys()"
   ]
  },
  {
   "cell_type": "code",
   "execution_count": 35,
   "metadata": {},
   "outputs": [],
   "source": [
    "json[\"office_holder\"][\"2\"]"
   ]
  },
  {
   "cell_type": "code",
   "execution_count": 41,
   "metadata": {},
   "outputs": [
    {
     "name": "stderr",
     "output_type": "stream",
     "text": [
      "100%|██████████| 9979/9979 [00:00<00:00, 134865.04it/s]\n"
     ]
    }
   ],
   "source": [
    "# Only keep politicians with politicl affiliation\n",
    "\n",
    "politicians = []\n",
    "\n",
    "for i in tqdm(range(1, len(json[\"id\"]))):\n",
    "    i = str(i)\n",
    "    affiliation = json[\"party\"][i]\n",
    "    screen_name = json[\"screen_name\"][i]\n",
    "    elected = json[\"office_holder\"][i] is not None\n",
    "\n",
    "    if affiliation is not None and affiliation in (\"Republican\", \"Democratic\"):\n",
    "        politicians.append((json[\"real_name\"][i], affiliation, elected))\n",
    "    elif screen_name == \"realdonaldtrump\":\n",
    "        politicians.append((\"Donald Trump\", \"Republican\", True))\n",
    "    elif screen_name == \"barackobama\":\n",
    "        politicians.append((\"Barack Obama\", \"Democratic\", True))\n"
   ]
  },
  {
   "cell_type": "code",
   "execution_count": 46,
   "metadata": {},
   "outputs": [
    {
     "data": {
      "text/plain": [
       "1107"
      ]
     },
     "execution_count": 46,
     "metadata": {},
     "output_type": "execute_result"
    }
   ],
   "source": [
    "sum(pol[-1] for pol in politicians)"
   ]
  },
  {
   "cell_type": "markdown",
   "metadata": {},
   "source": [
    "All politicians are in Congress!"
   ]
  },
  {
   "cell_type": "code",
   "execution_count": 30,
   "metadata": {},
   "outputs": [
    {
     "name": "stdout",
     "output_type": "stream",
     "text": [
      "len(politicians)=1107\n"
     ]
    },
    {
     "data": {
      "text/plain": [
       "[('Mark Green', 'Republican'),\n",
       " ('Pete Stauber', 'Republican'),\n",
       " ('Derek Kilmer', 'Democratic'),\n",
       " ('Andy Harris', 'Republican'),\n",
       " ('Donald Payne', 'Democratic'),\n",
       " ('A. Ferguson', 'Republican'),\n",
       " ('Richard Hudson', 'Republican'),\n",
       " ('Edward Markey', 'Democratic'),\n",
       " ('Bobby Rush', 'Democratic'),\n",
       " ('Gregory Meeks', 'Democratic')]"
      ]
     },
     "execution_count": 30,
     "metadata": {},
     "output_type": "execute_result"
    }
   ],
   "source": [
    "print(f\"{len(politicians)=}\") \n",
    "politicians[:10]"
   ]
  },
  {
   "cell_type": "code",
   "execution_count": 31,
   "metadata": {},
   "outputs": [],
   "source": [
    "# Write to file\n",
    "to_csv(\"politicians_github.csv\", politicians)"
   ]
  },
  {
   "cell_type": "markdown",
   "metadata": {},
   "source": [
    "#### US Congress dataset"
   ]
  },
  {
   "cell_type": "code",
   "execution_count": 2,
   "metadata": {},
   "outputs": [],
   "source": [
    "URL = 'https://www.congress.gov/members?q={\"congress\":[\"110\",\"111\",\"112\",\"113\",\"114\",\"115\",\"116\",117]}&pageSize=250'"
   ]
  },
  {
   "cell_type": "code",
   "execution_count": 3,
   "metadata": {},
   "outputs": [],
   "source": [
    "congress_members = []\n",
    "\n",
    "r  = requests.get(URL, params={\"page\": 1})\n",
    "soup = BeautifulSoup(r.text, \"html.parser\")\n",
    "\n",
    "members = soup.find_all(\"li\", class_=\"compact\")"
   ]
  },
  {
   "cell_type": "code",
   "execution_count": 74,
   "metadata": {},
   "outputs": [
    {
     "data": {
      "text/plain": [
       "[('Neil  Abercrombie', 'Democratic'),\n",
       " ('Ralph L  Abraham', 'Republican'),\n",
       " ('Gary L.  Ackerman', 'Democratic'),\n",
       " ('Alma S.  Adams', 'Democratic'),\n",
       " ('Sandy  Adams', 'Republican'),\n",
       " ('Robert B.  Aderholt', 'Republican'),\n",
       " ('John H.  Adler', 'Democratic'),\n",
       " ('P  Aguilar', 'Democratic'),\n",
       " ('Daniel K.  Akaka', 'Democratic'),\n",
       " ('W. Todd  Akin', 'Republican')]"
      ]
     },
     "execution_count": 74,
     "metadata": {},
     "output_type": "execute_result"
    }
   ],
   "source": [
    "congress_members = []\n",
    "for member in members:\n",
    "    # Scrape the information\n",
    "    items = member.find_all(\"span\", class_=\"result-item\")\n",
    "    name = sanitize_name(member.span.a.text)\n",
    "    \n",
    "    for item in items:\n",
    "        if item.strong.text == \"Party:\":\n",
    "            affiliation = item.span.text\n",
    "\n",
    "    congress_members.append((name, affiliation))\n",
    "\n",
    "congress_members[:10]"
   ]
  },
  {
   "cell_type": "code",
   "execution_count": 4,
   "metadata": {},
   "outputs": [],
   "source": [
    "def sanitize_name(name: str) -> str:\n",
    "    \"\"\"\n",
    "    Strip and clean name.\n",
    "    \"Senator Cruz, Ted\" -> \"Ted Cruz\"\n",
    "    \"\"\"\n",
    "\n",
    "    for element in (\"Representative\", \"Senator\"):\n",
    "        name = name.strip(element)\n",
    "\n",
    "    name = \" \".join(name.split(\",\")[::-1])\n",
    "    name = name.strip()\n",
    "    return name\n",
    "\n",
    "# name = \"Senator Cruz, Ted\"\n",
    "# sanitize_name(name)"
   ]
  },
  {
   "cell_type": "code",
   "execution_count": 5,
   "metadata": {},
   "outputs": [
    {
     "name": "stderr",
     "output_type": "stream",
     "text": [
      "100%|██████████| 5/5 [00:14<00:00,  2.80s/it]\n"
     ]
    }
   ],
   "source": [
    "congress_members = []\n",
    "\n",
    "# Download each congress page\n",
    "for page_number in tqdm(range(1, 6)):\n",
    "    r  = requests.get(URL, params={\"page\": page_number})\n",
    "    soup = BeautifulSoup(r.text, \"html.parser\")\n",
    "\n",
    "    members = soup.find_all(\"li\", class_=\"compact\")\n",
    "\n",
    "    for member in members:\n",
    "        # Scrape the information\n",
    "        items = member.find_all(\"span\", class_=\"result-item\")\n",
    "        name = sanitize_name(member.span.a.text)\n",
    "        \n",
    "        for item in items:\n",
    "            if item.strong.text == \"Party:\":\n",
    "                affiliation = item.span.text\n",
    "\n",
    "        congress_members.append((name, affiliation))"
   ]
  },
  {
   "cell_type": "code",
   "execution_count": 12,
   "metadata": {},
   "outputs": [
    {
     "data": {
      "text/plain": [
       "True"
      ]
     },
     "execution_count": 12,
     "metadata": {},
     "output_type": "execute_result"
    }
   ],
   "source": [
    "# Sanity check\n",
    "len(congress_members) == 1158  # Nice"
   ]
  },
  {
   "cell_type": "code",
   "execution_count": 32,
   "metadata": {},
   "outputs": [],
   "source": [
    "# Write to file\n",
    "to_csv(\"politicians_congress.csv\", politicians)"
   ]
  },
  {
   "cell_type": "markdown",
   "metadata": {},
   "source": [
    "#### Compare lists"
   ]
  },
  {
   "cell_type": "markdown",
   "metadata": {},
   "source": [
    "Actually might not be useful (and less of a headache) to just take the congress, since almost kept politicians from the github list are elected (congress members)."
   ]
  }
 ],
 "metadata": {
  "interpreter": {
   "hash": "6afe1dc6d4d3cd304b95f6d675ef2d0511325e35f0283dd46abd30ad807ae0f6"
  },
  "kernelspec": {
   "display_name": "Python 3.9.5 64-bit ('venv': venv)",
   "name": "python3"
  },
  "language_info": {
   "codemirror_mode": {
    "name": "ipython",
    "version": 3
   },
   "file_extension": ".py",
   "mimetype": "text/x-python",
   "name": "python",
   "nbconvert_exporter": "python",
   "pygments_lexer": "ipython3",
   "version": "3.9.5"
  },
  "orig_nbformat": 4
 },
 "nbformat": 4,
 "nbformat_minor": 2
}
