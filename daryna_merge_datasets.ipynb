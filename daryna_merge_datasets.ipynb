{
 "cells": [
  {
   "cell_type": "markdown",
   "id": "7709e762",
   "metadata": {},
   "source": [
    "## Load packages"
   ]
  },
  {
   "cell_type": "code",
   "execution_count": 1,
   "id": "a4ec0979",
   "metadata": {},
   "outputs": [],
   "source": [
    "# Load packages\n",
    "import pandas as pd\n",
    "import numpy as np"
   ]
  },
  {
   "cell_type": "markdown",
   "id": "554b3e66",
   "metadata": {},
   "source": [
    "## Load datasets"
   ]
  },
  {
   "cell_type": "code",
   "execution_count": 2,
   "id": "0f3fba9d",
   "metadata": {},
   "outputs": [],
   "source": [
    "# Load the main dataset\n",
    "df = pd.read_pickle(\"data/pkl/extracted-quotes-2018.pkl\")"
   ]
  },
  {
   "cell_type": "code",
   "execution_count": 229,
   "id": "a4c99a2d",
   "metadata": {},
   "outputs": [],
   "source": [
    "# Load the dataset with additional info abbout politicians \n",
    "df_politicians = pd.io.json.read_json(\"data/resources/congress_biolist.json\")"
   ]
  },
  {
   "cell_type": "markdown",
   "id": "622f2eef",
   "metadata": {},
   "source": [
    "## Get a nice table with politician's feautures"
   ]
  },
  {
   "cell_type": "code",
   "execution_count": 261,
   "id": "9adedadd",
   "metadata": {},
   "outputs": [],
   "source": [
    "# Add a new column with First and Family name \n",
    "df_politicians[\"fullName\"] = df_politicians[\"givenName\"] + ' ' + df_politicians[\"familyName\"]\n",
    "df_politicians[\"speaker\"] = df_politicians[\"givenName\"] + ' ' + df_politicians[\"familyName\"]"
   ]
  },
  {
   "cell_type": "code",
   "execution_count": 231,
   "id": "c34abffb",
   "metadata": {},
   "outputs": [],
   "source": [
    "# Work on the column \"congresses\"\n",
    "df_politicians['congresses'] = df_politicians['congresses'].astype(str)\n",
    "df_politicians['congresses'] = df_politicians['congresses'].str.replace('[', '', regex=True)\n",
    "df_politicians['congresses'] = df_politicians['congresses'].str.replace(']', '', regex=True)"
   ]
  },
  {
   "cell_type": "code",
   "execution_count": 232,
   "id": "af5f1301",
   "metadata": {},
   "outputs": [],
   "source": [
    "congress_df = df_politicians['congresses'].str.split(',',4, expand=True)\n",
    "congress_df = congress_df.rename(columns={0: 'Position', 1: 'Congress Number', 2:'State Name',3:'Parties'})\n",
    "congress_df = congress_df.drop(4, axis=1)"
   ]
  },
  {
   "cell_type": "code",
   "execution_count": 233,
   "id": "4c7f37d6",
   "metadata": {},
   "outputs": [],
   "source": [
    "# As I never managed to split the column differently I did it with strings \n",
    "congress_df['Position'] = congress_df['Position'].str.replace('{', '', regex=True)\n",
    "congress_df['Position'] = congress_df['Position'].str.replace('position', '', regex=True)\n",
    "congress_df['Position'] = congress_df['Position'].str.replace(':', '', regex=True)\n",
    "congress_df['Position'] = congress_df['Position'].str.replace(\"'\", \"\")\n",
    "\n",
    "congress_df['Congress Number'] = congress_df['Congress Number'].str.replace('congressNumber', '', regex=True)\n",
    "congress_df['Congress Number'] = congress_df['Congress Number'].str.replace(':', '', regex=True)\n",
    "congress_df['Congress Number'] = congress_df['Congress Number'].str.replace(\"'\", \"\")\n",
    "\n",
    "congress_df['State Name'] = congress_df['State Name'].str.replace('stateName', '', regex=True)\n",
    "congress_df['State Name'] = congress_df['State Name'].str.replace(':', '', regex=True)\n",
    "congress_df['State Name'] = congress_df['State Name'].str.replace(\"'\", \"\")\n",
    "\n",
    "congress_df['Parties'] = congress_df['Parties'].str.replace('parties', '', regex=True)\n",
    "congress_df['Parties'] = congress_df['Parties'].str.replace('}', '', regex=True)\n",
    "congress_df['Parties'] = congress_df['Parties'].str.replace(':', '', regex=True)\n",
    "congress_df['Parties'] = congress_df['Parties'].str.replace(\"'\", \"\")\n"
   ]
  },
  {
   "cell_type": "markdown",
   "id": "94786259",
   "metadata": {},
   "source": [
    "Concatenate the table"
   ]
  },
  {
   "cell_type": "code",
   "execution_count": 234,
   "id": "1f2cd8a4",
   "metadata": {},
   "outputs": [
    {
     "data": {
      "text/html": [
       "<div>\n",
       "<style scoped>\n",
       "    .dataframe tbody tr th:only-of-type {\n",
       "        vertical-align: middle;\n",
       "    }\n",
       "\n",
       "    .dataframe tbody tr th {\n",
       "        vertical-align: top;\n",
       "    }\n",
       "\n",
       "    .dataframe thead th {\n",
       "        text-align: right;\n",
       "    }\n",
       "</style>\n",
       "<table border=\"1\" class=\"dataframe\">\n",
       "  <thead>\n",
       "    <tr style=\"text-align: right;\">\n",
       "      <th></th>\n",
       "      <th>id</th>\n",
       "      <th>givenName</th>\n",
       "      <th>familyName</th>\n",
       "      <th>unaccentedGivenName</th>\n",
       "      <th>unaccentedFamilyName</th>\n",
       "      <th>birthYear</th>\n",
       "      <th>deathYear</th>\n",
       "      <th>congresses</th>\n",
       "      <th>middleName</th>\n",
       "      <th>unaccentedMiddleName</th>\n",
       "      <th>nickName</th>\n",
       "      <th>honorificPrefix</th>\n",
       "      <th>honorificSuffix</th>\n",
       "      <th>fullName</th>\n",
       "      <th>Position</th>\n",
       "      <th>Congress Number</th>\n",
       "      <th>State Name</th>\n",
       "      <th>Parties</th>\n",
       "    </tr>\n",
       "  </thead>\n",
       "  <tbody>\n",
       "    <tr>\n",
       "      <th>0</th>\n",
       "      <td>A000014</td>\n",
       "      <td>Neil</td>\n",
       "      <td>Abercrombie</td>\n",
       "      <td>Neil</td>\n",
       "      <td>Abercrombie</td>\n",
       "      <td>1938</td>\n",
       "      <td>NaN</td>\n",
       "      <td>{'position': 'Representative', 'congressNumber...</td>\n",
       "      <td>NaN</td>\n",
       "      <td>NaN</td>\n",
       "      <td>NaN</td>\n",
       "      <td>NaN</td>\n",
       "      <td>NaN</td>\n",
       "      <td>Neil Abercrombie</td>\n",
       "      <td>Representative</td>\n",
       "      <td>99</td>\n",
       "      <td>HI</td>\n",
       "      <td>Democrat</td>\n",
       "    </tr>\n",
       "    <tr>\n",
       "      <th>1</th>\n",
       "      <td>A000374</td>\n",
       "      <td>Ralph</td>\n",
       "      <td>Abraham</td>\n",
       "      <td>Ralph</td>\n",
       "      <td>Abraham</td>\n",
       "      <td>1954</td>\n",
       "      <td>NaN</td>\n",
       "      <td>{'position': 'Representative', 'congressNumber...</td>\n",
       "      <td>NaN</td>\n",
       "      <td>NaN</td>\n",
       "      <td>NaN</td>\n",
       "      <td>NaN</td>\n",
       "      <td>NaN</td>\n",
       "      <td>Ralph Abraham</td>\n",
       "      <td>Representative</td>\n",
       "      <td>115</td>\n",
       "      <td>LA</td>\n",
       "      <td>Republican</td>\n",
       "    </tr>\n",
       "    <tr>\n",
       "      <th>2</th>\n",
       "      <td>A000022</td>\n",
       "      <td>Gary</td>\n",
       "      <td>Ackerman</td>\n",
       "      <td>Gary</td>\n",
       "      <td>Ackerman</td>\n",
       "      <td>1942</td>\n",
       "      <td>NaN</td>\n",
       "      <td>{'position': 'Representative', 'congressNumber...</td>\n",
       "      <td>Leonard</td>\n",
       "      <td>Leonard</td>\n",
       "      <td>NaN</td>\n",
       "      <td>NaN</td>\n",
       "      <td>NaN</td>\n",
       "      <td>Gary Ackerman</td>\n",
       "      <td>Representative</td>\n",
       "      <td>98</td>\n",
       "      <td>NY</td>\n",
       "      <td>Democrat</td>\n",
       "    </tr>\n",
       "  </tbody>\n",
       "</table>\n",
       "</div>"
      ],
      "text/plain": [
       "        id givenName   familyName unaccentedGivenName unaccentedFamilyName  \\\n",
       "0  A000014      Neil  Abercrombie                Neil          Abercrombie   \n",
       "1  A000374     Ralph      Abraham               Ralph              Abraham   \n",
       "2  A000022      Gary     Ackerman                Gary             Ackerman   \n",
       "\n",
       "   birthYear  deathYear                                         congresses  \\\n",
       "0       1938        NaN  {'position': 'Representative', 'congressNumber...   \n",
       "1       1954        NaN  {'position': 'Representative', 'congressNumber...   \n",
       "2       1942        NaN  {'position': 'Representative', 'congressNumber...   \n",
       "\n",
       "  middleName unaccentedMiddleName nickName honorificPrefix honorificSuffix  \\\n",
       "0        NaN                  NaN      NaN             NaN             NaN   \n",
       "1        NaN                  NaN      NaN             NaN             NaN   \n",
       "2    Leonard              Leonard      NaN             NaN             NaN   \n",
       "\n",
       "           fullName         Position Congress Number State Name       Parties  \n",
       "0  Neil Abercrombie   Representative              99         HI      Democrat  \n",
       "1     Ralph Abraham   Representative             115         LA    Republican  \n",
       "2     Gary Ackerman   Representative              98         NY      Democrat  "
      ]
     },
     "execution_count": 234,
     "metadata": {},
     "output_type": "execute_result"
    }
   ],
   "source": [
    "df_politicians = pd.concat([df_politicians, congress_df], axis=1)\n",
    "df_politicians.head(3)"
   ]
  },
  {
   "cell_type": "markdown",
   "id": "7a0b053b",
   "metadata": {},
   "source": [
    "## Now we want to merge the table with speakers with the table ith info about them"
   ]
  },
  {
   "cell_type": "markdown",
   "id": "ef7821f5",
   "metadata": {},
   "source": [
    "Check hther the politicians have duplicates. We have 4 cases where 2 politicians have the same name. I am deleting those names form the main dataset as we don't know about which one we will talk."
   ]
  },
  {
   "cell_type": "code",
   "execution_count": 257,
   "id": "ea3cdab2",
   "metadata": {},
   "outputs": [
    {
     "data": {
      "text/plain": [
       "1147"
      ]
     },
     "execution_count": 257,
     "metadata": {},
     "output_type": "execute_result"
    }
   ],
   "source": [
    "len(df_politicians)"
   ]
  },
  {
   "cell_type": "code",
   "execution_count": 259,
   "id": "4cfe665c",
   "metadata": {},
   "outputs": [
    {
     "data": {
      "text/plain": [
       "Neil Abercrombie      1\n",
       "Markwayne Mullin      1\n",
       "Stephanie Murphy      1\n",
       "Scott Murphy          1\n",
       "Christopher Murphy    1\n",
       "                     ..\n",
       "Jesús García          1\n",
       "Cory Gardner          1\n",
       "Thomas Garrett        1\n",
       "Scott Garrett         1\n",
       "Ryan Zinke            1\n",
       "Name: fullName, Length: 1147, dtype: int64"
      ]
     },
     "execution_count": 259,
     "metadata": {},
     "output_type": "execute_result"
    }
   ],
   "source": [
    "df_politicians['fullName'].value_counts()"
   ]
  },
  {
   "cell_type": "code",
   "execution_count": 245,
   "id": "4dfafdde",
   "metadata": {},
   "outputs": [],
   "source": [
    "df_politicians = df_politicians[df_politicians[\"fullName\"].str.contains(\"Timothy Johnson\")==False]\n",
    "df_politicians = df_politicians[df_politicians[\"fullName\"].str.contains(\"Donald Payne\")==False]\n",
    "df_politicians = df_politicians[df_politicians[\"fullName\"].str.contains(\"Duncan Hunter\")==False]\n",
    "df_politicians = df_politicians[df_politicians[\"fullName\"].str.contains(\"Patrick Murphy\")==False]"
   ]
  },
  {
   "cell_type": "code",
   "execution_count": 260,
   "id": "d1c44236",
   "metadata": {},
   "outputs": [
    {
     "data": {
      "text/plain": [
       "1147"
      ]
     },
     "execution_count": 260,
     "metadata": {},
     "output_type": "execute_result"
    }
   ],
   "source": [
    "len(df_politicians)"
   ]
  },
  {
   "cell_type": "markdown",
   "id": "3b324b07",
   "metadata": {},
   "source": [
    "I should have the name and family name in title (capital letter for every word) in order to have a better fit."
   ]
  },
  {
   "cell_type": "code",
   "execution_count": 265,
   "id": "2450001a",
   "metadata": {},
   "outputs": [],
   "source": [
    "df_politicians[\"speaker\"] = df_politicians[\"speaker\"].str.title()\n",
    "df[\"speaker\"] = df[\"speaker\"].str.title()"
   ]
  },
  {
   "cell_type": "code",
   "execution_count": 296,
   "id": "2ee53772",
   "metadata": {},
   "outputs": [],
   "source": [
    "data = pd.merge(df, df_politicians, on='speaker', how='outer') # we merged the dataset"
   ]
  },
  {
   "cell_type": "code",
   "execution_count": 312,
   "id": "838d5232",
   "metadata": {},
   "outputs": [],
   "source": [
    "## We should drop quotes that didn't math the politician \n",
    "data = data[data['Parties'].notna()]"
   ]
  },
  {
   "cell_type": "code",
   "execution_count": 314,
   "id": "1defdf0b",
   "metadata": {},
   "outputs": [],
   "source": [
    "# Subsets by parties \n",
    "subset_democrats = data[data['Parties'].str.contains(\"Democrat\")]\n",
    "subset_republican = data[data['Parties'].str.contains(\"Republican\")]"
   ]
  },
  {
   "cell_type": "code",
   "execution_count": 321,
   "id": "daf783ec",
   "metadata": {},
   "outputs": [
    {
     "data": {
      "text/html": [
       "<div>\n",
       "<style scoped>\n",
       "    .dataframe tbody tr th:only-of-type {\n",
       "        vertical-align: middle;\n",
       "    }\n",
       "\n",
       "    .dataframe tbody tr th {\n",
       "        vertical-align: top;\n",
       "    }\n",
       "\n",
       "    .dataframe thead th {\n",
       "        text-align: right;\n",
       "    }\n",
       "</style>\n",
       "<table border=\"1\" class=\"dataframe\">\n",
       "  <thead>\n",
       "    <tr style=\"text-align: right;\">\n",
       "      <th></th>\n",
       "      <th>quoteID</th>\n",
       "      <th>quotation</th>\n",
       "      <th>speaker</th>\n",
       "      <th>qids</th>\n",
       "      <th>date</th>\n",
       "      <th>numOccurrences</th>\n",
       "      <th>probas</th>\n",
       "      <th>urls</th>\n",
       "      <th>phase</th>\n",
       "      <th>subset</th>\n",
       "      <th>...</th>\n",
       "      <th>middleName</th>\n",
       "      <th>unaccentedMiddleName</th>\n",
       "      <th>nickName</th>\n",
       "      <th>honorificPrefix</th>\n",
       "      <th>honorificSuffix</th>\n",
       "      <th>fullName</th>\n",
       "      <th>Position</th>\n",
       "      <th>Congress Number</th>\n",
       "      <th>State Name</th>\n",
       "      <th>Parties</th>\n",
       "    </tr>\n",
       "  </thead>\n",
       "  <tbody>\n",
       "  </tbody>\n",
       "</table>\n",
       "<p>0 rows × 28 columns</p>\n",
       "</div>"
      ],
      "text/plain": [
       "Empty DataFrame\n",
       "Columns: [quoteID, quotation, speaker, qids, date, numOccurrences, probas, urls, phase, subset, id, givenName, familyName, unaccentedGivenName, unaccentedFamilyName, birthYear, deathYear, congresses, middleName, unaccentedMiddleName, nickName, honorificPrefix, honorificSuffix, fullName, Position, Congress Number, State Name, Parties]\n",
       "Index: []\n",
       "\n",
       "[0 rows x 28 columns]"
      ]
     },
     "execution_count": 321,
     "metadata": {},
     "output_type": "execute_result"
    }
   ],
   "source": []
  },
  {
   "cell_type": "code",
   "execution_count": 319,
   "id": "0222e539",
   "metadata": {},
   "outputs": [
    {
     "data": {
      "text/plain": [
       "0"
      ]
     },
     "execution_count": 319,
     "metadata": {},
     "output_type": "execute_result"
    }
   ],
   "source": []
  }
 ],
 "metadata": {
  "kernelspec": {
   "display_name": "Python 3 (ipykernel)",
   "language": "python",
   "name": "python3"
  },
  "language_info": {
   "codemirror_mode": {
    "name": "ipython",
    "version": 3
   },
   "file_extension": ".py",
   "mimetype": "text/x-python",
   "name": "python",
   "nbconvert_exporter": "python",
   "pygments_lexer": "ipython3",
   "version": "3.8.3"
  }
 },
 "nbformat": 4,
 "nbformat_minor": 5
}
