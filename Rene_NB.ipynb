{
 "cells": [
  {
   "cell_type": "code",
   "execution_count": 1,
   "id": "thorough-riding",
   "metadata": {},
   "outputs": [],
   "source": [
    "# Built-in\n",
    "import json\n",
    "import bz2\n",
    "import os\n",
    "import time\n",
    "import csv\n",
    "import requests\n",
    "\n",
    "# Third parties\n",
    "import numpy as np\n",
    "import pandas as pd\n",
    "import matplotlib.pyplot as plt\n",
    "import seaborn as sns\n",
    "from tqdm import tqdm\n",
    "from bs4 import BeautifulSoup"
   ]
  },
  {
   "cell_type": "code",
   "execution_count": 2,
   "id": "young-appeal",
   "metadata": {},
   "outputs": [],
   "source": [
    "def to_csv(file_name: str, pol_lst: list) -> None:\n",
    "    \"\"\"\n",
    "    Write list to csv\n",
    "    \"\"\"\n",
    "\n",
    "    csv_path = os.path.join(\"data\", \"resources\", file_name)\n",
    "\n",
    "    with open(csv_path, \"w\") as f:\n",
    "        writer = csv.writer(f, delimiter=\" \")\n",
    "        writer.writerow([\"Name\", \"Party\"])\n",
    "\n",
    "        for member in pol_lst:\n",
    "            writer.writerow([el for el in member])\n",
    "        "
   ]
  },
  {
   "cell_type": "markdown",
   "id": "oriented-cookie",
   "metadata": {},
   "source": [
    "# Loading data\n",
    "At first we will simply load the data from the quote bank, display examples, and then we start extracting relevant subsets."
   ]
  },
  {
   "cell_type": "code",
   "execution_count": 3,
   "id": "smaller-trout",
   "metadata": {},
   "outputs": [],
   "source": [
    "quote_filepath = os.path.join('quotes-2019-nytimes.json.bz2')\n",
    "politicians_filepath = os.path.join('data','resources','politicians_congress.csv')\n",
    "speaker_attributes_filepath = os.path.join('speaker_attributes.parquet')\n",
    "keys = ['quoteID', 'quotation', 'speaker', 'date', 'numOccurrences', 'phase']"
   ]
  },
  {
   "cell_type": "code",
   "execution_count": 4,
   "id": "talented-plymouth",
   "metadata": {},
   "outputs": [],
   "source": [
    "# Load dataframe. It is faster this way than using pd.read_json\n",
    "with bz2.open(quote_filepath, 'rb') as quote_file:\n",
    "    df = pd.DataFrame([dict(zip(keys,map(json.loads(instance).get, keys))) for instance in quote_file])\n",
    "\n",
    "# Load speakers data\n",
    "df_speaker_attributes = pd.read_parquet(speaker_attributes_filepath)"
   ]
  },
  {
   "cell_type": "code",
   "execution_count": 6,
   "id": "figured-mapping",
   "metadata": {},
   "outputs": [
    {
     "data": {
      "text/html": [
       "<div>\n",
       "<style scoped>\n",
       "    .dataframe tbody tr th:only-of-type {\n",
       "        vertical-align: middle;\n",
       "    }\n",
       "\n",
       "    .dataframe tbody tr th {\n",
       "        vertical-align: top;\n",
       "    }\n",
       "\n",
       "    .dataframe thead th {\n",
       "        text-align: right;\n",
       "    }\n",
       "</style>\n",
       "<table border=\"1\" class=\"dataframe\">\n",
       "  <thead>\n",
       "    <tr style=\"text-align: right;\">\n",
       "      <th></th>\n",
       "      <th>quoteID</th>\n",
       "      <th>quotation</th>\n",
       "      <th>speaker</th>\n",
       "      <th>date</th>\n",
       "      <th>numOccurrences</th>\n",
       "      <th>phase</th>\n",
       "    </tr>\n",
       "  </thead>\n",
       "  <tbody>\n",
       "    <tr>\n",
       "      <th>0</th>\n",
       "      <td>2019-04-17-024782</td>\n",
       "      <td>It is not a low-income immigration,</td>\n",
       "      <td>James Fisher</td>\n",
       "      <td>2019-04-17 13:31:18</td>\n",
       "      <td>1</td>\n",
       "      <td>E</td>\n",
       "    </tr>\n",
       "    <tr>\n",
       "      <th>1</th>\n",
       "      <td>2019-04-02-001128</td>\n",
       "      <td>a champion figure skater switching to roller s...</td>\n",
       "      <td>John Updike</td>\n",
       "      <td>2019-04-02 14:58:33</td>\n",
       "      <td>2</td>\n",
       "      <td>E</td>\n",
       "    </tr>\n",
       "    <tr>\n",
       "      <th>2</th>\n",
       "      <td>2019-05-09-055187</td>\n",
       "      <td>It makes it much more difficult for him to mak...</td>\n",
       "      <td>None</td>\n",
       "      <td>2019-05-09 18:11:29</td>\n",
       "      <td>1</td>\n",
       "      <td>E</td>\n",
       "    </tr>\n",
       "    <tr>\n",
       "      <th>3</th>\n",
       "      <td>2019-10-31-056366</td>\n",
       "      <td>It puts me in a predicament,</td>\n",
       "      <td>Xavier Becerra</td>\n",
       "      <td>2019-10-31 16:45:15</td>\n",
       "      <td>3</td>\n",
       "      <td>E</td>\n",
       "    </tr>\n",
       "    <tr>\n",
       "      <th>4</th>\n",
       "      <td>2019-01-04-001792</td>\n",
       "      <td>A Pile of Leaves.</td>\n",
       "      <td>None</td>\n",
       "      <td>2019-01-04 10:00:07</td>\n",
       "      <td>1</td>\n",
       "      <td>E</td>\n",
       "    </tr>\n",
       "  </tbody>\n",
       "</table>\n",
       "</div>"
      ],
      "text/plain": [
       "             quoteID                                          quotation  \\\n",
       "0  2019-04-17-024782                It is not a low-income immigration,   \n",
       "1  2019-04-02-001128  a champion figure skater switching to roller s...   \n",
       "2  2019-05-09-055187  It makes it much more difficult for him to mak...   \n",
       "3  2019-10-31-056366                       It puts me in a predicament,   \n",
       "4  2019-01-04-001792                                  A Pile of Leaves.   \n",
       "\n",
       "          speaker                 date  numOccurrences phase  \n",
       "0    James Fisher  2019-04-17 13:31:18               1     E  \n",
       "1     John Updike  2019-04-02 14:58:33               2     E  \n",
       "2            None  2019-05-09 18:11:29               1     E  \n",
       "3  Xavier Becerra  2019-10-31 16:45:15               3     E  \n",
       "4            None  2019-01-04 10:00:07               1     E  "
      ]
     },
     "execution_count": 6,
     "metadata": {},
     "output_type": "execute_result"
    }
   ],
   "source": [
    "df.head()"
   ]
  },
  {
   "cell_type": "code",
   "execution_count": 19,
   "id": "fundamental-transition",
   "metadata": {},
   "outputs": [
    {
     "data": {
      "text/html": [
       "<div>\n",
       "<style scoped>\n",
       "    .dataframe tbody tr th:only-of-type {\n",
       "        vertical-align: middle;\n",
       "    }\n",
       "\n",
       "    .dataframe tbody tr th {\n",
       "        vertical-align: top;\n",
       "    }\n",
       "\n",
       "    .dataframe thead th {\n",
       "        text-align: right;\n",
       "    }\n",
       "</style>\n",
       "<table border=\"1\" class=\"dataframe\">\n",
       "  <thead>\n",
       "    <tr style=\"text-align: right;\">\n",
       "      <th></th>\n",
       "      <th>quoteID</th>\n",
       "      <th>quotation</th>\n",
       "      <th>speaker</th>\n",
       "      <th>date</th>\n",
       "      <th>numOccurrences</th>\n",
       "      <th>phase</th>\n",
       "    </tr>\n",
       "  </thead>\n",
       "  <tbody>\n",
       "  </tbody>\n",
       "</table>\n",
       "</div>"
      ],
      "text/plain": [
       "Empty DataFrame\n",
       "Columns: [quoteID, quotation, speaker, date, numOccurrences, phase]\n",
       "Index: []"
      ]
     },
     "execution_count": 19,
     "metadata": {},
     "output_type": "execute_result"
    }
   ],
   "source": [
    "a = []\n",
    "for i in range(len(congress_members)) :\n",
    "    a.append(congress_members[i][0])\n",
    "a\n",
    "df2 = df[df[\"speaker\"].isin(a)]\n",
    "df2\n",
    "# None because for example, Hillary Clinton is written 'Hillary Rodham Clinton'\n",
    "\n",
    "### Works like this\n",
    "#b = ['James Fisher', 'John Updike', 'Hillary Clinton']\n",
    "#df2 = df[df[\"speaker\"].isin(b)]\n",
    "#df2"
   ]
  },
  {
   "cell_type": "code",
   "execution_count": 20,
   "id": "altered-fisher",
   "metadata": {},
   "outputs": [
    {
     "data": {
      "text/plain": [
       "0          [Washington, President Washington, G. Washingt...\n",
       "1          [Douglas Noel Adams, Douglas Noël Adams, Dougl...\n",
       "2              [Paul Marie Ghislain Otlet, Paul Marie Otlet]\n",
       "3          [George Walker Bush, Bush Jr., Dubya, GWB, Bus...\n",
       "4          [Velázquez, Diego Rodríguez de Silva y Velázqu...\n",
       "                                 ...                        \n",
       "9055976                                      [Barker Howard]\n",
       "9055977                                   [Charles Macomber]\n",
       "9055978                                                 None\n",
       "9055979                                                 None\n",
       "9055980                                         [Fred Trull]\n",
       "Name: aliases, Length: 9055981, dtype: object"
      ]
     },
     "execution_count": 20,
     "metadata": {},
     "output_type": "execute_result"
    }
   ],
   "source": [
    "df_speaker_attributes[\"aliases\"]"
   ]
  },
  {
   "cell_type": "code",
   "execution_count": null,
   "id": "convertible-affiliate",
   "metadata": {},
   "outputs": [],
   "source": [
    "a = []\n",
    "for i in range(len(congress_members)) :\n",
    "    a.append(congress_members[i][0])\n",
    "a = pd.Series(a)"
   ]
  },
  {
   "cell_type": "code",
   "execution_count": null,
   "id": "ranking-breast",
   "metadata": {},
   "outputs": [],
   "source": [
    "# Long to load, problem\n",
    "kk = a.isin(df_speaker_attributes[\"aliases\"])"
   ]
  },
  {
   "cell_type": "code",
   "execution_count": 21,
   "id": "better-sailing",
   "metadata": {},
   "outputs": [
    {
     "ename": "SystemError",
     "evalue": "<built-in method view of numpy.ndarray object at 0x000002B2C25094E0> returned a result with an error set",
     "output_type": "error",
     "traceback": [
      "\u001b[1;31m---------------------------------------------------------------------------\u001b[0m",
      "\u001b[1;31mTypeError\u001b[0m                                 Traceback (most recent call last)",
      "\u001b[1;31mTypeError\u001b[0m: unhashable type: 'numpy.ndarray'",
      "\nThe above exception was the direct cause of the following exception:\n",
      "\u001b[1;31mSystemError\u001b[0m                               Traceback (most recent call last)",
      "\u001b[1;32m<ipython-input-21-c56ad7874755>\u001b[0m in \u001b[0;36m<module>\u001b[1;34m\u001b[0m\n\u001b[1;32m----> 1\u001b[1;33m \u001b[0mkk\u001b[0m \u001b[1;33m=\u001b[0m \u001b[0mdf_speaker_attributes\u001b[0m\u001b[1;33m[\u001b[0m\u001b[1;34m\"aliases\"\u001b[0m\u001b[1;33m]\u001b[0m\u001b[1;33m.\u001b[0m\u001b[0misin\u001b[0m\u001b[1;33m(\u001b[0m\u001b[0ma\u001b[0m\u001b[1;33m)\u001b[0m\u001b[1;33m\u001b[0m\u001b[1;33m\u001b[0m\u001b[0m\n\u001b[0m",
      "\u001b[1;32m~\\Anaconda3\\lib\\site-packages\\pandas\\core\\series.py\u001b[0m in \u001b[0;36misin\u001b[1;34m(self, values)\u001b[0m\n\u001b[0;32m   4663\u001b[0m         \u001b[0mdtype\u001b[0m\u001b[1;33m:\u001b[0m \u001b[0mbool\u001b[0m\u001b[1;33m\u001b[0m\u001b[1;33m\u001b[0m\u001b[0m\n\u001b[0;32m   4664\u001b[0m         \"\"\"\n\u001b[1;32m-> 4665\u001b[1;33m         \u001b[0mresult\u001b[0m \u001b[1;33m=\u001b[0m \u001b[0malgorithms\u001b[0m\u001b[1;33m.\u001b[0m\u001b[0misin\u001b[0m\u001b[1;33m(\u001b[0m\u001b[0mself\u001b[0m\u001b[1;33m.\u001b[0m\u001b[0m_values\u001b[0m\u001b[1;33m,\u001b[0m \u001b[0mvalues\u001b[0m\u001b[1;33m)\u001b[0m\u001b[1;33m\u001b[0m\u001b[1;33m\u001b[0m\u001b[0m\n\u001b[0m\u001b[0;32m   4666\u001b[0m         return self._constructor(result, index=self.index).__finalize__(\n\u001b[0;32m   4667\u001b[0m             \u001b[0mself\u001b[0m\u001b[1;33m,\u001b[0m \u001b[0mmethod\u001b[0m\u001b[1;33m=\u001b[0m\u001b[1;34m\"isin\"\u001b[0m\u001b[1;33m\u001b[0m\u001b[1;33m\u001b[0m\u001b[0m\n",
      "\u001b[1;32m~\\Anaconda3\\lib\\site-packages\\pandas\\core\\algorithms.py\u001b[0m in \u001b[0;36misin\u001b[1;34m(comps, values)\u001b[0m\n\u001b[0;32m    491\u001b[0m         \u001b[0mf\u001b[0m \u001b[1;33m=\u001b[0m \u001b[0mgetattr\u001b[0m\u001b[1;33m(\u001b[0m\u001b[0mhtable\u001b[0m\u001b[1;33m,\u001b[0m \u001b[1;34mf\"ismember_{name}\"\u001b[0m\u001b[1;33m)\u001b[0m\u001b[1;33m\u001b[0m\u001b[1;33m\u001b[0m\u001b[0m\n\u001b[0;32m    492\u001b[0m \u001b[1;33m\u001b[0m\u001b[0m\n\u001b[1;32m--> 493\u001b[1;33m     \u001b[1;32mreturn\u001b[0m \u001b[0mf\u001b[0m\u001b[1;33m(\u001b[0m\u001b[0mcomps\u001b[0m\u001b[1;33m,\u001b[0m \u001b[0mvalues\u001b[0m\u001b[1;33m)\u001b[0m\u001b[1;33m\u001b[0m\u001b[1;33m\u001b[0m\u001b[0m\n\u001b[0m\u001b[0;32m    494\u001b[0m \u001b[1;33m\u001b[0m\u001b[0m\n\u001b[0;32m    495\u001b[0m \u001b[1;33m\u001b[0m\u001b[0m\n",
      "\u001b[1;32mpandas\\_libs\\hashtable_func_helper.pxi\u001b[0m in \u001b[0;36mpandas._libs.hashtable.ismember_object\u001b[1;34m()\u001b[0m\n",
      "\u001b[1;31mSystemError\u001b[0m: <built-in method view of numpy.ndarray object at 0x000002B2C25094E0> returned a result with an error set"
     ]
    }
   ],
   "source": []
  },
  {
   "cell_type": "code",
   "execution_count": 23,
   "id": "cardiovascular-puppy",
   "metadata": {},
   "outputs": [],
   "source": []
  },
  {
   "cell_type": "code",
   "execution_count": null,
   "id": "negative-flesh",
   "metadata": {},
   "outputs": [],
   "source": []
  },
  {
   "cell_type": "code",
   "execution_count": null,
   "id": "foster-triangle",
   "metadata": {},
   "outputs": [],
   "source": []
  },
  {
   "cell_type": "code",
   "execution_count": 18,
   "id": "piano-boston",
   "metadata": {},
   "outputs": [
    {
     "data": {
      "text/html": [
       "<div>\n",
       "<style scoped>\n",
       "    .dataframe tbody tr th:only-of-type {\n",
       "        vertical-align: middle;\n",
       "    }\n",
       "\n",
       "    .dataframe tbody tr th {\n",
       "        vertical-align: top;\n",
       "    }\n",
       "\n",
       "    .dataframe thead th {\n",
       "        text-align: right;\n",
       "    }\n",
       "</style>\n",
       "<table border=\"1\" class=\"dataframe\">\n",
       "  <thead>\n",
       "    <tr style=\"text-align: right;\">\n",
       "      <th></th>\n",
       "      <th>aliases</th>\n",
       "      <th>date_of_birth</th>\n",
       "      <th>nationality</th>\n",
       "      <th>gender</th>\n",
       "      <th>lastrevid</th>\n",
       "      <th>ethnic_group</th>\n",
       "      <th>US_congress_bio_ID</th>\n",
       "      <th>occupation</th>\n",
       "      <th>party</th>\n",
       "      <th>academic_degree</th>\n",
       "      <th>id</th>\n",
       "      <th>label</th>\n",
       "      <th>candidacy</th>\n",
       "      <th>type</th>\n",
       "      <th>religion</th>\n",
       "    </tr>\n",
       "  </thead>\n",
       "  <tbody>\n",
       "    <tr>\n",
       "      <th>0</th>\n",
       "      <td>[Washington, President Washington, G. Washingt...</td>\n",
       "      <td>[+1732-02-22T00:00:00Z]</td>\n",
       "      <td>[Q161885, Q30]</td>\n",
       "      <td>[Q6581097]</td>\n",
       "      <td>1395141751</td>\n",
       "      <td>None</td>\n",
       "      <td>W000178</td>\n",
       "      <td>[Q82955, Q189290, Q131512, Q1734662, Q294126, ...</td>\n",
       "      <td>[Q327591]</td>\n",
       "      <td>None</td>\n",
       "      <td>Q23</td>\n",
       "      <td>George Washington</td>\n",
       "      <td>[Q698073, Q697949]</td>\n",
       "      <td>item</td>\n",
       "      <td>[Q682443]</td>\n",
       "    </tr>\n",
       "    <tr>\n",
       "      <th>1</th>\n",
       "      <td>[Douglas Noel Adams, Douglas Noël Adams, Dougl...</td>\n",
       "      <td>[+1952-03-11T00:00:00Z]</td>\n",
       "      <td>[Q145]</td>\n",
       "      <td>[Q6581097]</td>\n",
       "      <td>1395737157</td>\n",
       "      <td>[Q7994501]</td>\n",
       "      <td>None</td>\n",
       "      <td>[Q214917, Q28389, Q6625963, Q4853732, Q1884422...</td>\n",
       "      <td>None</td>\n",
       "      <td>None</td>\n",
       "      <td>Q42</td>\n",
       "      <td>Douglas Adams</td>\n",
       "      <td>None</td>\n",
       "      <td>item</td>\n",
       "      <td>None</td>\n",
       "    </tr>\n",
       "    <tr>\n",
       "      <th>2</th>\n",
       "      <td>[Paul Marie Ghislain Otlet, Paul Marie Otlet]</td>\n",
       "      <td>[+1868-08-23T00:00:00Z]</td>\n",
       "      <td>[Q31]</td>\n",
       "      <td>[Q6581097]</td>\n",
       "      <td>1380367296</td>\n",
       "      <td>None</td>\n",
       "      <td>None</td>\n",
       "      <td>[Q36180, Q40348, Q182436, Q1265807, Q205375, Q...</td>\n",
       "      <td>None</td>\n",
       "      <td>None</td>\n",
       "      <td>Q1868</td>\n",
       "      <td>Paul Otlet</td>\n",
       "      <td>None</td>\n",
       "      <td>item</td>\n",
       "      <td>None</td>\n",
       "    </tr>\n",
       "    <tr>\n",
       "      <th>3</th>\n",
       "      <td>[George Walker Bush, Bush Jr., Dubya, GWB, Bus...</td>\n",
       "      <td>[+1946-07-06T00:00:00Z]</td>\n",
       "      <td>[Q30]</td>\n",
       "      <td>[Q6581097]</td>\n",
       "      <td>1395142029</td>\n",
       "      <td>None</td>\n",
       "      <td>None</td>\n",
       "      <td>[Q82955, Q15982858, Q18814623, Q1028181, Q1408...</td>\n",
       "      <td>[Q29468]</td>\n",
       "      <td>None</td>\n",
       "      <td>Q207</td>\n",
       "      <td>George W. Bush</td>\n",
       "      <td>[Q327959, Q464075, Q3586276, Q4450587]</td>\n",
       "      <td>item</td>\n",
       "      <td>[Q329646, Q682443, Q33203]</td>\n",
       "    </tr>\n",
       "    <tr>\n",
       "      <th>4</th>\n",
       "      <td>[Velázquez, Diego Rodríguez de Silva y Velázqu...</td>\n",
       "      <td>[+1599-06-06T00:00:00Z]</td>\n",
       "      <td>[Q29]</td>\n",
       "      <td>[Q6581097]</td>\n",
       "      <td>1391704596</td>\n",
       "      <td>None</td>\n",
       "      <td>None</td>\n",
       "      <td>[Q1028181]</td>\n",
       "      <td>None</td>\n",
       "      <td>None</td>\n",
       "      <td>Q297</td>\n",
       "      <td>Diego Velázquez</td>\n",
       "      <td>None</td>\n",
       "      <td>item</td>\n",
       "      <td>None</td>\n",
       "    </tr>\n",
       "  </tbody>\n",
       "</table>\n",
       "</div>"
      ],
      "text/plain": [
       "                                             aliases            date_of_birth  \\\n",
       "0  [Washington, President Washington, G. Washingt...  [+1732-02-22T00:00:00Z]   \n",
       "1  [Douglas Noel Adams, Douglas Noël Adams, Dougl...  [+1952-03-11T00:00:00Z]   \n",
       "2      [Paul Marie Ghislain Otlet, Paul Marie Otlet]  [+1868-08-23T00:00:00Z]   \n",
       "3  [George Walker Bush, Bush Jr., Dubya, GWB, Bus...  [+1946-07-06T00:00:00Z]   \n",
       "4  [Velázquez, Diego Rodríguez de Silva y Velázqu...  [+1599-06-06T00:00:00Z]   \n",
       "\n",
       "      nationality      gender   lastrevid ethnic_group US_congress_bio_ID  \\\n",
       "0  [Q161885, Q30]  [Q6581097]  1395141751         None            W000178   \n",
       "1          [Q145]  [Q6581097]  1395737157   [Q7994501]               None   \n",
       "2           [Q31]  [Q6581097]  1380367296         None               None   \n",
       "3           [Q30]  [Q6581097]  1395142029         None               None   \n",
       "4           [Q29]  [Q6581097]  1391704596         None               None   \n",
       "\n",
       "                                          occupation      party  \\\n",
       "0  [Q82955, Q189290, Q131512, Q1734662, Q294126, ...  [Q327591]   \n",
       "1  [Q214917, Q28389, Q6625963, Q4853732, Q1884422...       None   \n",
       "2  [Q36180, Q40348, Q182436, Q1265807, Q205375, Q...       None   \n",
       "3  [Q82955, Q15982858, Q18814623, Q1028181, Q1408...   [Q29468]   \n",
       "4                                         [Q1028181]       None   \n",
       "\n",
       "  academic_degree     id              label  \\\n",
       "0            None    Q23  George Washington   \n",
       "1            None    Q42      Douglas Adams   \n",
       "2            None  Q1868         Paul Otlet   \n",
       "3            None   Q207     George W. Bush   \n",
       "4            None   Q297    Diego Velázquez   \n",
       "\n",
       "                                candidacy  type                    religion  \n",
       "0                      [Q698073, Q697949]  item                   [Q682443]  \n",
       "1                                    None  item                        None  \n",
       "2                                    None  item                        None  \n",
       "3  [Q327959, Q464075, Q3586276, Q4450587]  item  [Q329646, Q682443, Q33203]  \n",
       "4                                    None  item                        None  "
      ]
     },
     "execution_count": 18,
     "metadata": {},
     "output_type": "execute_result"
    }
   ],
   "source": [
    "len(df_speaker_attributes) # 9 055 981 speakers\n",
    "df_speaker_attributes.head()"
   ]
  },
  {
   "cell_type": "markdown",
   "id": "foreign-chest",
   "metadata": {},
   "source": [
    "## Task 2 \n",
    "\n",
    "\n",
    "### Task 2.1\n",
    "Get list of US politicians with political affiliation. \n",
    "\n",
    "2 sources:\n",
    "- https://github.com/casmlab/politicians-tweets \n",
    "- https://www.congress.gov/members?q={%22congress%22:[%22110%22,%22111%22,%22112%22,%22113%22,%22114%22,%22115%22,%22116%22,117]}\n",
    "\n",
    "Take 1st list, keep politicians whose affiliation is known. Then merge with congress list to be sure we have a good dataset.\n",
    "List of politicians is in `data/ressources/politicians.json`."
   ]
  },
  {
   "cell_type": "code",
   "execution_count": 5,
   "id": "administrative-tenant",
   "metadata": {},
   "outputs": [],
   "source": [
    "file_name = \"politicians_github.json\"\n",
    "file_path = os.path.join(\"data\", \"resources\", file_name)\n",
    "\n",
    "with open(file_path, \"r\") as f:\n",
    "    json = json.load(f)"
   ]
  },
  {
   "cell_type": "code",
   "execution_count": 6,
   "id": "statutory-installation",
   "metadata": {},
   "outputs": [
    {
     "data": {
      "text/plain": [
       "dict_keys(['id', 'id_str', 'screen_name', 'confirmed_account_type', 'state', 'twitter_name', 'real_name', 'bioguide', 'office_holder', 'party', 'district', 'level', 'woman', 'birthday', 'last_updated'])"
      ]
     },
     "execution_count": 6,
     "metadata": {},
     "output_type": "execute_result"
    }
   ],
   "source": [
    "json.keys()"
   ]
  },
  {
   "cell_type": "code",
   "execution_count": 7,
   "id": "serial-quality",
   "metadata": {},
   "outputs": [
    {
     "name": "stderr",
     "output_type": "stream",
     "text": [
      "100%|██████████| 9979/9979 [00:00<00:00, 476425.80it/s]\n"
     ]
    }
   ],
   "source": [
    "# Only keep politicians with political affiliation\n",
    "politicians = []\n",
    "\n",
    "for i in tqdm(range(1, len(json[\"id\"]))):\n",
    "    i = str(i)\n",
    "    affiliation = json[\"party\"][i]\n",
    "    screen_name = json[\"screen_name\"][i]\n",
    "    elected = json[\"office_holder\"][i] is not None\n",
    "\n",
    "    if affiliation is not None and affiliation in (\"Republican\", \"Democratic\"):\n",
    "        politicians.append((json[\"real_name\"][i], affiliation, elected))\n",
    "    elif screen_name == \"realdonaldtrump\":\n",
    "        politicians.append((\"Donald Trump\", \"Republican\", True))\n",
    "    elif screen_name == \"barackobama\":\n",
    "        politicians.append((\"Barack Obama\", \"Democratic\", True))\n"
   ]
  },
  {
   "cell_type": "code",
   "execution_count": 10,
   "id": "impossible-warrior",
   "metadata": {},
   "outputs": [
    {
     "data": {
      "text/plain": [
       "1107"
      ]
     },
     "execution_count": 10,
     "metadata": {},
     "output_type": "execute_result"
    }
   ],
   "source": [
    "# Count how many politicians are \"elected\" (-> congress members)\n",
    "sum(pol[-1] for pol in politicians)"
   ]
  },
  {
   "cell_type": "markdown",
   "id": "meaningful-sierra",
   "metadata": {},
   "source": [
    "All politicians are in Congress!"
   ]
  },
  {
   "cell_type": "code",
   "execution_count": 11,
   "id": "consistent-disaster",
   "metadata": {},
   "outputs": [
    {
     "name": "stdout",
     "output_type": "stream",
     "text": [
      "1107\n"
     ]
    },
    {
     "data": {
      "text/plain": [
       "[('Mark Green', 'Republican', True),\n",
       " ('Pete Stauber', 'Republican', True),\n",
       " ('Derek Kilmer', 'Democratic', True),\n",
       " ('Andy Harris', 'Republican', True),\n",
       " ('Donald Payne', 'Democratic', True),\n",
       " ('A. Ferguson', 'Republican', True),\n",
       " ('Richard Hudson', 'Republican', True),\n",
       " ('Edward Markey', 'Democratic', True),\n",
       " ('Bobby Rush', 'Democratic', True),\n",
       " ('Gregory Meeks', 'Democratic', True)]"
      ]
     },
     "execution_count": 11,
     "metadata": {},
     "output_type": "execute_result"
    }
   ],
   "source": [
    "# Sanity check\n",
    "print(f\"{len(politicians)}\") \n",
    "politicians[:10]"
   ]
  },
  {
   "cell_type": "code",
   "execution_count": 12,
   "id": "cultural-parallel",
   "metadata": {},
   "outputs": [
    {
     "ename": "UnicodeEncodeError",
     "evalue": "'charmap' codec can't encode character '\\u02bb' in position 7: character maps to <undefined>",
     "output_type": "error",
     "traceback": [
      "\u001b[1;31m---------------------------------------------------------------------------\u001b[0m",
      "\u001b[1;31mUnicodeEncodeError\u001b[0m                        Traceback (most recent call last)",
      "\u001b[1;32m<ipython-input-12-abeac01ecb52>\u001b[0m in \u001b[0;36m<module>\u001b[1;34m\u001b[0m\n\u001b[0;32m      1\u001b[0m \u001b[1;31m# Write to file\u001b[0m\u001b[1;33m\u001b[0m\u001b[1;33m\u001b[0m\u001b[1;33m\u001b[0m\u001b[0m\n\u001b[1;32m----> 2\u001b[1;33m \u001b[0mto_csv\u001b[0m\u001b[1;33m(\u001b[0m\u001b[1;34m\"politicians_github.csv\"\u001b[0m\u001b[1;33m,\u001b[0m \u001b[0mpoliticians\u001b[0m\u001b[1;33m)\u001b[0m\u001b[1;33m\u001b[0m\u001b[1;33m\u001b[0m\u001b[0m\n\u001b[0m",
      "\u001b[1;32m<ipython-input-2-6f16b5b51446>\u001b[0m in \u001b[0;36mto_csv\u001b[1;34m(file_name, pol_lst)\u001b[0m\n\u001b[0;32m     11\u001b[0m \u001b[1;33m\u001b[0m\u001b[0m\n\u001b[0;32m     12\u001b[0m         \u001b[1;32mfor\u001b[0m \u001b[0mmember\u001b[0m \u001b[1;32min\u001b[0m \u001b[0mpol_lst\u001b[0m\u001b[1;33m:\u001b[0m\u001b[1;33m\u001b[0m\u001b[1;33m\u001b[0m\u001b[0m\n\u001b[1;32m---> 13\u001b[1;33m             \u001b[0mwriter\u001b[0m\u001b[1;33m.\u001b[0m\u001b[0mwriterow\u001b[0m\u001b[1;33m(\u001b[0m\u001b[1;33m[\u001b[0m\u001b[0mel\u001b[0m \u001b[1;32mfor\u001b[0m \u001b[0mel\u001b[0m \u001b[1;32min\u001b[0m \u001b[0mmember\u001b[0m\u001b[1;33m]\u001b[0m\u001b[1;33m)\u001b[0m\u001b[1;33m\u001b[0m\u001b[1;33m\u001b[0m\u001b[0m\n\u001b[0m\u001b[0;32m     14\u001b[0m \u001b[1;33m\u001b[0m\u001b[0m\n",
      "\u001b[1;32m~\\Anaconda3\\lib\\encodings\\cp1252.py\u001b[0m in \u001b[0;36mencode\u001b[1;34m(self, input, final)\u001b[0m\n\u001b[0;32m     17\u001b[0m \u001b[1;32mclass\u001b[0m \u001b[0mIncrementalEncoder\u001b[0m\u001b[1;33m(\u001b[0m\u001b[0mcodecs\u001b[0m\u001b[1;33m.\u001b[0m\u001b[0mIncrementalEncoder\u001b[0m\u001b[1;33m)\u001b[0m\u001b[1;33m:\u001b[0m\u001b[1;33m\u001b[0m\u001b[1;33m\u001b[0m\u001b[0m\n\u001b[0;32m     18\u001b[0m     \u001b[1;32mdef\u001b[0m \u001b[0mencode\u001b[0m\u001b[1;33m(\u001b[0m\u001b[0mself\u001b[0m\u001b[1;33m,\u001b[0m \u001b[0minput\u001b[0m\u001b[1;33m,\u001b[0m \u001b[0mfinal\u001b[0m\u001b[1;33m=\u001b[0m\u001b[1;32mFalse\u001b[0m\u001b[1;33m)\u001b[0m\u001b[1;33m:\u001b[0m\u001b[1;33m\u001b[0m\u001b[1;33m\u001b[0m\u001b[0m\n\u001b[1;32m---> 19\u001b[1;33m         \u001b[1;32mreturn\u001b[0m \u001b[0mcodecs\u001b[0m\u001b[1;33m.\u001b[0m\u001b[0mcharmap_encode\u001b[0m\u001b[1;33m(\u001b[0m\u001b[0minput\u001b[0m\u001b[1;33m,\u001b[0m\u001b[0mself\u001b[0m\u001b[1;33m.\u001b[0m\u001b[0merrors\u001b[0m\u001b[1;33m,\u001b[0m\u001b[0mencoding_table\u001b[0m\u001b[1;33m)\u001b[0m\u001b[1;33m[\u001b[0m\u001b[1;36m0\u001b[0m\u001b[1;33m]\u001b[0m\u001b[1;33m\u001b[0m\u001b[1;33m\u001b[0m\u001b[0m\n\u001b[0m\u001b[0;32m     20\u001b[0m \u001b[1;33m\u001b[0m\u001b[0m\n\u001b[0;32m     21\u001b[0m \u001b[1;32mclass\u001b[0m \u001b[0mIncrementalDecoder\u001b[0m\u001b[1;33m(\u001b[0m\u001b[0mcodecs\u001b[0m\u001b[1;33m.\u001b[0m\u001b[0mIncrementalDecoder\u001b[0m\u001b[1;33m)\u001b[0m\u001b[1;33m:\u001b[0m\u001b[1;33m\u001b[0m\u001b[1;33m\u001b[0m\u001b[0m\n",
      "\u001b[1;31mUnicodeEncodeError\u001b[0m: 'charmap' codec can't encode character '\\u02bb' in position 7: character maps to <undefined>"
     ]
    }
   ],
   "source": [
    "# Write to file\n",
    "to_csv(\"politicians_github.csv\", politicians)"
   ]
  },
  {
   "cell_type": "markdown",
   "id": "laden-swedish",
   "metadata": {},
   "source": [
    "#### US Congress dataset"
   ]
  },
  {
   "cell_type": "code",
   "execution_count": 8,
   "id": "alternative-carter",
   "metadata": {},
   "outputs": [],
   "source": [
    "URL = 'https://www.congress.gov/members?q={\"congress\":[\"110\",\"111\",\"112\",\"113\",\"114\",\"115\",\"116\",117]}&pageSize=250'"
   ]
  },
  {
   "cell_type": "code",
   "execution_count": 9,
   "id": "applied-essence",
   "metadata": {},
   "outputs": [],
   "source": [
    "def sanitize_name(name: str) -> str:\n",
    "    \"\"\"\n",
    "    Strip and clean name.\n",
    "    \"Senator Cruz, Ted\" -> \"Ted Cruz\"\n",
    "    \"\"\"\n",
    "\n",
    "    for element in (\"Representative\", \"Senator\"):\n",
    "        name = name.strip(element)\n",
    "\n",
    "    name = \" \".join(name.split(\",\")[::-1])\n",
    "    name = name.strip()\n",
    "    \n",
    "    return name"
   ]
  },
  {
   "cell_type": "code",
   "execution_count": 10,
   "id": "adult-winning",
   "metadata": {},
   "outputs": [
    {
     "name": "stderr",
     "output_type": "stream",
     "text": [
      "100%|██████████| 5/5 [00:10<00:00,  2.06s/it]\n"
     ]
    }
   ],
   "source": [
    "congress_members = []\n",
    "\n",
    "# Download each congress page\n",
    "with requests.Session() as s:\n",
    "    for page_number in tqdm(range(1, 6)):\n",
    "        r  = s.get(URL, params={\"page\": page_number})\n",
    "        soup = BeautifulSoup(r.text, \"html.parser\")\n",
    "\n",
    "        members = soup.find_all(\"li\", class_=\"compact\")\n",
    "\n",
    "        for member in members:\n",
    "            # Scrape the information\n",
    "            items = member.find_all(\"span\", class_=\"result-item\")\n",
    "            name = sanitize_name(member.span.a.text)\n",
    "            \n",
    "            for item in items:\n",
    "                if item.strong.text == \"Party:\":\n",
    "                    affiliation = item.span.text\n",
    "\n",
    "            congress_members.append((name, affiliation))"
   ]
  },
  {
   "cell_type": "code",
   "execution_count": 15,
   "id": "alive-andrews",
   "metadata": {},
   "outputs": [
    {
     "data": {
      "text/plain": [
       "True"
      ]
     },
     "execution_count": 15,
     "metadata": {},
     "output_type": "execute_result"
    }
   ],
   "source": [
    "# Sanity check\n",
    "len(congress_members) == 1158"
   ]
  },
  {
   "cell_type": "code",
   "execution_count": 18,
   "id": "korean-islam",
   "metadata": {},
   "outputs": [
    {
     "ename": "PermissionError",
     "evalue": "[Errno 13] Permission denied: 'data\\\\resources\\\\politicians_congress.csv'",
     "output_type": "error",
     "traceback": [
      "\u001b[1;31m---------------------------------------------------------------------------\u001b[0m",
      "\u001b[1;31mPermissionError\u001b[0m                           Traceback (most recent call last)",
      "\u001b[1;32m<ipython-input-18-4bae0a0ec49c>\u001b[0m in \u001b[0;36m<module>\u001b[1;34m\u001b[0m\n\u001b[0;32m      1\u001b[0m \u001b[1;31m# Write to file\u001b[0m\u001b[1;33m\u001b[0m\u001b[1;33m\u001b[0m\u001b[1;33m\u001b[0m\u001b[0m\n\u001b[1;32m----> 2\u001b[1;33m \u001b[0mto_csv\u001b[0m\u001b[1;33m(\u001b[0m\u001b[1;34m\"politicians_congress.csv\"\u001b[0m\u001b[1;33m,\u001b[0m \u001b[0mpoliticians\u001b[0m\u001b[1;33m)\u001b[0m\u001b[1;33m\u001b[0m\u001b[1;33m\u001b[0m\u001b[0m\n\u001b[0m",
      "\u001b[1;32m<ipython-input-2-6f16b5b51446>\u001b[0m in \u001b[0;36mto_csv\u001b[1;34m(file_name, pol_lst)\u001b[0m\n\u001b[0;32m      6\u001b[0m     \u001b[0mcsv_path\u001b[0m \u001b[1;33m=\u001b[0m \u001b[0mos\u001b[0m\u001b[1;33m.\u001b[0m\u001b[0mpath\u001b[0m\u001b[1;33m.\u001b[0m\u001b[0mjoin\u001b[0m\u001b[1;33m(\u001b[0m\u001b[1;34m\"data\"\u001b[0m\u001b[1;33m,\u001b[0m \u001b[1;34m\"resources\"\u001b[0m\u001b[1;33m,\u001b[0m \u001b[0mfile_name\u001b[0m\u001b[1;33m)\u001b[0m\u001b[1;33m\u001b[0m\u001b[1;33m\u001b[0m\u001b[0m\n\u001b[0;32m      7\u001b[0m \u001b[1;33m\u001b[0m\u001b[0m\n\u001b[1;32m----> 8\u001b[1;33m     \u001b[1;32mwith\u001b[0m \u001b[0mopen\u001b[0m\u001b[1;33m(\u001b[0m\u001b[0mcsv_path\u001b[0m\u001b[1;33m,\u001b[0m \u001b[1;34m\"w\"\u001b[0m\u001b[1;33m)\u001b[0m \u001b[1;32mas\u001b[0m \u001b[0mf\u001b[0m\u001b[1;33m:\u001b[0m\u001b[1;33m\u001b[0m\u001b[1;33m\u001b[0m\u001b[0m\n\u001b[0m\u001b[0;32m      9\u001b[0m         \u001b[0mwriter\u001b[0m \u001b[1;33m=\u001b[0m \u001b[0mcsv\u001b[0m\u001b[1;33m.\u001b[0m\u001b[0mwriter\u001b[0m\u001b[1;33m(\u001b[0m\u001b[0mf\u001b[0m\u001b[1;33m,\u001b[0m \u001b[0mdelimiter\u001b[0m\u001b[1;33m=\u001b[0m\u001b[1;34m\" \"\u001b[0m\u001b[1;33m)\u001b[0m\u001b[1;33m\u001b[0m\u001b[1;33m\u001b[0m\u001b[0m\n\u001b[0;32m     10\u001b[0m         \u001b[0mwriter\u001b[0m\u001b[1;33m.\u001b[0m\u001b[0mwriterow\u001b[0m\u001b[1;33m(\u001b[0m\u001b[1;33m[\u001b[0m\u001b[1;34m\"Name\"\u001b[0m\u001b[1;33m,\u001b[0m \u001b[1;34m\"Party\"\u001b[0m\u001b[1;33m]\u001b[0m\u001b[1;33m)\u001b[0m\u001b[1;33m\u001b[0m\u001b[1;33m\u001b[0m\u001b[0m\n",
      "\u001b[1;31mPermissionError\u001b[0m: [Errno 13] Permission denied: 'data\\\\resources\\\\politicians_congress.csv'"
     ]
    }
   ],
   "source": [
    "# Write to file\n",
    "to_csv(\"politicians_congress.csv\", politicians)"
   ]
  },
  {
   "cell_type": "markdown",
   "id": "caroline-profession",
   "metadata": {},
   "source": [
    "#### Compare lists"
   ]
  },
  {
   "cell_type": "markdown",
   "id": "willing-container",
   "metadata": {},
   "source": [
    "Actually might not be useful (and less of a headache) to just take the congress list, since all politicians from the github list are elected (meaning they are or were congress members)."
   ]
  },
  {
   "cell_type": "code",
   "execution_count": null,
   "id": "intended-length",
   "metadata": {},
   "outputs": [],
   "source": []
  },
  {
   "cell_type": "code",
   "execution_count": null,
   "id": "suitable-cement",
   "metadata": {},
   "outputs": [],
   "source": []
  },
  {
   "cell_type": "markdown",
   "id": "handled-least",
   "metadata": {},
   "source": [
    "### 6. Sentiment Analysis "
   ]
  },
  {
   "cell_type": "markdown",
   "id": "suburban-collector",
   "metadata": {},
   "source": [
    "#### 1. Transformers library (DistilBERT architecture)"
   ]
  },
  {
   "cell_type": "code",
   "execution_count": 12,
   "id": "large-great",
   "metadata": {},
   "outputs": [],
   "source": [
    "from transformers import pipeline\n",
    "classifier = pipeline('sentiment-analysis')"
   ]
  },
  {
   "cell_type": "code",
   "execution_count": 16,
   "id": "integral-australia",
   "metadata": {},
   "outputs": [
    {
     "data": {
      "text/html": [
       "<div>\n",
       "<style scoped>\n",
       "    .dataframe tbody tr th:only-of-type {\n",
       "        vertical-align: middle;\n",
       "    }\n",
       "\n",
       "    .dataframe tbody tr th {\n",
       "        vertical-align: top;\n",
       "    }\n",
       "\n",
       "    .dataframe thead th {\n",
       "        text-align: right;\n",
       "    }\n",
       "</style>\n",
       "<table border=\"1\" class=\"dataframe\">\n",
       "  <thead>\n",
       "    <tr style=\"text-align: right;\">\n",
       "      <th></th>\n",
       "      <th>quoteID</th>\n",
       "      <th>quotation</th>\n",
       "      <th>speaker</th>\n",
       "      <th>date</th>\n",
       "      <th>numOccurrences</th>\n",
       "      <th>phase</th>\n",
       "    </tr>\n",
       "  </thead>\n",
       "  <tbody>\n",
       "    <tr>\n",
       "      <th>0</th>\n",
       "      <td>2019-04-17-024782</td>\n",
       "      <td>It is not a low-income immigration,</td>\n",
       "      <td>James Fisher</td>\n",
       "      <td>2019-04-17 13:31:18</td>\n",
       "      <td>1</td>\n",
       "      <td>E</td>\n",
       "    </tr>\n",
       "    <tr>\n",
       "      <th>1</th>\n",
       "      <td>2019-04-02-001128</td>\n",
       "      <td>a champion figure skater switching to roller s...</td>\n",
       "      <td>John Updike</td>\n",
       "      <td>2019-04-02 14:58:33</td>\n",
       "      <td>2</td>\n",
       "      <td>E</td>\n",
       "    </tr>\n",
       "    <tr>\n",
       "      <th>2</th>\n",
       "      <td>2019-05-09-055187</td>\n",
       "      <td>It makes it much more difficult for him to mak...</td>\n",
       "      <td>None</td>\n",
       "      <td>2019-05-09 18:11:29</td>\n",
       "      <td>1</td>\n",
       "      <td>E</td>\n",
       "    </tr>\n",
       "    <tr>\n",
       "      <th>3</th>\n",
       "      <td>2019-10-31-056366</td>\n",
       "      <td>It puts me in a predicament,</td>\n",
       "      <td>Xavier Becerra</td>\n",
       "      <td>2019-10-31 16:45:15</td>\n",
       "      <td>3</td>\n",
       "      <td>E</td>\n",
       "    </tr>\n",
       "    <tr>\n",
       "      <th>4</th>\n",
       "      <td>2019-01-04-001792</td>\n",
       "      <td>A Pile of Leaves.</td>\n",
       "      <td>None</td>\n",
       "      <td>2019-01-04 10:00:07</td>\n",
       "      <td>1</td>\n",
       "      <td>E</td>\n",
       "    </tr>\n",
       "  </tbody>\n",
       "</table>\n",
       "</div>"
      ],
      "text/plain": [
       "             quoteID                                          quotation  \\\n",
       "0  2019-04-17-024782                It is not a low-income immigration,   \n",
       "1  2019-04-02-001128  a champion figure skater switching to roller s...   \n",
       "2  2019-05-09-055187  It makes it much more difficult for him to mak...   \n",
       "3  2019-10-31-056366                       It puts me in a predicament,   \n",
       "4  2019-01-04-001792                                  A Pile of Leaves.   \n",
       "\n",
       "          speaker                 date  numOccurrences phase  \n",
       "0    James Fisher  2019-04-17 13:31:18               1     E  \n",
       "1     John Updike  2019-04-02 14:58:33               2     E  \n",
       "2            None  2019-05-09 18:11:29               1     E  \n",
       "3  Xavier Becerra  2019-10-31 16:45:15               3     E  \n",
       "4            None  2019-01-04 10:00:07               1     E  "
      ]
     },
     "execution_count": 16,
     "metadata": {},
     "output_type": "execute_result"
    }
   ],
   "source": [
    "df.head()"
   ]
  },
  {
   "cell_type": "code",
   "execution_count": 13,
   "id": "stuffed-bookmark",
   "metadata": {},
   "outputs": [
    {
     "name": "stdout",
     "output_type": "stream",
     "text": [
      "a champion figure skater switching to roller skates.\n"
     ]
    },
    {
     "data": {
      "text/plain": [
       "[{'label': 'POSITIVE', 'score': 0.9995531439781189}]"
      ]
     },
     "execution_count": 13,
     "metadata": {},
     "output_type": "execute_result"
    }
   ],
   "source": [
    "print(df[\"quotation\"][1])\n",
    "classifier(df[\"quotation\"][1])"
   ]
  },
  {
   "cell_type": "code",
   "execution_count": 14,
   "id": "subsequent-salad",
   "metadata": {
    "scrolled": true
   },
   "outputs": [
    {
     "name": "stderr",
     "output_type": "stream",
     "text": [
      "C:\\Users\\rened\\Anaconda3\\lib\\site-packages\\ipykernel_launcher.py:3: SettingWithCopyWarning: \n",
      "A value is trying to be set on a copy of a slice from a DataFrame\n",
      "\n",
      "See the caveats in the documentation: https://pandas.pydata.org/pandas-docs/stable/user_guide/indexing.html#returning-a-view-versus-a-copy\n",
      "  This is separate from the ipykernel package so we can avoid doing imports until\n"
     ]
    },
    {
     "data": {
      "text/html": [
       "<div>\n",
       "<style scoped>\n",
       "    .dataframe tbody tr th:only-of-type {\n",
       "        vertical-align: middle;\n",
       "    }\n",
       "\n",
       "    .dataframe tbody tr th {\n",
       "        vertical-align: top;\n",
       "    }\n",
       "\n",
       "    .dataframe thead th {\n",
       "        text-align: right;\n",
       "    }\n",
       "</style>\n",
       "<table border=\"1\" class=\"dataframe\">\n",
       "  <thead>\n",
       "    <tr style=\"text-align: right;\">\n",
       "      <th></th>\n",
       "      <th>quoteID</th>\n",
       "      <th>quotation</th>\n",
       "      <th>speaker</th>\n",
       "      <th>date</th>\n",
       "      <th>numOccurrences</th>\n",
       "      <th>phase</th>\n",
       "      <th>Transformers_score</th>\n",
       "    </tr>\n",
       "  </thead>\n",
       "  <tbody>\n",
       "    <tr>\n",
       "      <th>0</th>\n",
       "      <td>2019-04-17-024782</td>\n",
       "      <td>It is not a low-income immigration,</td>\n",
       "      <td>James Fisher</td>\n",
       "      <td>2019-04-17 13:31:18</td>\n",
       "      <td>1</td>\n",
       "      <td>E</td>\n",
       "      <td>[{'label': 'POSITIVE', 'score': 0.991260886192...</td>\n",
       "    </tr>\n",
       "    <tr>\n",
       "      <th>1</th>\n",
       "      <td>2019-04-02-001128</td>\n",
       "      <td>a champion figure skater switching to roller s...</td>\n",
       "      <td>John Updike</td>\n",
       "      <td>2019-04-02 14:58:33</td>\n",
       "      <td>2</td>\n",
       "      <td>E</td>\n",
       "      <td>[{'label': 'POSITIVE', 'score': 0.999553143978...</td>\n",
       "    </tr>\n",
       "    <tr>\n",
       "      <th>2</th>\n",
       "      <td>2019-05-09-055187</td>\n",
       "      <td>It makes it much more difficult for him to mak...</td>\n",
       "      <td>None</td>\n",
       "      <td>2019-05-09 18:11:29</td>\n",
       "      <td>1</td>\n",
       "      <td>E</td>\n",
       "      <td>[{'label': 'NEGATIVE', 'score': 0.999620079994...</td>\n",
       "    </tr>\n",
       "    <tr>\n",
       "      <th>3</th>\n",
       "      <td>2019-10-31-056366</td>\n",
       "      <td>It puts me in a predicament,</td>\n",
       "      <td>Xavier Becerra</td>\n",
       "      <td>2019-10-31 16:45:15</td>\n",
       "      <td>3</td>\n",
       "      <td>E</td>\n",
       "      <td>[{'label': 'NEGATIVE', 'score': 0.982650339603...</td>\n",
       "    </tr>\n",
       "    <tr>\n",
       "      <th>4</th>\n",
       "      <td>2019-01-04-001792</td>\n",
       "      <td>A Pile of Leaves.</td>\n",
       "      <td>None</td>\n",
       "      <td>2019-01-04 10:00:07</td>\n",
       "      <td>1</td>\n",
       "      <td>E</td>\n",
       "      <td>[{'label': 'NEGATIVE', 'score': 0.999175965785...</td>\n",
       "    </tr>\n",
       "  </tbody>\n",
       "</table>\n",
       "</div>"
      ],
      "text/plain": [
       "             quoteID                                          quotation  \\\n",
       "0  2019-04-17-024782                It is not a low-income immigration,   \n",
       "1  2019-04-02-001128  a champion figure skater switching to roller s...   \n",
       "2  2019-05-09-055187  It makes it much more difficult for him to mak...   \n",
       "3  2019-10-31-056366                       It puts me in a predicament,   \n",
       "4  2019-01-04-001792                                  A Pile of Leaves.   \n",
       "\n",
       "          speaker                 date  numOccurrences phase  \\\n",
       "0    James Fisher  2019-04-17 13:31:18               1     E   \n",
       "1     John Updike  2019-04-02 14:58:33               2     E   \n",
       "2            None  2019-05-09 18:11:29               1     E   \n",
       "3  Xavier Becerra  2019-10-31 16:45:15               3     E   \n",
       "4            None  2019-01-04 10:00:07               1     E   \n",
       "\n",
       "                                  Transformers_score  \n",
       "0  [{'label': 'POSITIVE', 'score': 0.991260886192...  \n",
       "1  [{'label': 'POSITIVE', 'score': 0.999553143978...  \n",
       "2  [{'label': 'NEGATIVE', 'score': 0.999620079994...  \n",
       "3  [{'label': 'NEGATIVE', 'score': 0.982650339603...  \n",
       "4  [{'label': 'NEGATIVE', 'score': 0.999175965785...  "
      ]
     },
     "execution_count": 14,
     "metadata": {},
     "output_type": "execute_result"
    }
   ],
   "source": [
    "df[\"Transformers_score\"] = \"\"\n",
    "for i in range(100):\n",
    "    df[\"Transformers_score\"][i] = classifier(df[\"quotation\"][i])\n",
    "df.head()"
   ]
  },
  {
   "cell_type": "markdown",
   "id": "liberal-order",
   "metadata": {},
   "source": [
    "#### 2. NLTK "
   ]
  },
  {
   "cell_type": "code",
   "execution_count": 15,
   "id": "domestic-clear",
   "metadata": {},
   "outputs": [
    {
     "name": "stderr",
     "output_type": "stream",
     "text": [
      "[nltk_data] Downloading package vader_lexicon to\n",
      "[nltk_data]     C:\\Users\\rened\\AppData\\Roaming\\nltk_data...\n",
      "[nltk_data]   Package vader_lexicon is already up-to-date!\n"
     ]
    },
    {
     "data": {
      "text/plain": [
       "True"
      ]
     },
     "execution_count": 15,
     "metadata": {},
     "output_type": "execute_result"
    }
   ],
   "source": [
    "# https://realpython.com/python-nltk-sentiment-analysis/\n",
    "# pip install nltk\n",
    "import nltk\n",
    "\n",
    "# nltk.download()\n",
    "nltk.download('vader_lexicon')"
   ]
  },
  {
   "cell_type": "code",
   "execution_count": 16,
   "id": "polish-geometry",
   "metadata": {},
   "outputs": [
    {
     "data": {
      "text/plain": [
       "{'neg': 0.0, 'neu': 0.606, 'pos': 0.394, 'compound': 0.5994}"
      ]
     },
     "execution_count": 16,
     "metadata": {},
     "output_type": "execute_result"
    }
   ],
   "source": [
    "from nltk.sentiment import SentimentIntensityAnalyzer\n",
    "sia = SentimentIntensityAnalyzer()\n",
    "sia.polarity_scores(df[\"quotation\"][1])"
   ]
  },
  {
   "cell_type": "code",
   "execution_count": 17,
   "id": "serial-tennessee",
   "metadata": {},
   "outputs": [
    {
     "name": "stderr",
     "output_type": "stream",
     "text": [
      "C:\\Users\\rened\\Anaconda3\\lib\\site-packages\\ipykernel_launcher.py:3: SettingWithCopyWarning: \n",
      "A value is trying to be set on a copy of a slice from a DataFrame\n",
      "\n",
      "See the caveats in the documentation: https://pandas.pydata.org/pandas-docs/stable/user_guide/indexing.html#returning-a-view-versus-a-copy\n",
      "  This is separate from the ipykernel package so we can avoid doing imports until\n"
     ]
    },
    {
     "data": {
      "text/html": [
       "<div>\n",
       "<style scoped>\n",
       "    .dataframe tbody tr th:only-of-type {\n",
       "        vertical-align: middle;\n",
       "    }\n",
       "\n",
       "    .dataframe tbody tr th {\n",
       "        vertical-align: top;\n",
       "    }\n",
       "\n",
       "    .dataframe thead th {\n",
       "        text-align: right;\n",
       "    }\n",
       "</style>\n",
       "<table border=\"1\" class=\"dataframe\">\n",
       "  <thead>\n",
       "    <tr style=\"text-align: right;\">\n",
       "      <th></th>\n",
       "      <th>quoteID</th>\n",
       "      <th>quotation</th>\n",
       "      <th>speaker</th>\n",
       "      <th>date</th>\n",
       "      <th>numOccurrences</th>\n",
       "      <th>phase</th>\n",
       "      <th>Transformers_score</th>\n",
       "      <th>NLTK_score</th>\n",
       "    </tr>\n",
       "  </thead>\n",
       "  <tbody>\n",
       "    <tr>\n",
       "      <th>0</th>\n",
       "      <td>2019-04-17-024782</td>\n",
       "      <td>It is not a low-income immigration,</td>\n",
       "      <td>James Fisher</td>\n",
       "      <td>2019-04-17 13:31:18</td>\n",
       "      <td>1</td>\n",
       "      <td>E</td>\n",
       "      <td>[{'label': 'POSITIVE', 'score': 0.991260886192...</td>\n",
       "      <td>{'neg': 0.0, 'neu': 1.0, 'pos': 0.0, 'compound...</td>\n",
       "    </tr>\n",
       "    <tr>\n",
       "      <th>1</th>\n",
       "      <td>2019-04-02-001128</td>\n",
       "      <td>a champion figure skater switching to roller s...</td>\n",
       "      <td>John Updike</td>\n",
       "      <td>2019-04-02 14:58:33</td>\n",
       "      <td>2</td>\n",
       "      <td>E</td>\n",
       "      <td>[{'label': 'POSITIVE', 'score': 0.999553143978...</td>\n",
       "      <td>{'neg': 0.0, 'neu': 0.606, 'pos': 0.394, 'comp...</td>\n",
       "    </tr>\n",
       "    <tr>\n",
       "      <th>2</th>\n",
       "      <td>2019-05-09-055187</td>\n",
       "      <td>It makes it much more difficult for him to mak...</td>\n",
       "      <td>None</td>\n",
       "      <td>2019-05-09 18:11:29</td>\n",
       "      <td>1</td>\n",
       "      <td>E</td>\n",
       "      <td>[{'label': 'NEGATIVE', 'score': 0.999620079994...</td>\n",
       "      <td>{'neg': 0.189, 'neu': 0.811, 'pos': 0.0, 'comp...</td>\n",
       "    </tr>\n",
       "    <tr>\n",
       "      <th>3</th>\n",
       "      <td>2019-10-31-056366</td>\n",
       "      <td>It puts me in a predicament,</td>\n",
       "      <td>Xavier Becerra</td>\n",
       "      <td>2019-10-31 16:45:15</td>\n",
       "      <td>3</td>\n",
       "      <td>E</td>\n",
       "      <td>[{'label': 'NEGATIVE', 'score': 0.982650339603...</td>\n",
       "      <td>{'neg': 0.0, 'neu': 1.0, 'pos': 0.0, 'compound...</td>\n",
       "    </tr>\n",
       "    <tr>\n",
       "      <th>4</th>\n",
       "      <td>2019-01-04-001792</td>\n",
       "      <td>A Pile of Leaves.</td>\n",
       "      <td>None</td>\n",
       "      <td>2019-01-04 10:00:07</td>\n",
       "      <td>1</td>\n",
       "      <td>E</td>\n",
       "      <td>[{'label': 'NEGATIVE', 'score': 0.999175965785...</td>\n",
       "      <td>{'neg': 0.0, 'neu': 1.0, 'pos': 0.0, 'compound...</td>\n",
       "    </tr>\n",
       "  </tbody>\n",
       "</table>\n",
       "</div>"
      ],
      "text/plain": [
       "             quoteID                                          quotation  \\\n",
       "0  2019-04-17-024782                It is not a low-income immigration,   \n",
       "1  2019-04-02-001128  a champion figure skater switching to roller s...   \n",
       "2  2019-05-09-055187  It makes it much more difficult for him to mak...   \n",
       "3  2019-10-31-056366                       It puts me in a predicament,   \n",
       "4  2019-01-04-001792                                  A Pile of Leaves.   \n",
       "\n",
       "          speaker                 date  numOccurrences phase  \\\n",
       "0    James Fisher  2019-04-17 13:31:18               1     E   \n",
       "1     John Updike  2019-04-02 14:58:33               2     E   \n",
       "2            None  2019-05-09 18:11:29               1     E   \n",
       "3  Xavier Becerra  2019-10-31 16:45:15               3     E   \n",
       "4            None  2019-01-04 10:00:07               1     E   \n",
       "\n",
       "                                  Transformers_score  \\\n",
       "0  [{'label': 'POSITIVE', 'score': 0.991260886192...   \n",
       "1  [{'label': 'POSITIVE', 'score': 0.999553143978...   \n",
       "2  [{'label': 'NEGATIVE', 'score': 0.999620079994...   \n",
       "3  [{'label': 'NEGATIVE', 'score': 0.982650339603...   \n",
       "4  [{'label': 'NEGATIVE', 'score': 0.999175965785...   \n",
       "\n",
       "                                          NLTK_score  \n",
       "0  {'neg': 0.0, 'neu': 1.0, 'pos': 0.0, 'compound...  \n",
       "1  {'neg': 0.0, 'neu': 0.606, 'pos': 0.394, 'comp...  \n",
       "2  {'neg': 0.189, 'neu': 0.811, 'pos': 0.0, 'comp...  \n",
       "3  {'neg': 0.0, 'neu': 1.0, 'pos': 0.0, 'compound...  \n",
       "4  {'neg': 0.0, 'neu': 1.0, 'pos': 0.0, 'compound...  "
      ]
     },
     "execution_count": 17,
     "metadata": {},
     "output_type": "execute_result"
    }
   ],
   "source": [
    "df[\"NLTK_score\"] = \"\"\n",
    "for i in range(100):\n",
    "    df[\"NLTK_score\"][i] = sia.polarity_scores(df[\"quotation\"][i])\n",
    "df.head()"
   ]
  },
  {
   "cell_type": "markdown",
   "id": "breeding-idaho",
   "metadata": {},
   "source": [
    "#### 3. SpaCy TextBlob"
   ]
  },
  {
   "cell_type": "code",
   "execution_count": 20,
   "id": "medium-attendance",
   "metadata": {},
   "outputs": [
    {
     "ename": "ValueError",
     "evalue": "[E003] Not a valid pipeline component. Expected callable, but got 'spacytextblob' (name: 'None').",
     "output_type": "error",
     "traceback": [
      "\u001b[1;31m---------------------------------------------------------------------------\u001b[0m",
      "\u001b[1;31mValueError\u001b[0m                                Traceback (most recent call last)",
      "\u001b[1;32m<ipython-input-20-0ca0d6ab4662>\u001b[0m in \u001b[0;36m<module>\u001b[1;34m\u001b[0m\n\u001b[0;32m      7\u001b[0m \u001b[1;33m\u001b[0m\u001b[0m\n\u001b[0;32m      8\u001b[0m \u001b[0mnlp\u001b[0m \u001b[1;33m=\u001b[0m \u001b[0mspacy\u001b[0m\u001b[1;33m.\u001b[0m\u001b[0mload\u001b[0m\u001b[1;33m(\u001b[0m\u001b[1;34m'en_core_web_sm'\u001b[0m\u001b[1;33m)\u001b[0m\u001b[1;33m\u001b[0m\u001b[1;33m\u001b[0m\u001b[0m\n\u001b[1;32m----> 9\u001b[1;33m \u001b[0mnlp\u001b[0m\u001b[1;33m.\u001b[0m\u001b[0madd_pipe\u001b[0m\u001b[1;33m(\u001b[0m\u001b[1;34m'spacytextblob'\u001b[0m\u001b[1;33m)\u001b[0m\u001b[1;33m\u001b[0m\u001b[1;33m\u001b[0m\u001b[0m\n\u001b[0m\u001b[0;32m     10\u001b[0m \u001b[0mnlp\u001b[0m\u001b[1;33m(\u001b[0m\u001b[0mdf\u001b[0m\u001b[1;33m[\u001b[0m\u001b[1;34m\"quotation\"\u001b[0m\u001b[1;33m]\u001b[0m\u001b[1;33m[\u001b[0m\u001b[1;36m1\u001b[0m\u001b[1;33m]\u001b[0m\u001b[1;33m)\u001b[0m\u001b[1;33m\u001b[0m\u001b[1;33m\u001b[0m\u001b[0m\n",
      "\u001b[1;32m~\\Anaconda3\\lib\\site-packages\\spacy\\language.py\u001b[0m in \u001b[0;36madd_pipe\u001b[1;34m(self, component, name, before, after, first, last)\u001b[0m\n\u001b[0;32m    335\u001b[0m             \u001b[1;32mif\u001b[0m \u001b[0misinstance\u001b[0m\u001b[1;33m(\u001b[0m\u001b[0mcomponent\u001b[0m\u001b[1;33m,\u001b[0m \u001b[0mbasestring_\u001b[0m\u001b[1;33m)\u001b[0m \u001b[1;32mand\u001b[0m \u001b[0mcomponent\u001b[0m \u001b[1;32min\u001b[0m \u001b[0mself\u001b[0m\u001b[1;33m.\u001b[0m\u001b[0mfactories\u001b[0m\u001b[1;33m:\u001b[0m\u001b[1;33m\u001b[0m\u001b[1;33m\u001b[0m\u001b[0m\n\u001b[0;32m    336\u001b[0m                 \u001b[0mmsg\u001b[0m \u001b[1;33m+=\u001b[0m \u001b[0mErrors\u001b[0m\u001b[1;33m.\u001b[0m\u001b[0mE004\u001b[0m\u001b[1;33m.\u001b[0m\u001b[0mformat\u001b[0m\u001b[1;33m(\u001b[0m\u001b[0mcomponent\u001b[0m\u001b[1;33m=\u001b[0m\u001b[0mcomponent\u001b[0m\u001b[1;33m)\u001b[0m\u001b[1;33m\u001b[0m\u001b[1;33m\u001b[0m\u001b[0m\n\u001b[1;32m--> 337\u001b[1;33m             \u001b[1;32mraise\u001b[0m \u001b[0mValueError\u001b[0m\u001b[1;33m(\u001b[0m\u001b[0mmsg\u001b[0m\u001b[1;33m)\u001b[0m\u001b[1;33m\u001b[0m\u001b[1;33m\u001b[0m\u001b[0m\n\u001b[0m\u001b[0;32m    338\u001b[0m         \u001b[1;32mif\u001b[0m \u001b[0mname\u001b[0m \u001b[1;32mis\u001b[0m \u001b[1;32mNone\u001b[0m\u001b[1;33m:\u001b[0m\u001b[1;33m\u001b[0m\u001b[1;33m\u001b[0m\u001b[0m\n\u001b[0;32m    339\u001b[0m             \u001b[0mname\u001b[0m \u001b[1;33m=\u001b[0m \u001b[0mutil\u001b[0m\u001b[1;33m.\u001b[0m\u001b[0mget_component_name\u001b[0m\u001b[1;33m(\u001b[0m\u001b[0mcomponent\u001b[0m\u001b[1;33m)\u001b[0m\u001b[1;33m\u001b[0m\u001b[1;33m\u001b[0m\u001b[0m\n",
      "\u001b[1;31mValueError\u001b[0m: [E003] Not a valid pipeline component. Expected callable, but got 'spacytextblob' (name: 'None')."
     ]
    }
   ],
   "source": [
    "# pip install spacy\n",
    "# pip install pip install spacytextblob==0.1.7\n",
    "# !python -m spacy download en_core_web_sm\n",
    "\n",
    "import spacy\n",
    "from spacytextblob.spacytextblob import SpacyTextBlob\n",
    "\n",
    "nlp = spacy.load('en_core_web_sm')\n",
    "nlp.add_pipe('spacytextblob')\n",
    "nlp(df[\"quotation\"][1])"
   ]
  },
  {
   "cell_type": "code",
   "execution_count": null,
   "id": "solid-nylon",
   "metadata": {},
   "outputs": [],
   "source": []
  }
 ],
 "metadata": {
  "kernelspec": {
   "display_name": "Python 3",
   "language": "python",
   "name": "python3"
  },
  "language_info": {
   "codemirror_mode": {
    "name": "ipython",
    "version": 3
   },
   "file_extension": ".py",
   "mimetype": "text/x-python",
   "name": "python",
   "nbconvert_exporter": "python",
   "pygments_lexer": "ipython3",
   "version": "3.7.4"
  }
 },
 "nbformat": 4,
 "nbformat_minor": 5
}
