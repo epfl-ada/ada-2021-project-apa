{
 "cells": [
  {
   "cell_type": "markdown",
   "id": "7709e762",
   "metadata": {},
   "source": [
    "## Load packages"
   ]
  },
  {
   "cell_type": "code",
   "execution_count": 1,
   "id": "a4ec0979",
   "metadata": {},
   "outputs": [],
   "source": [
    "# Load packages\n",
    "import pandas as pd\n",
    "import numpy as np\n",
    "import matplotlib.pyplot as plt\n",
    "from tqdm import tqdm\n",
    "\n",
    "tqdm.pandas()"
   ]
  },
  {
   "cell_type": "markdown",
   "id": "554b3e66",
   "metadata": {},
   "source": [
    "## Load datasets"
   ]
  },
  {
   "cell_type": "code",
   "execution_count": 2,
   "id": "0f3fba9d",
   "metadata": {},
   "outputs": [],
   "source": [
    "# Load the main dataset\n",
    "df = pd.read_pickle(\"data/pkl/extracted-quotes-2020.pkl\")"
   ]
  },
  {
   "cell_type": "code",
   "execution_count": 3,
   "id": "a4c99a2d",
   "metadata": {},
   "outputs": [],
   "source": [
    "# Load the dataset with additional info abbout politicians \n",
    "df_politicians = pd.io.json.read_json(\"data/resources/new_congress_biolist.json\")"
   ]
  },
  {
   "cell_type": "markdown",
   "id": "40c8ed72",
   "metadata": {},
   "source": [
    "## Work on df_politicians table"
   ]
  },
  {
   "cell_type": "code",
   "execution_count": 4,
   "id": "d6c7f831",
   "metadata": {},
   "outputs": [
    {
     "name": "stderr",
     "output_type": "stream",
     "text": [
      "100%|██████████| 1162/1162 [00:05<00:00, 207.68it/s]\n"
     ]
    }
   ],
   "source": [
    "# Extract from congresses column relevant infor (position, state, parties)\n",
    "def extract_congress_information(row):\n",
    "    information = pd.json_normalize(row[\"congresses\"]).sort_values(\"congressNumber\").tail(1).loc[:, [\"position\",\"stateName\",\"parties\"]]\n",
    "\n",
    "    row[\"position\"] = information.loc[:, \"position\"].values[0]\n",
    "    row[\"stateName\"] = information.loc[:, \"stateName\"].values[0]\n",
    "    row[\"parties\"] = information.loc[:, \"parties\"].values[0]\n",
    "    return row\n",
    "\n",
    "df_politicians = df_politicians.progress_apply(extract_congress_information, axis=1)"
   ]
  },
  {
   "cell_type": "code",
   "execution_count": 5,
   "id": "4472d9fd",
   "metadata": {},
   "outputs": [],
   "source": [
    "# The value in column parties is a list, we want to select the last past party from the list\n",
    "def getLastValue(aList):\n",
    "    return aList[-1]\n",
    "\n",
    "df_politicians[\"parties\"] = df_politicians[\"parties\"].apply(getLastValue)"
   ]
  },
  {
   "cell_type": "code",
   "execution_count": 6,
   "id": "ed683f4f",
   "metadata": {},
   "outputs": [],
   "source": [
    "# Create new column speaker (full name of the politician)\n",
    "df_politicians['speaker'] = df_politicians['givenName'] + \" \" + df_politicians['familyName']\n",
    "\n",
    "# Have the speaker's full names in the same size \n",
    "df_politicians[\"speaker\"] = df_politicians[\"speaker\"].str.lower()\n",
    "\n",
    "# In lower case also in the quotes dataset\n",
    "df[\"speaker\"] = df[\"speaker\"].str.lower()"
   ]
  },
  {
   "cell_type": "code",
   "execution_count": 8,
   "id": "85d7ef21",
   "metadata": {},
   "outputs": [
    {
     "data": {
      "text/plain": [
       "donald trump              3\n",
       "president donald trump    2\n",
       "donald payne              2\n",
       "duncan hunter             2\n",
       "patrick murphy            2\n",
       "                         ..\n",
       "ruben gallego             1\n",
       "pete gallego              1\n",
       "elton gallegly            1\n",
       "michael gallagher         1\n",
       "ro khanna                 1\n",
       "Name: speaker, Length: 1154, dtype: int64"
      ]
     },
     "execution_count": 8,
     "metadata": {},
     "output_type": "execute_result"
    }
   ],
   "source": [
    "# Check for full name duplicates\n",
    "# I propose to delete those as they may be in different parties and we will not which one is talking\n",
    "df_politicians['speaker'].value_counts()"
   ]
  },
  {
   "cell_type": "code",
   "execution_count": null,
   "id": "7c560f91",
   "metadata": {},
   "outputs": [],
   "source": [
    "df_politicians"
   ]
  },
  {
   "cell_type": "code",
   "execution_count": 9,
   "id": "5a51d1f0",
   "metadata": {},
   "outputs": [],
   "source": [
    "# We drop duplicates by speaker's full name\n",
    "df_politicians = df_politicians.drop_duplicates(subset=['speaker'])"
   ]
  },
  {
   "cell_type": "markdown",
   "id": "7a0b053b",
   "metadata": {},
   "source": [
    "## Merge the quotes with info about speakers"
   ]
  },
  {
   "cell_type": "code",
   "execution_count": 10,
   "id": "2ee53772",
   "metadata": {},
   "outputs": [],
   "source": [
    "# Merge quotes to speaker's info\n",
    "data = pd.merge(df, df_politicians, on='speaker', how='outer') # we merged the dataset"
   ]
  },
  {
   "cell_type": "code",
   "execution_count": 15,
   "id": "1defdf0b",
   "metadata": {},
   "outputs": [],
   "source": [
    "# Subsets by parties \n",
    "subset_democrats = data[data['parties'] == \"Democrat\"]\n",
    "subset_republicans = data[data['parties'] == \"Republican\"]"
   ]
  },
  {
   "cell_type": "code",
   "execution_count": 21,
   "id": "a5ea6a3e",
   "metadata": {},
   "outputs": [
    {
     "data": {
      "text/html": [
       "<div>\n",
       "<style scoped>\n",
       "    .dataframe tbody tr th:only-of-type {\n",
       "        vertical-align: middle;\n",
       "    }\n",
       "\n",
       "    .dataframe tbody tr th {\n",
       "        vertical-align: top;\n",
       "    }\n",
       "\n",
       "    .dataframe thead th {\n",
       "        text-align: right;\n",
       "    }\n",
       "</style>\n",
       "<table border=\"1\" class=\"dataframe\">\n",
       "  <thead>\n",
       "    <tr style=\"text-align: right;\">\n",
       "      <th></th>\n",
       "      <th>quoteID</th>\n",
       "      <th>quotation</th>\n",
       "      <th>speaker</th>\n",
       "      <th>qids</th>\n",
       "      <th>date</th>\n",
       "      <th>numOccurrences</th>\n",
       "      <th>probas</th>\n",
       "      <th>urls</th>\n",
       "      <th>phase</th>\n",
       "      <th>subset</th>\n",
       "      <th>...</th>\n",
       "      <th>deathYear</th>\n",
       "      <th>congresses</th>\n",
       "      <th>middleName</th>\n",
       "      <th>unaccentedMiddleName</th>\n",
       "      <th>nickName</th>\n",
       "      <th>honorificPrefix</th>\n",
       "      <th>honorificSuffix</th>\n",
       "      <th>position</th>\n",
       "      <th>stateName</th>\n",
       "      <th>parties</th>\n",
       "    </tr>\n",
       "  </thead>\n",
       "  <tbody>\n",
       "    <tr>\n",
       "      <th>31674</th>\n",
       "      <td>2020-01-15-070902</td>\n",
       "      <td>so after years of devastating defense cuts, we...</td>\n",
       "      <td>president donald trump</td>\n",
       "      <td>[Q22686]</td>\n",
       "      <td>2020-01-15 00:34:00</td>\n",
       "      <td>1.0</td>\n",
       "      <td>[[President Donald Trump, 0.6652], [None, 0.33...</td>\n",
       "      <td>[http://www.wpr.org/keep-america-great-preside...</td>\n",
       "      <td>E</td>\n",
       "      <td>True</td>\n",
       "      <td>...</td>\n",
       "      <td>NaN</td>\n",
       "      <td>[{'position': 'President', 'congressNumber': N...</td>\n",
       "      <td>John</td>\n",
       "      <td>John</td>\n",
       "      <td>None</td>\n",
       "      <td>None</td>\n",
       "      <td>None</td>\n",
       "      <td>President</td>\n",
       "      <td>None</td>\n",
       "      <td>Republican</td>\n",
       "    </tr>\n",
       "    <tr>\n",
       "      <th>31675</th>\n",
       "      <td>2020-03-02-060002</td>\n",
       "      <td>there are fringe globalists that would rather ...</td>\n",
       "      <td>president donald trump</td>\n",
       "      <td>[Q22686]</td>\n",
       "      <td>2020-03-02 23:41:58</td>\n",
       "      <td>1.0</td>\n",
       "      <td>[[President Donald Trump, 0.8366], [None, 0.16...</td>\n",
       "      <td>[http://breitbart.com/politics/2020/03/02/live...</td>\n",
       "      <td>E</td>\n",
       "      <td>True</td>\n",
       "      <td>...</td>\n",
       "      <td>NaN</td>\n",
       "      <td>[{'position': 'President', 'congressNumber': N...</td>\n",
       "      <td>John</td>\n",
       "      <td>John</td>\n",
       "      <td>None</td>\n",
       "      <td>None</td>\n",
       "      <td>None</td>\n",
       "      <td>President</td>\n",
       "      <td>None</td>\n",
       "      <td>Republican</td>\n",
       "    </tr>\n",
       "    <tr>\n",
       "      <th>31676</th>\n",
       "      <td>2020-01-29-117540</td>\n",
       "      <td>we will make sure they face another crushing d...</td>\n",
       "      <td>president donald trump</td>\n",
       "      <td>[Q22686]</td>\n",
       "      <td>2020-01-29 01:57:00</td>\n",
       "      <td>3.0</td>\n",
       "      <td>[[President Donald Trump, 0.4479], [None, 0.32...</td>\n",
       "      <td>[https://www.msn.com/en-us/news/elections-2020...</td>\n",
       "      <td>E</td>\n",
       "      <td>True</td>\n",
       "      <td>...</td>\n",
       "      <td>NaN</td>\n",
       "      <td>[{'position': 'President', 'congressNumber': N...</td>\n",
       "      <td>John</td>\n",
       "      <td>John</td>\n",
       "      <td>None</td>\n",
       "      <td>None</td>\n",
       "      <td>None</td>\n",
       "      <td>President</td>\n",
       "      <td>None</td>\n",
       "      <td>Republican</td>\n",
       "    </tr>\n",
       "    <tr>\n",
       "      <th>31677</th>\n",
       "      <td>2020-03-30-070472</td>\n",
       "      <td>why aren't you using these ventilators?</td>\n",
       "      <td>president donald trump</td>\n",
       "      <td>[Q22686]</td>\n",
       "      <td>2020-03-30 18:41:40</td>\n",
       "      <td>1.0</td>\n",
       "      <td>[[President Donald Trump, 0.5024], [None, 0.49...</td>\n",
       "      <td>[https://www.factcheck.org/2020/03/trump-vs-cu...</td>\n",
       "      <td>E</td>\n",
       "      <td>True</td>\n",
       "      <td>...</td>\n",
       "      <td>NaN</td>\n",
       "      <td>[{'position': 'President', 'congressNumber': N...</td>\n",
       "      <td>John</td>\n",
       "      <td>John</td>\n",
       "      <td>None</td>\n",
       "      <td>None</td>\n",
       "      <td>None</td>\n",
       "      <td>President</td>\n",
       "      <td>None</td>\n",
       "      <td>Republican</td>\n",
       "    </tr>\n",
       "    <tr>\n",
       "      <th>31678</th>\n",
       "      <td>2020-01-21-000832</td>\n",
       "      <td>a blue collar boom.</td>\n",
       "      <td>president donald trump</td>\n",
       "      <td>[Q22686]</td>\n",
       "      <td>2020-01-21 00:00:00</td>\n",
       "      <td>5.0</td>\n",
       "      <td>[[President Donald Trump, 0.6469], [None, 0.34...</td>\n",
       "      <td>[http://feeds.benzinga.com/~r/benzinga/~3/w9r5...</td>\n",
       "      <td>E</td>\n",
       "      <td>True</td>\n",
       "      <td>...</td>\n",
       "      <td>NaN</td>\n",
       "      <td>[{'position': 'President', 'congressNumber': N...</td>\n",
       "      <td>John</td>\n",
       "      <td>John</td>\n",
       "      <td>None</td>\n",
       "      <td>None</td>\n",
       "      <td>None</td>\n",
       "      <td>President</td>\n",
       "      <td>None</td>\n",
       "      <td>Republican</td>\n",
       "    </tr>\n",
       "  </tbody>\n",
       "</table>\n",
       "<p>5 rows × 26 columns</p>\n",
       "</div>"
      ],
      "text/plain": [
       "                 quoteID                                          quotation  \\\n",
       "31674  2020-01-15-070902  so after years of devastating defense cuts, we...   \n",
       "31675  2020-03-02-060002  there are fringe globalists that would rather ...   \n",
       "31676  2020-01-29-117540  we will make sure they face another crushing d...   \n",
       "31677  2020-03-30-070472            why aren't you using these ventilators?   \n",
       "31678  2020-01-21-000832                                a blue collar boom.   \n",
       "\n",
       "                      speaker      qids                date  numOccurrences  \\\n",
       "31674  president donald trump  [Q22686] 2020-01-15 00:34:00             1.0   \n",
       "31675  president donald trump  [Q22686] 2020-03-02 23:41:58             1.0   \n",
       "31676  president donald trump  [Q22686] 2020-01-29 01:57:00             3.0   \n",
       "31677  president donald trump  [Q22686] 2020-03-30 18:41:40             1.0   \n",
       "31678  president donald trump  [Q22686] 2020-01-21 00:00:00             5.0   \n",
       "\n",
       "                                                  probas  \\\n",
       "31674  [[President Donald Trump, 0.6652], [None, 0.33...   \n",
       "31675  [[President Donald Trump, 0.8366], [None, 0.16...   \n",
       "31676  [[President Donald Trump, 0.4479], [None, 0.32...   \n",
       "31677  [[President Donald Trump, 0.5024], [None, 0.49...   \n",
       "31678  [[President Donald Trump, 0.6469], [None, 0.34...   \n",
       "\n",
       "                                                    urls phase subset  ...  \\\n",
       "31674  [http://www.wpr.org/keep-america-great-preside...     E   True  ...   \n",
       "31675  [http://breitbart.com/politics/2020/03/02/live...     E   True  ...   \n",
       "31676  [https://www.msn.com/en-us/news/elections-2020...     E   True  ...   \n",
       "31677  [https://www.factcheck.org/2020/03/trump-vs-cu...     E   True  ...   \n",
       "31678  [http://feeds.benzinga.com/~r/benzinga/~3/w9r5...     E   True  ...   \n",
       "\n",
       "      deathYear                                         congresses middleName  \\\n",
       "31674       NaN  [{'position': 'President', 'congressNumber': N...       John   \n",
       "31675       NaN  [{'position': 'President', 'congressNumber': N...       John   \n",
       "31676       NaN  [{'position': 'President', 'congressNumber': N...       John   \n",
       "31677       NaN  [{'position': 'President', 'congressNumber': N...       John   \n",
       "31678       NaN  [{'position': 'President', 'congressNumber': N...       John   \n",
       "\n",
       "      unaccentedMiddleName nickName  honorificPrefix  honorificSuffix  \\\n",
       "31674                 John     None             None             None   \n",
       "31675                 John     None             None             None   \n",
       "31676                 John     None             None             None   \n",
       "31677                 John     None             None             None   \n",
       "31678                 John     None             None             None   \n",
       "\n",
       "        position stateName     parties  \n",
       "31674  President      None  Republican  \n",
       "31675  President      None  Republican  \n",
       "31676  President      None  Republican  \n",
       "31677  President      None  Republican  \n",
       "31678  President      None  Republican  \n",
       "\n",
       "[5 rows x 26 columns]"
      ]
     },
     "execution_count": 21,
     "metadata": {},
     "output_type": "execute_result"
    }
   ],
   "source": [
    "subset_republicans[subset_republicans[\"speaker\"] == \"president donald trump\"].head(5)"
   ]
  },
  {
   "cell_type": "markdown",
   "id": "ae0c63d0",
   "metadata": {},
   "source": [
    "## Naive model: select quotes that talk about the opponent party"
   ]
  },
  {
   "cell_type": "code",
   "execution_count": 19,
   "id": "685a748e",
   "metadata": {},
   "outputs": [],
   "source": [
    "# Get the list of Republicans and Democrats\n",
    "names_democrats = df_politicians[df_politicians['parties'] == 'Democrat'][\"speaker\"].tolist()\n",
    "names_republicans = df_politicians[df_politicians['parties'] == 'Republican'][\"speaker\"].tolist()"
   ]
  },
  {
   "cell_type": "code",
   "execution_count": 20,
   "id": "1f09cede",
   "metadata": {},
   "outputs": [
    {
     "name": "stderr",
     "output_type": "stream",
     "text": [
      "/tmp/ipykernel_93937/3982307100.py:3: SettingWithCopyWarning: \n",
      "A value is trying to be set on a copy of a slice from a DataFrame.\n",
      "Try using .loc[row_indexer,col_indexer] = value instead\n",
      "\n",
      "See the caveats in the documentation: https://pandas.pydata.org/pandas-docs/stable/user_guide/indexing.html#returning-a-view-versus-a-copy\n",
      "  subset_democrats[\"quotation\"] = subset_democrats[\"quotation\"].str.lower()\n",
      "/tmp/ipykernel_93937/3982307100.py:4: SettingWithCopyWarning: \n",
      "A value is trying to be set on a copy of a slice from a DataFrame.\n",
      "Try using .loc[row_indexer,col_indexer] = value instead\n",
      "\n",
      "See the caveats in the documentation: https://pandas.pydata.org/pandas-docs/stable/user_guide/indexing.html#returning-a-view-versus-a-copy\n",
      "  subset_republicans[\"quotation\"] = subset_republicans[\"quotation\"].str.lower()\n"
     ]
    }
   ],
   "source": [
    "# Have all quotes in lowercase\n",
    "data[\"quotation\"] = data[\"quotation\"].str.lower()\n",
    "subset_democrats[\"quotation\"] = subset_democrats[\"quotation\"].str.lower()\n",
    "subset_republicans[\"quotation\"] = subset_republicans[\"quotation\"].str.lower()"
   ]
  },
  {
   "cell_type": "code",
   "execution_count": 706,
   "id": "78535fa5",
   "metadata": {},
   "outputs": [],
   "source": [
    "# Drop rows with those who don't have any quotes\n",
    "data = data.dropna(subset=['quotation'])\n",
    "subset_democrats = subset_democrats.dropna(subset=['quotation'])\n",
    "subset_republicans = subset_republicans.dropna(subset=['quotation'])"
   ]
  },
  {
   "cell_type": "code",
   "execution_count": 707,
   "id": "53072206",
   "metadata": {},
   "outputs": [],
   "source": [
    "# Create full lists \n",
    "list_rep = names_republicans + ['republican', 'republicans', \"donald trump\"]\n",
    "pattern_list_rep = '|'.join(list_rep)\n",
    "\n",
    "list_dem = names_democrats + ['democrat', 'democrats']\n",
    "pattern_list_dem = '|'.join(list_dem)"
   ]
  },
  {
   "cell_type": "code",
   "execution_count": 709,
   "id": "d88cce44",
   "metadata": {},
   "outputs": [],
   "source": [
    "# Subset of quotes said by democrats about republicans\n",
    "demo_quotes_abt_rep = subset_democrats[subset_democrats['quotation'].str.contains(pattern_list_rep)]"
   ]
  },
  {
   "cell_type": "code",
   "execution_count": 710,
   "id": "ea6a2eb7",
   "metadata": {},
   "outputs": [],
   "source": [
    "# Subset of quotes said by democrats about democrats\n",
    "rep_quotes_abt_demo = subset_republicans[subset_republicans['quotation'].str.contains(pattern_list_dem)]"
   ]
  },
  {
   "cell_type": "markdown",
   "id": "4a8ae476",
   "metadata": {},
   "source": [
    "## Sentiment analysis of the quotes"
   ]
  },
  {
   "cell_type": "markdown",
   "id": "bfe8bfce",
   "metadata": {},
   "source": [
    "### Use of nltk package"
   ]
  },
  {
   "cell_type": "code",
   "execution_count": 716,
   "id": "c5d2d4c6",
   "metadata": {},
   "outputs": [
    {
     "name": "stderr",
     "output_type": "stream",
     "text": [
      "[nltk_data] Downloading package vader_lexicon to\n",
      "[nltk_data]     /Users/darynabilodid/nltk_data...\n",
      "[nltk_data]   Package vader_lexicon is already up-to-date!\n"
     ]
    }
   ],
   "source": [
    "import nltk\n",
    "# nltk.download()\n",
    "nltk.download('vader_lexicon')\n",
    "\n",
    "from nltk.sentiment import SentimentIntensityAnalyzer\n",
    "sia = SentimentIntensityAnalyzer()"
   ]
  },
  {
   "cell_type": "code",
   "execution_count": 762,
   "id": "1fd85216",
   "metadata": {},
   "outputs": [],
   "source": [
    "# Function that get the sentiment of each quote\n",
    "def get_sentiment(row):   \n",
    "    row['NLTK score'] = sia.polarity_scores(row['quotation'])\n",
    "    return row"
   ]
  },
  {
   "cell_type": "code",
   "execution_count": 763,
   "id": "e14966c7",
   "metadata": {},
   "outputs": [],
   "source": [
    "# Apply function on the subsets - for republicans and democrats\n",
    "demo_quotes_abt_rep = demo_quotes_abt_rep.apply(get_sentiment, axis=1)\n",
    "rep_quotes_abt_demo = rep_quotes_abt_demo.apply(get_sentiment, axis=1)"
   ]
  },
  {
   "cell_type": "code",
   "execution_count": 770,
   "id": "fd654192",
   "metadata": {},
   "outputs": [],
   "source": [
    "# Split in columns to get values \n",
    "# Democrats about republicans \n",
    "demo_quotes_abt_rep = pd.concat([demo_quotes_abt_rep, demo_quotes_abt_rep['NLTK score'].apply(pd.Series)], axis=1)\n",
    "\n",
    "# Republicans about democrats\n",
    "rep_quotes_abt_demo = pd.concat([rep_quotes_abt_demo, rep_quotes_abt_demo['NLTK score'].apply(pd.Series)], axis=1)\n"
   ]
  },
  {
   "cell_type": "markdown",
   "id": "a1562d7a",
   "metadata": {},
   "source": [
    "## EDA:  We have 2 datasets that we want to analyze"
   ]
  },
  {
   "cell_type": "markdown",
   "id": "0daa753a",
   "metadata": {},
   "source": [
    "The problem is that we have too quotes classified as neutral. \n",
    "We should read about SentimentIntensityAnalyzer as we may need to preprocess before, or use a different sentiment predictor.\n",
    "Another thing: may be we should appply the analyzer before even lower casing the sentences (because maybe some excitement/anger can be in upper case)\n",
    "Something to think about.\n",
    "https://www.analyticsvidhya.com/blog/2021/01/sentiment-analysis-vader-or-textblob/"
   ]
  },
  {
   "cell_type": "markdown",
   "id": "da3e314e",
   "metadata": {},
   "source": [
    "#### Republicans about democrats "
   ]
  },
  {
   "cell_type": "code",
   "execution_count": 785,
   "id": "8bf9d2d7",
   "metadata": {},
   "outputs": [
    {
     "data": {
      "text/html": [
       "<div>\n",
       "<style scoped>\n",
       "    .dataframe tbody tr th:only-of-type {\n",
       "        vertical-align: middle;\n",
       "    }\n",
       "\n",
       "    .dataframe tbody tr th {\n",
       "        vertical-align: top;\n",
       "    }\n",
       "\n",
       "    .dataframe thead th {\n",
       "        text-align: right;\n",
       "    }\n",
       "</style>\n",
       "<table border=\"1\" class=\"dataframe\">\n",
       "  <thead>\n",
       "    <tr style=\"text-align: right;\">\n",
       "      <th></th>\n",
       "      <th>quoteID</th>\n",
       "      <th>quotation</th>\n",
       "      <th>speaker</th>\n",
       "      <th>qids</th>\n",
       "      <th>date</th>\n",
       "      <th>numOccurrences</th>\n",
       "      <th>probas</th>\n",
       "      <th>urls</th>\n",
       "      <th>phase</th>\n",
       "      <th>subset</th>\n",
       "      <th>...</th>\n",
       "      <th>honorificPrefix</th>\n",
       "      <th>honorificSuffix</th>\n",
       "      <th>position</th>\n",
       "      <th>stateName</th>\n",
       "      <th>parties</th>\n",
       "      <th>NLTK score</th>\n",
       "      <th>neg</th>\n",
       "      <th>neu</th>\n",
       "      <th>pos</th>\n",
       "      <th>compound</th>\n",
       "    </tr>\n",
       "  </thead>\n",
       "  <tbody>\n",
       "    <tr>\n",
       "      <th>4678</th>\n",
       "      <td>2018-03-07-104175</td>\n",
       "      <td>not all visitors to our parks have the ability...</td>\n",
       "      <td>ryan zinke</td>\n",
       "      <td>[Q7384672]</td>\n",
       "      <td>2018-03-07 22:44:57</td>\n",
       "      <td>1.0</td>\n",
       "      <td>[[Ryan Zinke, 0.7164], [None, 0.2109], [Lamar ...</td>\n",
       "      <td>[http://pressandguide.com/blogs/gr8_lakes_camp...</td>\n",
       "      <td>E</td>\n",
       "      <td>True</td>\n",
       "      <td>...</td>\n",
       "      <td>NaN</td>\n",
       "      <td>NaN</td>\n",
       "      <td>Representative</td>\n",
       "      <td>MT</td>\n",
       "      <td>Republican</td>\n",
       "      <td>{'neg': 0.0, 'neu': 0.919, 'pos': 0.081, 'comp...</td>\n",
       "      <td>0.0</td>\n",
       "      <td>0.919</td>\n",
       "      <td>0.081</td>\n",
       "      <td>0.7906</td>\n",
       "    </tr>\n",
       "  </tbody>\n",
       "</table>\n",
       "<p>1 rows × 31 columns</p>\n",
       "</div>"
      ],
      "text/plain": [
       "                quoteID                                          quotation  \\\n",
       "4678  2018-03-07-104175  not all visitors to our parks have the ability...   \n",
       "\n",
       "         speaker        qids                date  numOccurrences  \\\n",
       "4678  ryan zinke  [Q7384672] 2018-03-07 22:44:57             1.0   \n",
       "\n",
       "                                                 probas  \\\n",
       "4678  [[Ryan Zinke, 0.7164], [None, 0.2109], [Lamar ...   \n",
       "\n",
       "                                                   urls phase  subset  ...  \\\n",
       "4678  [http://pressandguide.com/blogs/gr8_lakes_camp...     E    True  ...   \n",
       "\n",
       "     honorificPrefix honorificSuffix        position stateName     parties  \\\n",
       "4678             NaN             NaN  Representative        MT  Republican   \n",
       "\n",
       "                                             NLTK score  neg    neu    pos  \\\n",
       "4678  {'neg': 0.0, 'neu': 0.919, 'pos': 0.081, 'comp...  0.0  0.919  0.081   \n",
       "\n",
       "     compound  \n",
       "4678   0.7906  \n",
       "\n",
       "[1 rows x 31 columns]"
      ]
     },
     "execution_count": 785,
     "metadata": {},
     "output_type": "execute_result"
    }
   ],
   "source": [
    "rep_quotes_abt_demo.head(1)"
   ]
  },
  {
   "cell_type": "code",
   "execution_count": 802,
   "id": "cf23de86",
   "metadata": {},
   "outputs": [
    {
     "data": {
      "image/png": "[encoded data removed]",
      "text/plain": [
       "<Figure size 432x288 with 1 Axes>"
      ]
     },
     "metadata": {
      "needs_background": "light"
     },
     "output_type": "display_data"
    }
   ],
   "source": [
    "plt.hist(rep_quotes_abt_demo['neg'], alpha=0.5);\n",
    "plt.hist(rep_quotes_abt_demo['pos'], alpha=0.5);\n",
    "plt.hist(rep_quotes_abt_demo['neu'], alpha=0.5);\n",
    "labels = ['neg','pos', 'neu'];\n",
    "plt.title('Distribution of sentiment');\n",
    "plt.legend(labels);"
   ]
  }
 ],
 "metadata": {
  "kernelspec": {
   "display_name": "Python 3 (ipykernel)",
   "language": "python",
   "name": "python3"
  },
  "language_info": {
   "codemirror_mode": {
    "name": "ipython",
    "version": 3
   },
   "file_extension": ".py",
   "mimetype": "text/x-python",
   "name": "python",
   "nbconvert_exporter": "python",
   "pygments_lexer": "ipython3",
   "version": "3.9.5"
  }
 },
 "nbformat": 4,
 "nbformat_minor": 5
}
