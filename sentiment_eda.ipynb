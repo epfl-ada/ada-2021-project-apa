{
 "cells": [
  {
   "cell_type": "markdown",
   "metadata": {},
   "source": [
    "# Sentiment analysis\n",
    "\n",
    "This notebook describes the sentiment analysis steps that were undertaken. In the first part, we extract the sentiment of each quotes. In the second, we provide some descriptive statistics of the final dataset. After that, we go answering our research questions."
   ]
  },
  {
   "cell_type": "markdown",
   "metadata": {
    "jp-MarkdownHeadingCollapsed": true,
    "tags": []
   },
   "source": [
    "## Setup"
   ]
  },
  {
   "cell_type": "code",
   "execution_count": 1,
   "metadata": {},
   "outputs": [],
   "source": [
    "# Built-in\n",
    "import os\n",
    "from IPython.display import display\n",
    "\n",
    "# Third parties\n",
    "import numpy as np\n",
    "import pandas as pd\n",
    "import nltk\n",
    "from nltk import tokenize\n",
    "from nltk.sentiment import SentimentIntensityAnalyzer\n",
    "from nltk.corpus import stopwords\n",
    "import matplotlib.pyplot as plt\n",
    "import seaborn as sns\n",
    "from tqdm import tqdm\n",
    "import scipy\n",
    "import statsmodels.api as sm\n",
    "import statsmodels.formula.api as smf\n"
   ]
  },
  {
   "cell_type": "code",
   "execution_count": 2,
   "metadata": {},
   "outputs": [
    {
     "name": "stderr",
     "output_type": "stream",
     "text": [
      "[nltk_data] Downloading package vader_lexicon to\n",
      "[nltk_data]     /Users/AndreasPlesner/nltk_data...\n",
      "[nltk_data]   Package vader_lexicon is already up-to-date!\n",
      "[nltk_data] Downloading package stopwords to\n",
      "[nltk_data]     /Users/AndreasPlesner/nltk_data...\n",
      "[nltk_data]   Unzipping corpora/stopwords.zip.\n"
     ]
    }
   ],
   "source": [
    "# Initialization needed for some modules\n",
    "\n",
    "# tqdm for pandas\n",
    "tqdm.pandas()\n",
    "\n",
    "# NLTK configuration\n",
    "nltk.download('vader_lexicon')\n",
    "nltk.download('stopwords')\n",
    "sia = SentimentIntensityAnalyzer()\n",
    "\n",
    "# TokenSpace initialization\n",
    "tokenSpace = tokenize.WhitespaceTokenizer()"
   ]
  },
  {
   "cell_type": "code",
   "execution_count": 3,
   "metadata": {},
   "outputs": [],
   "source": [
    "# Configuration\n",
    "DATA_PATH = \"data\"\n",
    "PKL_PATH = os.path.join(DATA_PATH, \"pkl\")\n",
    "CSV_PATH = os.path.join(DATA_PATH, \"csv\")\n",
    "RESOURCES_PATH = os.path.join(DATA_PATH, \"resources\")"
   ]
  },
  {
   "cell_type": "code",
   "execution_count": 4,
   "metadata": {},
   "outputs": [],
   "source": [
    "# Utils functions\n",
    "\n",
    "def get_sentiment(row: pd.Series) -> pd.Series:\n",
    "    \"\"\"\n",
    "    Compute the sentiment score of a given row\n",
    "    \"\"\"   \n",
    "    \n",
    "    row['NLTK_score'] = sia.polarity_scores(row['quotation'])\n",
    "    return row\n",
    "\n",
    "def counter(text, columnText, quantity, label):\n",
    "    allWords = ' '.join([text for text in text[columnText].astype('str')])\n",
    "    tokenPhrase = tokenSpace.tokenize(allWords)\n",
    "    frequency = nltk.FreqDist(tokenPhrase) \n",
    "    dfFrequency = pd.DataFrame({\"Word\": list(frequency.keys()), \"Frequency\": list(frequency.values())}) \n",
    "    \n",
    "    dfFrequency = dfFrequency.nlargest(columns = \"Frequency\", n = quantity)\n",
    "    plt.figure(figsize=(15,3))\n",
    "    ax = sns.barplot(data = dfFrequency, x = \"Word\", y = \"Frequency\", palette=\"deep\")\n",
    "    ax.set(ylabel = \"Count\")\n",
    "    plt.xticks(rotation='horizontal')\n",
    "    plt.title(f\"Most common words for {label}\")\n",
    "    plt.show()"
   ]
  },
  {
   "cell_type": "markdown",
   "metadata": {
    "jp-MarkdownHeadingCollapsed": true,
    "tags": []
   },
   "source": [
    "## 1. Compute sentiment score"
   ]
  },
  {
   "cell_type": "markdown",
   "metadata": {},
   "source": [
    "Since we have all our extracted mentions dataset, we will simply load each year and create a final aggregated dataframe, since it is not too big (around 100k quotes)."
   ]
  },
  {
   "cell_type": "code",
   "execution_count": 5,
   "metadata": {},
   "outputs": [],
   "source": [
    "df_lst = []\n",
    "\n",
    "mentions = [os.path.join(CSV_PATH, f\"20{i:02d}_mentions.csv\") for i in range(15, 21)]  \n",
    "\n",
    "for mention in mentions:\n",
    "    df_mention = pd.read_csv(mention)\n",
    "    df_lst.append(df_mention)\n",
    "\n",
    "# Concatenate every year together\n",
    "df = pd.concat(df_lst) "
   ]
  },
  {
   "cell_type": "markdown",
   "metadata": {},
   "source": [
    "In a first place we'll use the Natural Language ToolKit (NLTK) package to do our sentiment analysis. It is using a rules-based approach which assigns to given words a specific sentiment rating which can be neutral, positive or negative (and its compound result). This is a pretty basic approach to scoring the sentiment of sentences but has the advantage of being easily applied and computed very fast."
   ]
  },
  {
   "cell_type": "code",
   "execution_count": 6,
   "metadata": {},
   "outputs": [],
   "source": [
    "# Compute the sentiment score\n",
    "df = df.progress_apply(get_sentiment, axis=1)\n",
    "    "
   ]
  },
  {
   "cell_type": "markdown",
   "metadata": {},
   "source": [
    "Remove NLTK columns"
   ]
  },
  {
   "cell_type": "code",
   "execution_count": 7,
   "metadata": {},
   "outputs": [],
   "source": [
    "NLTK_cols = [col for col in df.columns if 'NLTK' in col]\n",
    "if len(NLTK_cols) > 0:\n",
    "    df = df.drop(NLTK_cols, axis=1)"
   ]
  },
  {
   "cell_type": "code",
   "execution_count": 8,
   "metadata": {},
   "outputs": [],
   "source": [
    "# Sanity check\n",
    "df.sample(2)"
   ]
  },
  {
   "cell_type": "code",
   "execution_count": 9,
   "metadata": {},
   "outputs": [],
   "source": [
    "if not os.path.exists(os.path.join(PKL_PATH, 'final_subset.pkl')):\n",
    "    # Save the final dataframe both in csv and pickle\n",
    "    df.to_pickle(os.path.join(PKL_PATH, \"final_subset.pkl\"))\n",
    "    # df.to_csv(os.path.join(CSV_PATH, \"final_subset.csv\"))"
   ]
  },
  {
   "cell_type": "markdown",
   "metadata": {},
   "source": [
    "Now that we have our final subset, we can conduct our exploratory data analysis on it."
   ]
  },
  {
   "cell_type": "markdown",
   "metadata": {
    "jp-MarkdownHeadingCollapsed": true,
    "tags": []
   },
   "source": [
    "## 2. Descriptive statistics\n",
    "\n",
    "We will now perform some preliminary analysis, having in mind that we want to analyze the evolution of the sentiment scores accross time. We simply explore the data we have to deal with. We look at it in an aggregated way, not separated by party."
   ]
  },
  {
   "cell_type": "code",
   "execution_count": 10,
   "metadata": {},
   "outputs": [],
   "source": [
    "# To avoid running the above cells, we load the dataframe directly\n",
    "# either from csv or pickle\n",
    "df = pd.read_pickle(os.path.join(PKL_PATH, \"final_subset.pkl\"))\n",
    "\n",
    "## For windows users :\n",
    "# from pickle5 import pickle\n",
    "# with open(\"data/pkl/final_subset.pkl\", \"rb\") as fh:\n",
    "#   df = pickle.load(fh)"
   ]
  },
  {
   "cell_type": "code",
   "execution_count": 11,
   "metadata": {},
   "outputs": [
    {
     "name": "stdout",
     "output_type": "stream",
     "text": [
      "<class 'pandas.core.frame.DataFrame'>\n",
      "Int64Index: 105929 entries, 0 to 6361\n",
      "Data columns (total 31 columns):\n",
      " #   Column                Non-Null Count   Dtype  \n",
      "---  ------                --------------   -----  \n",
      " 0   Unnamed: 0            105929 non-null  int64  \n",
      " 1   quoteID               105929 non-null  object \n",
      " 2   quotation             105929 non-null  object \n",
      " 3   speaker               105929 non-null  object \n",
      " 4   qids                  105929 non-null  object \n",
      " 5   date                  105929 non-null  object \n",
      " 6   numOccurrences        105929 non-null  float64\n",
      " 7   probas                105929 non-null  object \n",
      " 8   urls                  105929 non-null  object \n",
      " 9   phase                 105929 non-null  object \n",
      " 10  subset                105929 non-null  bool   \n",
      " 11  id                    82439 non-null   object \n",
      " 12  givenName             105929 non-null  object \n",
      " 13  familyName            105929 non-null  object \n",
      " 14  unaccentedGivenName   105929 non-null  object \n",
      " 15  unaccentedFamilyName  105929 non-null  object \n",
      " 16  birthYear             105929 non-null  float64\n",
      " 17  deathYear             2094 non-null    float64\n",
      " 18  congresses            105929 non-null  object \n",
      " 19  middleName            47386 non-null   object \n",
      " 20  unaccentedMiddleName  47386 non-null   object \n",
      " 21  nickName              1063 non-null    object \n",
      " 22  honorificPrefix       7020 non-null    object \n",
      " 23  honorificSuffix       2518 non-null    object \n",
      " 24  position              105929 non-null  object \n",
      " 25  stateName             82439 non-null   object \n",
      " 26  parties               105929 non-null  object \n",
      " 27  neg                   105929 non-null  float64\n",
      " 28  neu                   105929 non-null  float64\n",
      " 29  pos                   105929 non-null  float64\n",
      " 30  compound              105929 non-null  float64\n",
      "dtypes: bool(1), float64(7), int64(1), object(22)\n",
      "memory usage: 25.2+ MB\n"
     ]
    }
   ],
   "source": [
    "df.info()"
   ]
  },
  {
   "cell_type": "markdown",
   "metadata": {},
   "source": [
    "We see that we have many columns (32!). We decided to keep everything for now, as we might need something. We will scrap some information later on."
   ]
  },
  {
   "cell_type": "code",
   "execution_count": 12,
   "metadata": {},
   "outputs": [
    {
     "data": {
      "text/html": [
       "<div>\n",
       "<style scoped>\n",
       "    .dataframe tbody tr th:only-of-type {\n",
       "        vertical-align: middle;\n",
       "    }\n",
       "\n",
       "    .dataframe tbody tr th {\n",
       "        vertical-align: top;\n",
       "    }\n",
       "\n",
       "    .dataframe thead th {\n",
       "        text-align: right;\n",
       "    }\n",
       "</style>\n",
       "<table border=\"1\" class=\"dataframe\">\n",
       "  <thead>\n",
       "    <tr style=\"text-align: right;\">\n",
       "      <th></th>\n",
       "      <th>Unnamed: 0</th>\n",
       "      <th>quoteID</th>\n",
       "      <th>quotation</th>\n",
       "      <th>speaker</th>\n",
       "      <th>qids</th>\n",
       "      <th>date</th>\n",
       "      <th>numOccurrences</th>\n",
       "      <th>probas</th>\n",
       "      <th>urls</th>\n",
       "      <th>phase</th>\n",
       "      <th>...</th>\n",
       "      <th>nickName</th>\n",
       "      <th>honorificPrefix</th>\n",
       "      <th>honorificSuffix</th>\n",
       "      <th>position</th>\n",
       "      <th>stateName</th>\n",
       "      <th>parties</th>\n",
       "      <th>neg</th>\n",
       "      <th>neu</th>\n",
       "      <th>pos</th>\n",
       "      <th>compound</th>\n",
       "    </tr>\n",
       "  </thead>\n",
       "  <tbody>\n",
       "    <tr>\n",
       "      <th>7223</th>\n",
       "      <td>25054</td>\n",
       "      <td>2016-09-28-025927</td>\n",
       "      <td>for 90 minutes... i watched her -- she was stu...</td>\n",
       "      <td>donald trump</td>\n",
       "      <td>['Q22686', 'Q27947481']</td>\n",
       "      <td>2016-09-28 01:31:11</td>\n",
       "      <td>1.0</td>\n",
       "      <td>[['Donald Trump', '0.8236'], ['None', '0.1764']]</td>\n",
       "      <td>['http://nbcnews.com/politics/2016-election/tr...</td>\n",
       "      <td>E</td>\n",
       "      <td>...</td>\n",
       "      <td>NaN</td>\n",
       "      <td>NaN</td>\n",
       "      <td>NaN</td>\n",
       "      <td>President</td>\n",
       "      <td>NaN</td>\n",
       "      <td>Republican</td>\n",
       "      <td>0.101</td>\n",
       "      <td>0.851</td>\n",
       "      <td>0.048</td>\n",
       "      <td>-0.4019</td>\n",
       "    </tr>\n",
       "    <tr>\n",
       "      <th>10955</th>\n",
       "      <td>671491</td>\n",
       "      <td>2017-03-24-019390</td>\n",
       "      <td>despite changes made to the republican bill to...</td>\n",
       "      <td>alma adams</td>\n",
       "      <td>['Q4733597']</td>\n",
       "      <td>2017-03-24 07:48:33</td>\n",
       "      <td>1.0</td>\n",
       "      <td>[['Alma Adams', '0.8644'], ['None', '0.1356']]</td>\n",
       "      <td>['https://insurancenewsnet.com/oarticle/on-the...</td>\n",
       "      <td>E</td>\n",
       "      <td>...</td>\n",
       "      <td>NaN</td>\n",
       "      <td>NaN</td>\n",
       "      <td>NaN</td>\n",
       "      <td>Representative</td>\n",
       "      <td>NC</td>\n",
       "      <td>Democrat</td>\n",
       "      <td>0.255</td>\n",
       "      <td>0.745</td>\n",
       "      <td>0.000</td>\n",
       "      <td>-0.8625</td>\n",
       "    </tr>\n",
       "  </tbody>\n",
       "</table>\n",
       "<p>2 rows × 31 columns</p>\n",
       "</div>"
      ],
      "text/plain": [
       "       Unnamed: 0            quoteID  \\\n",
       "7223        25054  2016-09-28-025927   \n",
       "10955      671491  2017-03-24-019390   \n",
       "\n",
       "                                               quotation       speaker  \\\n",
       "7223   for 90 minutes... i watched her -- she was stu...  donald trump   \n",
       "10955  despite changes made to the republican bill to...    alma adams   \n",
       "\n",
       "                          qids                 date  numOccurrences  \\\n",
       "7223   ['Q22686', 'Q27947481']  2016-09-28 01:31:11             1.0   \n",
       "10955             ['Q4733597']  2017-03-24 07:48:33             1.0   \n",
       "\n",
       "                                                 probas  \\\n",
       "7223   [['Donald Trump', '0.8236'], ['None', '0.1764']]   \n",
       "10955    [['Alma Adams', '0.8644'], ['None', '0.1356']]   \n",
       "\n",
       "                                                    urls phase  ...  nickName  \\\n",
       "7223   ['http://nbcnews.com/politics/2016-election/tr...     E  ...       NaN   \n",
       "10955  ['https://insurancenewsnet.com/oarticle/on-the...     E  ...       NaN   \n",
       "\n",
       "      honorificPrefix honorificSuffix        position stateName     parties  \\\n",
       "7223              NaN             NaN       President       NaN  Republican   \n",
       "10955             NaN             NaN  Representative        NC    Democrat   \n",
       "\n",
       "         neg    neu    pos compound  \n",
       "7223   0.101  0.851  0.048  -0.4019  \n",
       "10955  0.255  0.745  0.000  -0.8625  \n",
       "\n",
       "[2 rows x 31 columns]"
      ]
     },
     "execution_count": 12,
     "metadata": {},
     "output_type": "execute_result"
    }
   ],
   "source": [
    "df.sample(2)"
   ]
  },
  {
   "cell_type": "markdown",
   "metadata": {},
   "source": [
    "Here we see what a small sample of the data looks like."
   ]
  },
  {
   "cell_type": "code",
   "execution_count": 13,
   "metadata": {},
   "outputs": [
    {
     "name": "stdout",
     "output_type": "stream",
     "text": [
      "Unique speakers count:  776\n"
     ]
    }
   ],
   "source": [
    "print(\"Unique speakers count: \", len(df[\"speaker\"].unique()))"
   ]
  },
  {
   "cell_type": "markdown",
   "metadata": {},
   "source": [
    "This count (776) unique speakers means that not every politician included in the congress biography list was quoted. We should also keep in mind that those are not truly \"unique\" speakers, since we currently have aliases for Donald Trump. In the future, we will have many more aliases for many of the speaker. Those aliases will be extracted using the `speaker_attributes` file.\n"
   ]
  },
  {
   "cell_type": "code",
   "execution_count": 14,
   "metadata": {},
   "outputs": [
    {
     "name": "stdout",
     "output_type": "stream",
     "text": [
      "Number of current aliases for Trump:  3\n"
     ]
    },
    {
     "data": {
      "text/plain": [
       "array(['donald trump', 'president trump', 'president donald trump'],\n",
       "      dtype=object)"
      ]
     },
     "execution_count": 14,
     "metadata": {},
     "output_type": "execute_result"
    }
   ],
   "source": [
    "trump_aliases = df[df[\"speaker\"].str.contains(\"trump\")][\"speaker\"].unique()\n",
    "print(\"Number of current aliases for Trump: \", len(trump_aliases))\n",
    "trump_aliases"
   ]
  },
  {
   "cell_type": "markdown",
   "metadata": {},
   "source": [
    "Next, we are interested about the sentiment scores."
   ]
  },
  {
   "cell_type": "code",
   "execution_count": 15,
   "metadata": {},
   "outputs": [
    {
     "data": {
      "text/html": [
       "<div>\n",
       "<style scoped>\n",
       "    .dataframe tbody tr th:only-of-type {\n",
       "        vertical-align: middle;\n",
       "    }\n",
       "\n",
       "    .dataframe tbody tr th {\n",
       "        vertical-align: top;\n",
       "    }\n",
       "\n",
       "    .dataframe thead th {\n",
       "        text-align: right;\n",
       "    }\n",
       "</style>\n",
       "<table border=\"1\" class=\"dataframe\">\n",
       "  <thead>\n",
       "    <tr style=\"text-align: right;\">\n",
       "      <th></th>\n",
       "      <th>neg</th>\n",
       "      <th>neu</th>\n",
       "      <th>pos</th>\n",
       "      <th>compound</th>\n",
       "    </tr>\n",
       "  </thead>\n",
       "  <tbody>\n",
       "    <tr>\n",
       "      <th>count</th>\n",
       "      <td>105929.000000</td>\n",
       "      <td>105929.000000</td>\n",
       "      <td>105929.000000</td>\n",
       "      <td>105929.000000</td>\n",
       "    </tr>\n",
       "    <tr>\n",
       "      <th>mean</th>\n",
       "      <td>0.085498</td>\n",
       "      <td>0.817413</td>\n",
       "      <td>0.097087</td>\n",
       "      <td>0.046842</td>\n",
       "    </tr>\n",
       "    <tr>\n",
       "      <th>std</th>\n",
       "      <td>0.101861</td>\n",
       "      <td>0.127413</td>\n",
       "      <td>0.100218</td>\n",
       "      <td>0.515874</td>\n",
       "    </tr>\n",
       "    <tr>\n",
       "      <th>min</th>\n",
       "      <td>0.000000</td>\n",
       "      <td>0.133000</td>\n",
       "      <td>0.000000</td>\n",
       "      <td>-0.996500</td>\n",
       "    </tr>\n",
       "    <tr>\n",
       "      <th>25%</th>\n",
       "      <td>0.000000</td>\n",
       "      <td>0.735000</td>\n",
       "      <td>0.000000</td>\n",
       "      <td>-0.361200</td>\n",
       "    </tr>\n",
       "    <tr>\n",
       "      <th>50%</th>\n",
       "      <td>0.058000</td>\n",
       "      <td>0.822000</td>\n",
       "      <td>0.081000</td>\n",
       "      <td>0.000000</td>\n",
       "    </tr>\n",
       "    <tr>\n",
       "      <th>75%</th>\n",
       "      <td>0.140000</td>\n",
       "      <td>0.909000</td>\n",
       "      <td>0.155000</td>\n",
       "      <td>0.458800</td>\n",
       "    </tr>\n",
       "    <tr>\n",
       "      <th>max</th>\n",
       "      <td>0.835000</td>\n",
       "      <td>1.000000</td>\n",
       "      <td>0.756000</td>\n",
       "      <td>0.999000</td>\n",
       "    </tr>\n",
       "  </tbody>\n",
       "</table>\n",
       "</div>"
      ],
      "text/plain": [
       "                 neg            neu            pos       compound\n",
       "count  105929.000000  105929.000000  105929.000000  105929.000000\n",
       "mean        0.085498       0.817413       0.097087       0.046842\n",
       "std         0.101861       0.127413       0.100218       0.515874\n",
       "min         0.000000       0.133000       0.000000      -0.996500\n",
       "25%         0.000000       0.735000       0.000000      -0.361200\n",
       "50%         0.058000       0.822000       0.081000       0.000000\n",
       "75%         0.140000       0.909000       0.155000       0.458800\n",
       "max         0.835000       1.000000       0.756000       0.999000"
      ]
     },
     "execution_count": 15,
     "metadata": {},
     "output_type": "execute_result"
    }
   ],
   "source": [
    "sent_lst = [\"neg\", \"neu\", \"pos\", \"compound\"]\n",
    "df[sent_lst].describe()"
   ]
  },
  {
   "cell_type": "markdown",
   "metadata": {},
   "source": [
    "For our analysis, we decided to only use the `compound` score, as it is the normalized final score of each separate score.\n",
    "As we can see, most quotes are scored as \"neutral\". The median is perfectly at 0 and the mean is very similar. Below is the distribution illustrated:"
   ]
  },
  {
   "cell_type": "code",
   "execution_count": 16,
   "metadata": {},
   "outputs": [
    {
     "data": {
      "text/plain": [
       "Text(0, 0.5, 'count')"
      ]
     },
     "execution_count": 16,
     "metadata": {},
     "output_type": "execute_result"
    },
    {
     "data": {
      "image/png": "[encoded data removed]",
      "text/plain": [
       "<Figure size 432x288 with 1 Axes>"
      ]
     },
     "metadata": {
      "needs_background": "light"
     },
     "output_type": "display_data"
    }
   ],
   "source": [
    "plt.hist(df[\"compound\"])\n",
    "plt.title(\"Distribution of sentiment (compound) score\")\n",
    "plt.xlabel(\"sentiment score\")\n",
    "plt.ylabel(\"count\")"
   ]
  },
  {
   "cell_type": "markdown",
   "metadata": {},
   "source": [
    "What about its evolution accross time?"
   ]
  },
  {
   "cell_type": "code",
   "execution_count": 17,
   "metadata": {},
   "outputs": [],
   "source": [
    "df = df.reset_index(drop=True)\n",
    "df[\"date\"] = pd.to_datetime(df[\"date\"])"
   ]
  },
  {
   "cell_type": "code",
   "execution_count": 18,
   "metadata": {},
   "outputs": [
    {
     "data": {
      "image/png": "[encoded data removed]",
      "text/plain": [
       "<Figure size 576x360 with 1 Axes>"
      ]
     },
     "metadata": {
      "needs_background": "light"
     },
     "output_type": "display_data"
    }
   ],
   "source": [
    "fig, ax = plt.subplots(figsize=(8, 5))\n",
    "ax.scatter(df[\"date\"], df[\"compound\"], s=2)\n",
    "\n",
    "# Same as above\n",
    "ax.set_xlabel('date')\n",
    "ax.set_ylabel('score')\n",
    "ax.set_title('Compound score Data')\n",
    "ax.grid(True)"
   ]
  },
  {
   "cell_type": "markdown",
   "metadata": {},
   "source": [
    "From what we visually see, there seems to be dates with almost no quotes before 2017. This probably comes from the quotebank dataset itself. We will need to keep that in mind when doing our analysis.\n",
    "\n",
    "To further see if there is a trend with the compound score, we will compute the average per day."
   ]
  },
  {
   "cell_type": "code",
   "execution_count": 20,
   "metadata": {},
   "outputs": [],
   "source": [
    "# Date is currently precise to the second, but we simply want the date\n",
    "df[\"date_simp\"] = pd.DatetimeIndex(df['date']).normalize()"
   ]
  },
  {
   "cell_type": "code",
   "execution_count": 21,
   "metadata": {},
   "outputs": [
    {
     "data": {
      "image/png": "[encoded data removed]",
      "text/plain": [
       "<Figure size 576x360 with 1 Axes>"
      ]
     },
     "metadata": {
      "needs_background": "light"
     },
     "output_type": "display_data"
    }
   ],
   "source": [
    "# Plot the average for each day\n",
    "by_date = df.groupby([\"date_simp\"])[\"compound\"].mean()\n",
    "\n",
    "fig, ax = plt.subplots(figsize=(8, 5))\n",
    "ax.scatter(by_date.index, by_date, s=10)\n",
    "ax.set_xlabel('date')\n",
    "ax.set_ylabel('score')\n",
    "ax.set_title('Compound score Data')\n",
    "ax.grid(True)"
   ]
  },
  {
   "cell_type": "markdown",
   "metadata": {},
   "source": [
    "With the aggregated data, we don't seem to see a trend (maybe a downward trend?). We do see, however, that the variance seem to be higher before 2017. Again, it is clear that this effect comes, in part, from the fact that some days seem to be missing.\n",
    "\n",
    "We will now further analyze the dataset by exploring different things per party."
   ]
  },
  {
   "cell_type": "markdown",
   "metadata": {
    "tags": []
   },
   "source": [
    "## 3. Sentiment analysis"
   ]
  },
  {
   "cell_type": "code",
   "execution_count": 22,
   "metadata": {},
   "outputs": [],
   "source": [
    "# Split the df by party\n",
    "party_grps = df.groupby('parties')\n",
    "df_rep = df[df[\"parties\"] == \"Republican\"]\n",
    "df_dem = df[df[\"parties\"] == \"Democrat\"]"
   ]
  },
  {
   "cell_type": "code",
   "execution_count": 23,
   "metadata": {},
   "outputs": [
    {
     "name": "stdout",
     "output_type": "stream",
     "text": [
      "Number of Democrat quotes: 49672\n",
      "Number of Republican quotes: 56257\n"
     ]
    }
   ],
   "source": [
    "for party, grp in party_grps:\n",
    "    print(f'Number of {party} quotes: {len(grp)}')"
   ]
  },
  {
   "cell_type": "markdown",
   "metadata": {
    "jp-MarkdownHeadingCollapsed": true,
    "tags": []
   },
   "source": [
    "### 3.1 Quotes sentiment for each party (using NLTK)"
   ]
  },
  {
   "cell_type": "markdown",
   "metadata": {},
   "source": [
    "The following distributions show the amount of quotes categorized in each sentiment categories (neutral, negative, positive). The axis represent the amount of certainty a quote is to be categorized as such. Therefore, quotes on the left side of the graph are uncertainly classified as its type while quotes on the right are highly likely to be classified in the right type, according to our sentiment analysis classifier. <br>"
   ]
  },
  {
   "cell_type": "code",
   "execution_count": 24,
   "metadata": {},
   "outputs": [
    {
     "data": {
      "image/png": "[encoded data removed]",
      "text/plain": [
       "<Figure size 1008x360 with 3 Axes>"
      ]
     },
     "metadata": {
      "needs_background": "light"
     },
     "output_type": "display_data"
    }
   ],
   "source": [
    "fig, axes = plt.subplots(1, 3, figsize=(14,5), sharey=True)\n",
    "sns.histplot(data=df, x='neg', hue='parties', ax=axes[0], bins=25)\n",
    "sns.histplot(data=df, x='neu', hue='parties', ax=axes[1], bins=25)\n",
    "sns.histplot(data=df, x='pos', hue='parties', ax=axes[2], bins=25)\n",
    "fig.tight_layout()"
   ]
  },
  {
   "cell_type": "code",
   "execution_count": 25,
   "metadata": {},
   "outputs": [
    {
     "data": {
      "text/plain": [
       "<seaborn.axisgrid.FacetGrid at 0x12bf061c0>"
      ]
     },
     "execution_count": 25,
     "metadata": {},
     "output_type": "execute_result"
    },
    {
     "data": {
      "image/png": "[encoded data removed]",
      "text/plain": [
       "<Figure size 720x360 with 2 Axes>"
      ]
     },
     "metadata": {
      "needs_background": "light"
     },
     "output_type": "display_data"
    }
   ],
   "source": [
    "sns.displot(data=df, x='neg', stat='density', col='parties', bins=25, kind='hist', col_wrap=2);\n"
   ]
  },
  {
   "cell_type": "code",
   "execution_count": 26,
   "metadata": {},
   "outputs": [
    {
     "data": {
      "text/plain": [
       "<matplotlib.legend.Legend at 0x1284f3af0>"
      ]
     },
     "execution_count": 26,
     "metadata": {},
     "output_type": "execute_result"
    },
    {
     "data": {
      "image/png": "[encoded data removed]",
      "text/plain": [
       "<Figure size 1188x432 with 2 Axes>"
      ]
     },
     "metadata": {
      "needs_background": "light"
     },
     "output_type": "display_data"
    }
   ],
   "source": [
    "fig, axes = plt.subplots(1, 2, sharey=True, figsize=(16.5,6))\n",
    "# Overall distribution of republicans quotes sentiment\n",
    "labels = ['neg','pos', 'neu']\n",
    "axes[0].hist(df_rep['neg'], alpha=0.5, bins=np.arange(0, 1+1e-10, 0.05))\n",
    "axes[0].hist(df_rep['pos'], alpha=0.5, bins=np.arange(0, 1+1e-10, 0.05))\n",
    "axes[0].hist(df_rep['neu'], alpha=0.5, bins=np.arange(0, 1+1e-10, 0.05))\n",
    "axes[0].set_title('Distribution of sentiment of Republicans quotes')\n",
    "axes[1].hist(df_dem['neg'], alpha=0.5, bins=np.arange(0, 1+1e-10, 0.05))\n",
    "axes[1].hist(df_dem['pos'], alpha=0.5, bins=np.arange(0, 1+1e-10, 0.05))\n",
    "axes[1].hist(df_dem['neu'], alpha=0.5, bins=np.arange(0, 1+1e-10, 0.05))\n",
    "labels = ['Negative','Positive', 'Neutral']\n",
    "axes[1].set_title('Distribution of sentiment of Democrats quotes')\n",
    "plt.legend(labels);"
   ]
  },
  {
   "cell_type": "code",
   "execution_count": 27,
   "metadata": {},
   "outputs": [
    {
     "name": "stdout",
     "output_type": "stream",
     "text": [
      "Compound\n"
     ]
    },
    {
     "data": {
      "text/html": [
       "<div>\n",
       "<style scoped>\n",
       "    .dataframe tbody tr th:only-of-type {\n",
       "        vertical-align: middle;\n",
       "    }\n",
       "\n",
       "    .dataframe tbody tr th {\n",
       "        vertical-align: top;\n",
       "    }\n",
       "\n",
       "    .dataframe thead th {\n",
       "        text-align: right;\n",
       "    }\n",
       "</style>\n",
       "<table border=\"1\" class=\"dataframe\">\n",
       "  <thead>\n",
       "    <tr style=\"text-align: right;\">\n",
       "      <th></th>\n",
       "      <th>count</th>\n",
       "      <th>mean</th>\n",
       "      <th>std</th>\n",
       "      <th>min</th>\n",
       "      <th>25%</th>\n",
       "      <th>50%</th>\n",
       "      <th>75%</th>\n",
       "      <th>max</th>\n",
       "    </tr>\n",
       "    <tr>\n",
       "      <th>parties</th>\n",
       "      <th></th>\n",
       "      <th></th>\n",
       "      <th></th>\n",
       "      <th></th>\n",
       "      <th></th>\n",
       "      <th></th>\n",
       "      <th></th>\n",
       "      <th></th>\n",
       "    </tr>\n",
       "  </thead>\n",
       "  <tbody>\n",
       "    <tr>\n",
       "      <th>Democrat</th>\n",
       "      <td>49672.0</td>\n",
       "      <td>0.049648</td>\n",
       "      <td>0.518496</td>\n",
       "      <td>-0.9958</td>\n",
       "      <td>-0.3612</td>\n",
       "      <td>0.0</td>\n",
       "      <td>0.4767</td>\n",
       "      <td>0.9990</td>\n",
       "    </tr>\n",
       "    <tr>\n",
       "      <th>Republican</th>\n",
       "      <td>56257.0</td>\n",
       "      <td>0.044364</td>\n",
       "      <td>0.513539</td>\n",
       "      <td>-0.9965</td>\n",
       "      <td>-0.3612</td>\n",
       "      <td>0.0</td>\n",
       "      <td>0.4522</td>\n",
       "      <td>0.9989</td>\n",
       "    </tr>\n",
       "  </tbody>\n",
       "</table>\n",
       "</div>"
      ],
      "text/plain": [
       "              count      mean       std     min     25%  50%     75%     max\n",
       "parties                                                                     \n",
       "Democrat    49672.0  0.049648  0.518496 -0.9958 -0.3612  0.0  0.4767  0.9990\n",
       "Republican  56257.0  0.044364  0.513539 -0.9965 -0.3612  0.0  0.4522  0.9989"
      ]
     },
     "metadata": {},
     "output_type": "display_data"
    },
    {
     "name": "stdout",
     "output_type": "stream",
     "text": [
      "Ttest_indResult(statistic=1.6638992520114593, pvalue=0.09613552248150549)\n",
      "\n",
      "Negative\n"
     ]
    },
    {
     "data": {
      "text/html": [
       "<div>\n",
       "<style scoped>\n",
       "    .dataframe tbody tr th:only-of-type {\n",
       "        vertical-align: middle;\n",
       "    }\n",
       "\n",
       "    .dataframe tbody tr th {\n",
       "        vertical-align: top;\n",
       "    }\n",
       "\n",
       "    .dataframe thead th {\n",
       "        text-align: right;\n",
       "    }\n",
       "</style>\n",
       "<table border=\"1\" class=\"dataframe\">\n",
       "  <thead>\n",
       "    <tr style=\"text-align: right;\">\n",
       "      <th></th>\n",
       "      <th>count</th>\n",
       "      <th>mean</th>\n",
       "      <th>std</th>\n",
       "      <th>min</th>\n",
       "      <th>25%</th>\n",
       "      <th>50%</th>\n",
       "      <th>75%</th>\n",
       "      <th>max</th>\n",
       "    </tr>\n",
       "    <tr>\n",
       "      <th>parties</th>\n",
       "      <th></th>\n",
       "      <th></th>\n",
       "      <th></th>\n",
       "      <th></th>\n",
       "      <th></th>\n",
       "      <th></th>\n",
       "      <th></th>\n",
       "      <th></th>\n",
       "    </tr>\n",
       "  </thead>\n",
       "  <tbody>\n",
       "    <tr>\n",
       "      <th>Democrat</th>\n",
       "      <td>49672.0</td>\n",
       "      <td>0.085746</td>\n",
       "      <td>0.099209</td>\n",
       "      <td>0.0</td>\n",
       "      <td>0.0</td>\n",
       "      <td>0.061</td>\n",
       "      <td>0.14025</td>\n",
       "      <td>0.737</td>\n",
       "    </tr>\n",
       "    <tr>\n",
       "      <th>Republican</th>\n",
       "      <td>56257.0</td>\n",
       "      <td>0.085280</td>\n",
       "      <td>0.104146</td>\n",
       "      <td>0.0</td>\n",
       "      <td>0.0</td>\n",
       "      <td>0.055</td>\n",
       "      <td>0.14000</td>\n",
       "      <td>0.835</td>\n",
       "    </tr>\n",
       "  </tbody>\n",
       "</table>\n",
       "</div>"
      ],
      "text/plain": [
       "              count      mean       std  min  25%    50%      75%    max\n",
       "parties                                                                 \n",
       "Democrat    49672.0  0.085746  0.099209  0.0  0.0  0.061  0.14025  0.737\n",
       "Republican  56257.0  0.085280  0.104146  0.0  0.0  0.055  0.14000  0.835"
      ]
     },
     "metadata": {},
     "output_type": "display_data"
    },
    {
     "name": "stdout",
     "output_type": "stream",
     "text": [
      "Ttest_indResult(statistic=0.7428796097784959, pvalue=0.4575562190165472)\n",
      "\n",
      "Neutral\n"
     ]
    },
    {
     "data": {
      "text/html": [
       "<div>\n",
       "<style scoped>\n",
       "    .dataframe tbody tr th:only-of-type {\n",
       "        vertical-align: middle;\n",
       "    }\n",
       "\n",
       "    .dataframe tbody tr th {\n",
       "        vertical-align: top;\n",
       "    }\n",
       "\n",
       "    .dataframe thead th {\n",
       "        text-align: right;\n",
       "    }\n",
       "</style>\n",
       "<table border=\"1\" class=\"dataframe\">\n",
       "  <thead>\n",
       "    <tr style=\"text-align: right;\">\n",
       "      <th></th>\n",
       "      <th>count</th>\n",
       "      <th>mean</th>\n",
       "      <th>std</th>\n",
       "      <th>min</th>\n",
       "      <th>25%</th>\n",
       "      <th>50%</th>\n",
       "      <th>75%</th>\n",
       "      <th>max</th>\n",
       "    </tr>\n",
       "    <tr>\n",
       "      <th>parties</th>\n",
       "      <th></th>\n",
       "      <th></th>\n",
       "      <th></th>\n",
       "      <th></th>\n",
       "      <th></th>\n",
       "      <th></th>\n",
       "      <th></th>\n",
       "      <th></th>\n",
       "    </tr>\n",
       "  </thead>\n",
       "  <tbody>\n",
       "    <tr>\n",
       "      <th>Democrat</th>\n",
       "      <td>49672.0</td>\n",
       "      <td>0.816635</td>\n",
       "      <td>0.123868</td>\n",
       "      <td>0.133</td>\n",
       "      <td>0.735</td>\n",
       "      <td>0.820</td>\n",
       "      <td>0.904</td>\n",
       "      <td>1.0</td>\n",
       "    </tr>\n",
       "    <tr>\n",
       "      <th>Republican</th>\n",
       "      <td>56257.0</td>\n",
       "      <td>0.818099</td>\n",
       "      <td>0.130460</td>\n",
       "      <td>0.165</td>\n",
       "      <td>0.734</td>\n",
       "      <td>0.824</td>\n",
       "      <td>0.913</td>\n",
       "      <td>1.0</td>\n",
       "    </tr>\n",
       "  </tbody>\n",
       "</table>\n",
       "</div>"
      ],
      "text/plain": [
       "              count      mean       std    min    25%    50%    75%  max\n",
       "parties                                                                 \n",
       "Democrat    49672.0  0.816635  0.123868  0.133  0.735  0.820  0.904  1.0\n",
       "Republican  56257.0  0.818099  0.130460  0.165  0.734  0.824  0.913  1.0"
      ]
     },
     "metadata": {},
     "output_type": "display_data"
    },
    {
     "name": "stdout",
     "output_type": "stream",
     "text": [
      "Ttest_indResult(statistic=-1.8662805000581908, pvalue=0.06200489271517315)\n",
      "\n",
      "Positive\n"
     ]
    },
    {
     "data": {
      "text/html": [
       "<div>\n",
       "<style scoped>\n",
       "    .dataframe tbody tr th:only-of-type {\n",
       "        vertical-align: middle;\n",
       "    }\n",
       "\n",
       "    .dataframe tbody tr th {\n",
       "        vertical-align: top;\n",
       "    }\n",
       "\n",
       "    .dataframe thead th {\n",
       "        text-align: right;\n",
       "    }\n",
       "</style>\n",
       "<table border=\"1\" class=\"dataframe\">\n",
       "  <thead>\n",
       "    <tr style=\"text-align: right;\">\n",
       "      <th></th>\n",
       "      <th>count</th>\n",
       "      <th>mean</th>\n",
       "      <th>std</th>\n",
       "      <th>min</th>\n",
       "      <th>25%</th>\n",
       "      <th>50%</th>\n",
       "      <th>75%</th>\n",
       "      <th>max</th>\n",
       "    </tr>\n",
       "    <tr>\n",
       "      <th>parties</th>\n",
       "      <th></th>\n",
       "      <th></th>\n",
       "      <th></th>\n",
       "      <th></th>\n",
       "      <th></th>\n",
       "      <th></th>\n",
       "      <th></th>\n",
       "      <th></th>\n",
       "    </tr>\n",
       "  </thead>\n",
       "  <tbody>\n",
       "    <tr>\n",
       "      <th>Democrat</th>\n",
       "      <td>49672.0</td>\n",
       "      <td>0.097616</td>\n",
       "      <td>0.097041</td>\n",
       "      <td>0.0</td>\n",
       "      <td>0.0</td>\n",
       "      <td>0.085</td>\n",
       "      <td>0.155</td>\n",
       "      <td>0.756</td>\n",
       "    </tr>\n",
       "    <tr>\n",
       "      <th>Republican</th>\n",
       "      <td>56257.0</td>\n",
       "      <td>0.096620</td>\n",
       "      <td>0.102940</td>\n",
       "      <td>0.0</td>\n",
       "      <td>0.0</td>\n",
       "      <td>0.077</td>\n",
       "      <td>0.156</td>\n",
       "      <td>0.737</td>\n",
       "    </tr>\n",
       "  </tbody>\n",
       "</table>\n",
       "</div>"
      ],
      "text/plain": [
       "              count      mean       std  min  25%    50%    75%    max\n",
       "parties                                                               \n",
       "Democrat    49672.0  0.097616  0.097041  0.0  0.0  0.085  0.155  0.756\n",
       "Republican  56257.0  0.096620  0.102940  0.0  0.0  0.077  0.156  0.737"
      ]
     },
     "metadata": {},
     "output_type": "display_data"
    },
    {
     "name": "stdout",
     "output_type": "stream",
     "text": [
      "Ttest_indResult(statistic=1.6139935028982755, pvalue=0.10653181416833096)\n",
      "\n"
     ]
    }
   ],
   "source": [
    "for name, value in zip(['Compound', 'Negative', 'Neutral', 'Positive'], ['compound', 'neg', 'neu', 'pos']):\n",
    "    print(name)\n",
    "    display(party_grps[value].describe())\n",
    "    print(scipy.stats.ttest_ind(party_grps.get_group('Democrat')[value], party_grps.get_group('Republican')[value]))\n",
    "    print('')"
   ]
  },
  {
   "cell_type": "markdown",
   "metadata": {},
   "source": [
    "Not all quotes that where pos > neg have a positive compound nor is the opposite true"
   ]
  },
  {
   "cell_type": "code",
   "execution_count": 83,
   "metadata": {},
   "outputs": [
    {
     "data": {
      "text/html": [
       "<div>\n",
       "<style scoped>\n",
       "    .dataframe tbody tr th:only-of-type {\n",
       "        vertical-align: middle;\n",
       "    }\n",
       "\n",
       "    .dataframe tbody tr th {\n",
       "        vertical-align: top;\n",
       "    }\n",
       "\n",
       "    .dataframe thead th {\n",
       "        text-align: right;\n",
       "    }\n",
       "</style>\n",
       "<table border=\"1\" class=\"dataframe\">\n",
       "  <thead>\n",
       "    <tr style=\"text-align: right;\">\n",
       "      <th></th>\n",
       "      <th>Unnamed: 0</th>\n",
       "      <th>quoteID</th>\n",
       "      <th>quotation</th>\n",
       "      <th>speaker</th>\n",
       "      <th>qids</th>\n",
       "      <th>date</th>\n",
       "      <th>numOccurrences</th>\n",
       "      <th>probas</th>\n",
       "      <th>urls</th>\n",
       "      <th>phase</th>\n",
       "      <th>...</th>\n",
       "      <th>stateName</th>\n",
       "      <th>parties</th>\n",
       "      <th>neg</th>\n",
       "      <th>neu</th>\n",
       "      <th>pos</th>\n",
       "      <th>compound</th>\n",
       "      <th>date_simp</th>\n",
       "      <th>pos_sentiment</th>\n",
       "      <th>days_since_start</th>\n",
       "      <th>compound_check</th>\n",
       "    </tr>\n",
       "  </thead>\n",
       "  <tbody>\n",
       "    <tr>\n",
       "      <th>9917</th>\n",
       "      <td>375930</td>\n",
       "      <td>2015-02-13-037528</td>\n",
       "      <td>if there is a successful attack during a dhs s...</td>\n",
       "      <td>mark kirk</td>\n",
       "      <td>['Q339046']</td>\n",
       "      <td>2015-02-13 04:21:54</td>\n",
       "      <td>1.0</td>\n",
       "      <td>[['Mark Kirk', '0.9433'], ['None', '0.0567']]</td>\n",
       "      <td>['http://dailycaller.com/2015/02/12/gop-senate...</td>\n",
       "      <td>E</td>\n",
       "      <td>...</td>\n",
       "      <td>IL</td>\n",
       "      <td>Republican</td>\n",
       "      <td>0.196</td>\n",
       "      <td>0.608</td>\n",
       "      <td>0.196</td>\n",
       "      <td>-0.2500</td>\n",
       "      <td>2015-02-13</td>\n",
       "      <td>True</td>\n",
       "      <td>43.0</td>\n",
       "      <td>False</td>\n",
       "    </tr>\n",
       "    <tr>\n",
       "      <th>54002</th>\n",
       "      <td>541394</td>\n",
       "      <td>2018-10-22-046027</td>\n",
       "      <td>if we fail to act swiftly, i fear as the 2020 ...</td>\n",
       "      <td>earl blumenauer</td>\n",
       "      <td>['Q748066']</td>\n",
       "      <td>2018-10-22 06:17:53</td>\n",
       "      <td>2.0</td>\n",
       "      <td>[['Earl Blumenauer', '0.9063'], ['None', '0.08...</td>\n",
       "      <td>['https://stopthedrugwar.org/chronicle/2018/oc...</td>\n",
       "      <td>E</td>\n",
       "      <td>...</td>\n",
       "      <td>OR</td>\n",
       "      <td>Democrat</td>\n",
       "      <td>0.142</td>\n",
       "      <td>0.699</td>\n",
       "      <td>0.159</td>\n",
       "      <td>-0.0516</td>\n",
       "      <td>2018-10-22</td>\n",
       "      <td>True</td>\n",
       "      <td>1390.0</td>\n",
       "      <td>False</td>\n",
       "    </tr>\n",
       "    <tr>\n",
       "      <th>68267</th>\n",
       "      <td>457061</td>\n",
       "      <td>2018-05-10-085979</td>\n",
       "      <td>most americans... what they're saying is, `we ...</td>\n",
       "      <td>mark meadows</td>\n",
       "      <td>['Q3956796', 'Q6768847', 'Q6768848']</td>\n",
       "      <td>2018-05-10 08:30:00</td>\n",
       "      <td>7.0</td>\n",
       "      <td>[['Mark Meadows', '0.8957'], ['None', '0.0866'...</td>\n",
       "      <td>['https://www.heraldnet.com/nation-world/gop-c...</td>\n",
       "      <td>E</td>\n",
       "      <td>...</td>\n",
       "      <td>NC</td>\n",
       "      <td>Republican</td>\n",
       "      <td>0.101</td>\n",
       "      <td>0.782</td>\n",
       "      <td>0.117</td>\n",
       "      <td>-0.0258</td>\n",
       "      <td>2018-05-10</td>\n",
       "      <td>True</td>\n",
       "      <td>1225.0</td>\n",
       "      <td>False</td>\n",
       "    </tr>\n",
       "    <tr>\n",
       "      <th>70651</th>\n",
       "      <td>621772</td>\n",
       "      <td>2018-03-09-102330</td>\n",
       "      <td>republicans want illegal immigrants to work bu...</td>\n",
       "      <td>dean heller</td>\n",
       "      <td>['Q251763']</td>\n",
       "      <td>2018-03-09 09:45:28</td>\n",
       "      <td>2.0</td>\n",
       "      <td>[['Dean Heller', '0.7106'], ['None', '0.2895']]</td>\n",
       "      <td>['https://thinkprogress.org/nevada-senator-dem...</td>\n",
       "      <td>E</td>\n",
       "      <td>...</td>\n",
       "      <td>NV</td>\n",
       "      <td>Republican</td>\n",
       "      <td>0.092</td>\n",
       "      <td>0.803</td>\n",
       "      <td>0.104</td>\n",
       "      <td>-0.1779</td>\n",
       "      <td>2018-03-09</td>\n",
       "      <td>True</td>\n",
       "      <td>1163.0</td>\n",
       "      <td>False</td>\n",
       "    </tr>\n",
       "    <tr>\n",
       "      <th>89823</th>\n",
       "      <td>176182</td>\n",
       "      <td>2019-01-31-023293</td>\n",
       "      <td>fight to regain democracy,' as.. credit: wochi...</td>\n",
       "      <td>donald trump</td>\n",
       "      <td>['Q22686', 'Q27947481']</td>\n",
       "      <td>2019-01-31 06:47:11</td>\n",
       "      <td>1.0</td>\n",
       "      <td>[['Donald Trump', '0.9073'], ['None', '0.0663'...</td>\n",
       "      <td>['http://onenewspage.com/n/Politics/1zkg363bsh...</td>\n",
       "      <td>E</td>\n",
       "      <td>...</td>\n",
       "      <td>NaN</td>\n",
       "      <td>Republican</td>\n",
       "      <td>0.058</td>\n",
       "      <td>0.884</td>\n",
       "      <td>0.058</td>\n",
       "      <td>-0.2263</td>\n",
       "      <td>2019-01-31</td>\n",
       "      <td>True</td>\n",
       "      <td>1491.0</td>\n",
       "      <td>False</td>\n",
       "    </tr>\n",
       "  </tbody>\n",
       "</table>\n",
       "<p>5 rows × 35 columns</p>\n",
       "</div>"
      ],
      "text/plain": [
       "       Unnamed: 0            quoteID  \\\n",
       "9917       375930  2015-02-13-037528   \n",
       "54002      541394  2018-10-22-046027   \n",
       "68267      457061  2018-05-10-085979   \n",
       "70651      621772  2018-03-09-102330   \n",
       "89823      176182  2019-01-31-023293   \n",
       "\n",
       "                                               quotation          speaker  \\\n",
       "9917   if there is a successful attack during a dhs s...        mark kirk   \n",
       "54002  if we fail to act swiftly, i fear as the 2020 ...  earl blumenauer   \n",
       "68267  most americans... what they're saying is, `we ...     mark meadows   \n",
       "70651  republicans want illegal immigrants to work bu...      dean heller   \n",
       "89823  fight to regain democracy,' as.. credit: wochi...     donald trump   \n",
       "\n",
       "                                       qids                date  \\\n",
       "9917                            ['Q339046'] 2015-02-13 04:21:54   \n",
       "54002                           ['Q748066'] 2018-10-22 06:17:53   \n",
       "68267  ['Q3956796', 'Q6768847', 'Q6768848'] 2018-05-10 08:30:00   \n",
       "70651                           ['Q251763'] 2018-03-09 09:45:28   \n",
       "89823               ['Q22686', 'Q27947481'] 2019-01-31 06:47:11   \n",
       "\n",
       "       numOccurrences                                             probas  \\\n",
       "9917              1.0      [['Mark Kirk', '0.9433'], ['None', '0.0567']]   \n",
       "54002             2.0  [['Earl Blumenauer', '0.9063'], ['None', '0.08...   \n",
       "68267             7.0  [['Mark Meadows', '0.8957'], ['None', '0.0866'...   \n",
       "70651             2.0    [['Dean Heller', '0.7106'], ['None', '0.2895']]   \n",
       "89823             1.0  [['Donald Trump', '0.9073'], ['None', '0.0663'...   \n",
       "\n",
       "                                                    urls phase  ...  \\\n",
       "9917   ['http://dailycaller.com/2015/02/12/gop-senate...     E  ...   \n",
       "54002  ['https://stopthedrugwar.org/chronicle/2018/oc...     E  ...   \n",
       "68267  ['https://www.heraldnet.com/nation-world/gop-c...     E  ...   \n",
       "70651  ['https://thinkprogress.org/nevada-senator-dem...     E  ...   \n",
       "89823  ['http://onenewspage.com/n/Politics/1zkg363bsh...     E  ...   \n",
       "\n",
       "       stateName     parties    neg    neu    pos compound  date_simp  \\\n",
       "9917          IL  Republican  0.196  0.608  0.196  -0.2500 2015-02-13   \n",
       "54002         OR    Democrat  0.142  0.699  0.159  -0.0516 2018-10-22   \n",
       "68267         NC  Republican  0.101  0.782  0.117  -0.0258 2018-05-10   \n",
       "70651         NV  Republican  0.092  0.803  0.104  -0.1779 2018-03-09   \n",
       "89823        NaN  Republican  0.058  0.884  0.058  -0.2263 2019-01-31   \n",
       "\n",
       "       pos_sentiment days_since_start compound_check  \n",
       "9917            True             43.0          False  \n",
       "54002           True           1390.0          False  \n",
       "68267           True           1225.0          False  \n",
       "70651           True           1163.0          False  \n",
       "89823           True           1491.0          False  \n",
       "\n",
       "[5 rows x 35 columns]"
      ]
     },
     "metadata": {},
     "output_type": "display_data"
    },
    {
     "data": {
      "text/plain": [
       "True     104302\n",
       "False      1627\n",
       "Name: compound_check, dtype: int64"
      ]
     },
     "execution_count": 83,
     "metadata": {},
     "output_type": "execute_result"
    }
   ],
   "source": [
    "df = df.assign(\n",
    "    pos_sentiment=lambda x: x.neg <= x.pos, \n",
    "    days_since_start=lambda x: (x.date_simp - df.date_simp.min()).dt.total_seconds()/(24*60*60)\n",
    ")\n",
    "df = df.assign(compound_check= lambda x: x.pos_sentiment == (x.compound >= 0))\n",
    "display(df[df['compound_check'] == False].sample(5))\n",
    "df['compound_check'].value_counts()"
   ]
  },
  {
   "cell_type": "markdown",
   "metadata": {},
   "source": [
    "We can see that there are a lot of quotes classified as having a certainly neutral tone while the ones with a positive or negative tone are of small certainty. <br>\n",
    "There seems to be overall a bit more negatively assigned quotes rather than positively, and that republicans have overall been more often critics of the opponent party than the democrats."
   ]
  },
  {
   "cell_type": "markdown",
   "metadata": {},
   "source": [
    "Next, we'll look at the compound sentiment value for each party accross each year of interest."
   ]
  },
  {
   "cell_type": "code",
   "execution_count": 29,
   "metadata": {},
   "outputs": [
    {
     "data": {
      "text/plain": [
       "<matplotlib.legend.Legend at 0x12862feb0>"
      ]
     },
     "execution_count": 29,
     "metadata": {},
     "output_type": "execute_result"
    },
    {
     "data": {
      "image/png": "[encoded data removed]",
      "text/plain": [
       "<Figure size 1188x432 with 6 Axes>"
      ]
     },
     "metadata": {
      "needs_background": "light"
     },
     "output_type": "display_data"
    }
   ],
   "source": [
    "year = 2015\n",
    "fig, axes = plt.subplots(1, 6, sharey=True, figsize=(16.5,6))\n",
    "for i in range(0,6):\n",
    "    axes[i].hist(df_dem[df_dem['date'].astype(str).str.contains(f\"{year}\")]['compound'], alpha = 0.5, label =\"Democrats about Republicans\");\n",
    "    axes[i].hist(df_rep[df_rep['date'].astype(str).str.contains(f\"{year}\")]['compound'], alpha=0.5, label =\"Republicans about Democrats\");\n",
    "    axes[i].set_title(f\"{year}\");\n",
    "    year += 1\n",
    "axes[0].legend(bbox_to_anchor =(5, 1.15), ncol = 2)"
   ]
  },
  {
   "cell_type": "markdown",
   "metadata": {},
   "source": [
    "The various distributions of quotes sentiment scores over each year show us 2 things. <br>\n",
    "First, except for the year 2020 (for which we lack data), there have been more and more quotes coming from either party mentionning the opposition one. <br>\n",
    "Second, that depending on the year we see different amount of quote mentionning the other party. Indeed, in 2015 the distributions look pretty similar in shape (with the increase); from 2016 to 2019, we've extracted more quotes about republicans mentionning democrats rather than the opposite, except in 2017 where democrats seem to have been more actively speaking about their opponent. This can be explained by the presidential election that occurred in the beggining of this year and the following criticism the newly president may have faced (especially with his controversial ideas about Muslim-majority nations travel ban, Mexico wall..). <br>\n",
    "We'll later dive deeper in this direction and check the consequence on these distributions of specific events."
   ]
  },
  {
   "cell_type": "markdown",
   "metadata": {
    "jp-MarkdownHeadingCollapsed": true,
    "tags": []
   },
   "source": [
    "### 3.2 Most common words analysis"
   ]
  },
  {
   "cell_type": "markdown",
   "metadata": {},
   "source": [
    "Here we take a look at the words the most used by each party. "
   ]
  },
  {
   "cell_type": "code",
   "execution_count": 52,
   "metadata": {},
   "outputs": [],
   "source": [
    "#remove and keep some of the stopwords\n",
    "stop = stopwords.words(\"english\")\n",
    "\n",
    "# Add to the stopword list common words an punctuation that is present for both emotions\n",
    "stop = stop + [\"going\", \"would\", \"want\", \"get\", \"one\", \"-\", \"_\", \"[\", \"]\"]\n",
    "\n",
    "df_rep = df_rep.assign(qoutation_clean=df_rep[\"quotation\"].apply(lambda x: \" \".join(x for x in x.split() if x not in stop)))\n",
    "df_dem = df_dem.assign(qoutation_clean=df_dem[\"quotation\"].apply(lambda x: \" \".join(x for x in x.split() if x not in stop)))"
   ]
  },
  {
   "cell_type": "markdown",
   "metadata": {},
   "source": [
    "These histograms show those most common words after a first sorting where we've removed common english stopwords (mostly determinants, common verbs and punctuation). These words mostly refers to the opponent party title or its leading member. A further investigation by focusing on certain periods or removing even more general terms could reveal more intense words or speach patterns."
   ]
  },
  {
   "cell_type": "code",
   "execution_count": 53,
   "metadata": {},
   "outputs": [
    {
     "data": {
      "image/png": "[encoded data removed]",
      "text/plain": [
       "<Figure size 1080x216 with 1 Axes>"
      ]
     },
     "metadata": {
      "needs_background": "light"
     },
     "output_type": "display_data"
    },
    {
     "data": {
      "image/png": "[encoded data removed]",
      "text/plain": [
       "<Figure size 1080x216 with 1 Axes>"
      ]
     },
     "metadata": {
      "needs_background": "light"
     },
     "output_type": "display_data"
    }
   ],
   "source": [
    "counter(df_rep, 'quotation_clean', 15, 'Republicans Quotes')\n",
    "counter(df_dem, 'quotation_clean', 15, 'Democrats Quotes')"
   ]
  },
  {
   "cell_type": "markdown",
   "metadata": {
    "tags": []
   },
   "source": [
    "### 3.3 Regression"
   ]
  },
  {
   "cell_type": "code",
   "execution_count": 1,
   "metadata": {},
   "outputs": [],
   "source": [
    "# TODO\n",
    "# Olivier: add regression by year?"
   ]
  },
  {
   "cell_type": "code",
   "execution_count": 32,
   "metadata": {},
   "outputs": [
    {
     "data": {
      "text/plain": [
       "<seaborn.axisgrid.FacetGrid at 0x128448ca0>"
      ]
     },
     "execution_count": 32,
     "metadata": {},
     "output_type": "execute_result"
    },
    {
     "data": {
      "image/png": "[encoded data removed]",
      "text/plain": [
       "<Figure size 811.125x360 with 2 Axes>"
      ]
     },
     "metadata": {
      "needs_background": "light"
     },
     "output_type": "display_data"
    }
   ],
   "source": [
    "sns.relplot(data=df, x='date_simp', y='compound', hue='parties', kind='line', ci='sd', col='pos_sentiment');"
   ]
  },
  {
   "cell_type": "code",
   "execution_count": 85,
   "metadata": {},
   "outputs": [],
   "source": [
    "grps = df.groupby(['pos_sentiment', 'parties'])\n",
    "results = {}\n",
    "for label, grp in grps:\n",
    "    res = smf.ols('compound ~ days_since_start', data=grp).fit()\n",
    "    results[label] = res"
   ]
  },
  {
   "cell_type": "code",
   "execution_count": 87,
   "metadata": {},
   "outputs": [
    {
     "name": "stdout",
     "output_type": "stream",
     "text": [
      "(False, 'Democrat')\n",
      "                            OLS Regression Results                            \n",
      "==============================================================================\n",
      "Dep. Variable:               compound   R-squared:                       0.000\n",
      "Model:                            OLS   Adj. R-squared:                 -0.000\n",
      "Method:                 Least Squares   F-statistic:                    0.1095\n",
      "Date:                Wed, 01 Dec 2021   Prob (F-statistic):              0.741\n",
      "Time:                        16:43:24   Log-Likelihood:                -1458.4\n",
      "No. Observations:               18709   AIC:                             2921.\n",
      "Df Residuals:                   18707   BIC:                             2936.\n",
      "Df Model:                           1                                         \n",
      "Covariance Type:            nonrobust                                         \n",
      "====================================================================================\n",
      "                       coef    std err          t      P>|t|      [0.025      0.975]\n",
      "------------------------------------------------------------------------------------\n",
      "Intercept           -0.4934      0.005   -104.440      0.000      -0.503      -0.484\n",
      "days_since_start -1.274e-06   3.85e-06     -0.331      0.741   -8.82e-06    6.27e-06\n",
      "==============================================================================\n",
      "Omnibus:                     1353.923   Durbin-Watson:                   1.987\n",
      "Prob(Omnibus):                  0.000   Jarque-Bera (JB):              509.451\n",
      "Skew:                           0.143   Prob(JB):                    2.37e-111\n",
      "Kurtosis:                       2.244   Cond. No.                     3.03e+03\n",
      "==============================================================================\n",
      "\n",
      "Notes:\n",
      "[1] Standard Errors assume that the covariance matrix of the errors is correctly specified.\n",
      "[2] The condition number is large, 3.03e+03. This might indicate that there are\n",
      "strong multicollinearity or other numerical problems.\n",
      "(False, 'Republican')\n",
      "                            OLS Regression Results                            \n",
      "==============================================================================\n",
      "Dep. Variable:               compound   R-squared:                       0.001\n",
      "Model:                            OLS   Adj. R-squared:                  0.001\n",
      "Method:                 Least Squares   F-statistic:                     17.01\n",
      "Date:                Wed, 01 Dec 2021   Prob (F-statistic):           3.74e-05\n",
      "Time:                        16:43:24   Log-Likelihood:                -1378.4\n",
      "No. Observations:               20864   AIC:                             2761.\n",
      "Df Residuals:                   20862   BIC:                             2777.\n",
      "Df Model:                           1                                         \n",
      "Covariance Type:            nonrobust                                         \n",
      "====================================================================================\n",
      "                       coef    std err          t      P>|t|      [0.025      0.975]\n",
      "------------------------------------------------------------------------------------\n",
      "Intercept           -0.4808      0.005   -104.842      0.000      -0.490      -0.472\n",
      "days_since_start -1.467e-05   3.56e-06     -4.124      0.000   -2.16e-05    -7.7e-06\n",
      "==============================================================================\n",
      "Omnibus:                      773.039   Durbin-Watson:                   1.903\n",
      "Prob(Omnibus):                  0.000   Jarque-Bera (JB):              412.947\n",
      "Skew:                           0.170   Prob(JB):                     2.14e-90\n",
      "Kurtosis:                       2.400   Cond. No.                     3.30e+03\n",
      "==============================================================================\n",
      "\n",
      "Notes:\n",
      "[1] Standard Errors assume that the covariance matrix of the errors is correctly specified.\n",
      "[2] The condition number is large, 3.3e+03. This might indicate that there are\n",
      "strong multicollinearity or other numerical problems.\n",
      "(True, 'Democrat')\n",
      "                            OLS Regression Results                            \n",
      "==============================================================================\n",
      "Dep. Variable:               compound   R-squared:                       0.000\n",
      "Model:                            OLS   Adj. R-squared:                  0.000\n",
      "Method:                 Least Squares   F-statistic:                     2.735\n",
      "Date:                Wed, 01 Dec 2021   Prob (F-statistic):             0.0982\n",
      "Time:                        16:43:24   Log-Likelihood:                -8673.6\n",
      "No. Observations:               30963   AIC:                         1.735e+04\n",
      "Df Residuals:                   30961   BIC:                         1.737e+04\n",
      "Df Model:                           1                                         \n",
      "Covariance Type:            nonrobust                                         \n",
      "====================================================================================\n",
      "                       coef    std err          t      P>|t|      [0.025      0.975]\n",
      "------------------------------------------------------------------------------------\n",
      "Intercept            0.3852      0.004     87.966      0.000       0.377       0.394\n",
      "days_since_start -5.961e-06    3.6e-06     -1.654      0.098    -1.3e-05     1.1e-06\n",
      "==============================================================================\n",
      "Omnibus:                    68020.125   Durbin-Watson:                   1.960\n",
      "Prob(Omnibus):                  0.000   Jarque-Bera (JB):             2222.173\n",
      "Skew:                           0.157   Prob(JB):                         0.00\n",
      "Kurtosis:                       1.726   Cond. No.                     2.92e+03\n",
      "==============================================================================\n",
      "\n",
      "Notes:\n",
      "[1] Standard Errors assume that the covariance matrix of the errors is correctly specified.\n",
      "[2] The condition number is large, 2.92e+03. This might indicate that there are\n",
      "strong multicollinearity or other numerical problems.\n",
      "(True, 'Republican')\n",
      "                            OLS Regression Results                            \n",
      "==============================================================================\n",
      "Dep. Variable:               compound   R-squared:                       0.000\n",
      "Model:                            OLS   Adj. R-squared:                 -0.000\n",
      "Method:                 Least Squares   F-statistic:                    0.6510\n",
      "Date:                Wed, 01 Dec 2021   Prob (F-statistic):              0.420\n",
      "Time:                        16:43:24   Log-Likelihood:                -10143.\n",
      "No. Observations:               35393   AIC:                         2.029e+04\n",
      "Df Residuals:                   35391   BIC:                         2.031e+04\n",
      "Df Model:                           1                                         \n",
      "Covariance Type:            nonrobust                                         \n",
      "====================================================================================\n",
      "                       coef    std err          t      P>|t|      [0.025      0.975]\n",
      "------------------------------------------------------------------------------------\n",
      "Intercept            0.3673      0.004     87.263      0.000       0.359       0.376\n",
      "days_since_start  -2.73e-06   3.38e-06     -0.807      0.420   -9.36e-06     3.9e-06\n",
      "==============================================================================\n",
      "Omnibus:                    71257.625   Durbin-Watson:                   1.917\n",
      "Prob(Omnibus):                  0.000   Jarque-Bera (JB):             2659.275\n",
      "Skew:                           0.220   Prob(JB):                         0.00\n",
      "Kurtosis:                       1.731   Cond. No.                     3.06e+03\n",
      "==============================================================================\n",
      "\n",
      "Notes:\n",
      "[1] Standard Errors assume that the covariance matrix of the errors is correctly specified.\n",
      "[2] The condition number is large, 3.06e+03. This might indicate that there are\n",
      "strong multicollinearity or other numerical problems.\n"
     ]
    }
   ],
   "source": [
    "for label, res in results.items():\n",
    "    print(label)\n",
    "    print(res.summary())"
   ]
  },
  {
   "cell_type": "markdown",
   "metadata": {
    "tags": []
   },
   "source": [
    "### 3.4 Aggressivity by speaker analysis"
   ]
  },
  {
   "cell_type": "markdown",
   "metadata": {},
   "source": [
    "This section answers the question: \"Which politicians are the least or the most aggressive?\". We should strongly emphasize the fact that we consider a politician as being \"aggressive\" if she or he has an overall negative sentiment score, which is quite a shortcut. Unfortunately, the scope of the project did not allow us to provide a semantic analysis of the quotes to see if a negative quote also means, on average, that the vocabulary used and the speaker are more aggressive.\n",
    "\n",
    "Let us start by simply analyzing the most negative scores for all speakers throughout the whole dataset."
   ]
  },
  {
   "cell_type": "code",
   "execution_count": 28,
   "metadata": {},
   "outputs": [
    {
     "data": {
      "text/html": [
       "<div>\n",
       "<style scoped>\n",
       "    .dataframe tbody tr th:only-of-type {\n",
       "        vertical-align: middle;\n",
       "    }\n",
       "\n",
       "    .dataframe tbody tr th {\n",
       "        vertical-align: top;\n",
       "    }\n",
       "\n",
       "    .dataframe thead th {\n",
       "        text-align: right;\n",
       "    }\n",
       "</style>\n",
       "<table border=\"1\" class=\"dataframe\">\n",
       "  <thead>\n",
       "    <tr style=\"text-align: right;\">\n",
       "      <th></th>\n",
       "      <th></th>\n",
       "      <th>compound</th>\n",
       "      <th>quotes_count</th>\n",
       "    </tr>\n",
       "    <tr>\n",
       "      <th>speaker</th>\n",
       "      <th>parties</th>\n",
       "      <th></th>\n",
       "      <th></th>\n",
       "    </tr>\n",
       "  </thead>\n",
       "  <tbody>\n",
       "    <tr>\n",
       "      <th>robert hayes</th>\n",
       "      <th>Republican</th>\n",
       "      <td>-0.8910</td>\n",
       "      <td>1</td>\n",
       "    </tr>\n",
       "    <tr>\n",
       "      <th>david hobson</th>\n",
       "      <th>Republican</th>\n",
       "      <td>-0.7841</td>\n",
       "      <td>1</td>\n",
       "    </tr>\n",
       "    <tr>\n",
       "      <th>ron lewis</th>\n",
       "      <th>Republican</th>\n",
       "      <td>-0.7783</td>\n",
       "      <td>1</td>\n",
       "    </tr>\n",
       "    <tr>\n",
       "      <th>john shadegg</th>\n",
       "      <th>Republican</th>\n",
       "      <td>-0.7351</td>\n",
       "      <td>1</td>\n",
       "    </tr>\n",
       "    <tr>\n",
       "      <th>heath shuler</th>\n",
       "      <th>Democrat</th>\n",
       "      <td>-0.6249</td>\n",
       "      <td>1</td>\n",
       "    </tr>\n",
       "  </tbody>\n",
       "</table>\n",
       "</div>"
      ],
      "text/plain": [
       "                         compound  quotes_count\n",
       "speaker      parties                           \n",
       "robert hayes Republican   -0.8910             1\n",
       "david hobson Republican   -0.7841             1\n",
       "ron lewis    Republican   -0.7783             1\n",
       "john shadegg Republican   -0.7351             1\n",
       "heath shuler Democrat     -0.6249             1"
      ]
     },
     "execution_count": 28,
     "metadata": {},
     "output_type": "execute_result"
    }
   ],
   "source": [
    "most_agg = df.groupby([\"speaker\", \"parties\"]).agg({\n",
    "    \"compound\": \"mean\",\n",
    "    \"speaker\": \"size\", \n",
    "}) \\\n",
    ".rename({\"speaker\": \"quotes_count\"}, axis=1) \\\n",
    ".sort_values(\"compound\")\n",
    "\n",
    "most_agg.head(5)"
   ]
  },
  {
   "cell_type": "markdown",
   "metadata": {},
   "source": [
    "As we can see, most extremely negative (and thus aggressive by our methodology) speakers are such because they only have one quote to their names. So we will only consider those with at least 100 quotes."
   ]
  },
  {
   "cell_type": "code",
   "execution_count": 20,
   "metadata": {},
   "outputs": [
    {
     "data": {
      "text/html": [
       "<div>\n",
       "<style scoped>\n",
       "    .dataframe tbody tr th:only-of-type {\n",
       "        vertical-align: middle;\n",
       "    }\n",
       "\n",
       "    .dataframe tbody tr th {\n",
       "        vertical-align: top;\n",
       "    }\n",
       "\n",
       "    .dataframe thead th {\n",
       "        text-align: right;\n",
       "    }\n",
       "</style>\n",
       "<table border=\"1\" class=\"dataframe\">\n",
       "  <thead>\n",
       "    <tr style=\"text-align: right;\">\n",
       "      <th></th>\n",
       "      <th></th>\n",
       "      <th>compound</th>\n",
       "      <th>quotes_count</th>\n",
       "    </tr>\n",
       "    <tr>\n",
       "      <th>speaker</th>\n",
       "      <th>parties</th>\n",
       "      <th></th>\n",
       "      <th></th>\n",
       "    </tr>\n",
       "  </thead>\n",
       "  <tbody>\n",
       "    <tr>\n",
       "      <th>barbara lee</th>\n",
       "      <th>Democrat</th>\n",
       "      <td>-0.211459</td>\n",
       "      <td>182</td>\n",
       "    </tr>\n",
       "    <tr>\n",
       "      <th>tulsi gabbard</th>\n",
       "      <th>Democrat</th>\n",
       "      <td>-0.139305</td>\n",
       "      <td>332</td>\n",
       "    </tr>\n",
       "    <tr>\n",
       "      <th>joe walsh</th>\n",
       "      <th>Republican</th>\n",
       "      <td>-0.096052</td>\n",
       "      <td>105</td>\n",
       "    </tr>\n",
       "    <tr>\n",
       "      <th>elijah cummings</th>\n",
       "      <th>Democrat</th>\n",
       "      <td>-0.095461</td>\n",
       "      <td>936</td>\n",
       "    </tr>\n",
       "    <tr>\n",
       "      <th>maxine waters</th>\n",
       "      <th>Democrat</th>\n",
       "      <td>-0.090463</td>\n",
       "      <td>480</td>\n",
       "    </tr>\n",
       "    <tr>\n",
       "      <th>bennie thompson</th>\n",
       "      <th>Democrat</th>\n",
       "      <td>-0.087981</td>\n",
       "      <td>129</td>\n",
       "    </tr>\n",
       "    <tr>\n",
       "      <th>pramila jayapal</th>\n",
       "      <th>Democrat</th>\n",
       "      <td>-0.073166</td>\n",
       "      <td>270</td>\n",
       "    </tr>\n",
       "    <tr>\n",
       "      <th>claudia tenney</th>\n",
       "      <th>Republican</th>\n",
       "      <td>-0.070770</td>\n",
       "      <td>117</td>\n",
       "    </tr>\n",
       "    <tr>\n",
       "      <th>john yarmuth</th>\n",
       "      <th>Democrat</th>\n",
       "      <td>-0.070638</td>\n",
       "      <td>226</td>\n",
       "    </tr>\n",
       "    <tr>\n",
       "      <th>xavier becerra</th>\n",
       "      <th>Democrat</th>\n",
       "      <td>-0.065034</td>\n",
       "      <td>354</td>\n",
       "    </tr>\n",
       "    <tr>\n",
       "      <th>rashida tlaib</th>\n",
       "      <th>Democrat</th>\n",
       "      <td>-0.063962</td>\n",
       "      <td>118</td>\n",
       "    </tr>\n",
       "    <tr>\n",
       "      <th>ro khanna</th>\n",
       "      <th>Democrat</th>\n",
       "      <td>-0.062371</td>\n",
       "      <td>178</td>\n",
       "    </tr>\n",
       "    <tr>\n",
       "      <th>nita lowey</th>\n",
       "      <th>Democrat</th>\n",
       "      <td>-0.062304</td>\n",
       "      <td>187</td>\n",
       "    </tr>\n",
       "    <tr>\n",
       "      <th>alexandria ocasio-cortez</th>\n",
       "      <th>Democrat</th>\n",
       "      <td>-0.061512</td>\n",
       "      <td>391</td>\n",
       "    </tr>\n",
       "    <tr>\n",
       "      <th>john ratcliffe</th>\n",
       "      <th>Republican</th>\n",
       "      <td>-0.060930</td>\n",
       "      <td>184</td>\n",
       "    </tr>\n",
       "    <tr>\n",
       "      <th>mazie hirono</th>\n",
       "      <th>Democrat</th>\n",
       "      <td>-0.054876</td>\n",
       "      <td>271</td>\n",
       "    </tr>\n",
       "    <tr>\n",
       "      <th>adam smith</th>\n",
       "      <th>Democrat</th>\n",
       "      <td>-0.050431</td>\n",
       "      <td>283</td>\n",
       "    </tr>\n",
       "  </tbody>\n",
       "</table>\n",
       "</div>"
      ],
      "text/plain": [
       "                                     compound  quotes_count\n",
       "speaker                  parties                           \n",
       "barbara lee              Democrat   -0.211459           182\n",
       "tulsi gabbard            Democrat   -0.139305           332\n",
       "joe walsh                Republican -0.096052           105\n",
       "elijah cummings          Democrat   -0.095461           936\n",
       "maxine waters            Democrat   -0.090463           480\n",
       "bennie thompson          Democrat   -0.087981           129\n",
       "pramila jayapal          Democrat   -0.073166           270\n",
       "claudia tenney           Republican -0.070770           117\n",
       "john yarmuth             Democrat   -0.070638           226\n",
       "xavier becerra           Democrat   -0.065034           354\n",
       "rashida tlaib            Democrat   -0.063962           118\n",
       "ro khanna                Democrat   -0.062371           178\n",
       "nita lowey               Democrat   -0.062304           187\n",
       "alexandria ocasio-cortez Democrat   -0.061512           391\n",
       "john ratcliffe           Republican -0.060930           184\n",
       "mazie hirono             Democrat   -0.054876           271\n",
       "adam smith               Democrat   -0.050431           283"
      ]
     },
     "execution_count": 20,
     "metadata": {},
     "output_type": "execute_result"
    }
   ],
   "source": [
    "most_agg = most_agg[most_agg[\"quotes_count\"] >= 100]\n",
    "# Only keep those really negative\n",
    "threshold = -0.05\n",
    "most_agg = most_agg[most_agg[\"compound\"] <= threshold].sort_values(\"compound\")\n",
    "most_agg"
   ]
  },
  {
   "cell_type": "code",
   "execution_count": 21,
   "metadata": {},
   "outputs": [
    {
     "data": {
      "text/html": [
       "<div>\n",
       "<style scoped>\n",
       "    .dataframe tbody tr th:only-of-type {\n",
       "        vertical-align: middle;\n",
       "    }\n",
       "\n",
       "    .dataframe tbody tr th {\n",
       "        vertical-align: top;\n",
       "    }\n",
       "\n",
       "    .dataframe thead th {\n",
       "        text-align: right;\n",
       "    }\n",
       "</style>\n",
       "<table border=\"1\" class=\"dataframe\">\n",
       "  <thead>\n",
       "    <tr style=\"text-align: right;\">\n",
       "      <th></th>\n",
       "      <th>count</th>\n",
       "      <th>proportion</th>\n",
       "    </tr>\n",
       "    <tr>\n",
       "      <th>parties</th>\n",
       "      <th></th>\n",
       "      <th></th>\n",
       "    </tr>\n",
       "  </thead>\n",
       "  <tbody>\n",
       "    <tr>\n",
       "      <th>Democrat</th>\n",
       "      <td>14</td>\n",
       "      <td>0.823529</td>\n",
       "    </tr>\n",
       "    <tr>\n",
       "      <th>Republican</th>\n",
       "      <td>3</td>\n",
       "      <td>0.176471</td>\n",
       "    </tr>\n",
       "  </tbody>\n",
       "</table>\n",
       "</div>"
      ],
      "text/plain": [
       "            count  proportion\n",
       "parties                      \n",
       "Democrat       14    0.823529\n",
       "Republican      3    0.176471"
      ]
     },
     "execution_count": 21,
     "metadata": {},
     "output_type": "execute_result"
    }
   ],
   "source": [
    "# Compute count and proportion by party\n",
    "g = pd.DataFrame(most_agg.groupby(\"parties\").size()).rename({0: \"count\"}, axis=1)\n",
    "g[\"proportion\"] = g[\"count\"] / g[\"count\"].sum()\n",
    "g"
   ]
  },
  {
   "cell_type": "markdown",
   "metadata": {},
   "source": [
    "It clearly came as a surprise to us that the democrats seems to be the most aggressive ones when mentioning another politician from the other party. In the next section, we focus on the 3 most aggressive speakers."
   ]
  },
  {
   "cell_type": "markdown",
   "metadata": {
    "tags": []
   },
   "source": [
    "#### EDA of most aggressive speakers"
   ]
  },
  {
   "cell_type": "markdown",
   "metadata": {},
   "source": [
    "It seems that the following speakers are specifically negative and thus, polarizing when they are mentioning people of the other political camp:\n",
    "- [Barbara Lee](https://en.wikipedia.org/wiki/Barbara_Lee) (Democrat)\n",
    "- [Tulsi Gabbard](https://en.wikipedia.org/wiki/Tulsi_Gabbard) (Democrat)\n",
    "- [Joe Walsh](https://en.wikipedia.org/wiki/Joe_Walsh_(Illinois_politician)) (Republican)\n",
    "\n",
    "To explore that, let us explore a few random quotes from them."
   ]
  },
  {
   "cell_type": "code",
   "execution_count": 12,
   "metadata": {},
   "outputs": [
    {
     "name": "stdout",
     "output_type": "stream",
     "text": [
      "Sample from barbara lee\n",
      "QID: 2018-11-06-063279, Score: 0.0516 \n",
      " \"last month, when asked about his budget-busting tax gift to the wealthy, the republican senate majority leader (mitch mcconnell) told bloomberg news that his `single biggest disappointment' in his career had been his failure to gut medicare and social security,\"\n",
      "\n",
      "QID: 2017-03-10-024778, Score: -0.8176 \n",
      " \"for more than fifteen years, the u.s. has been engaged in an ever-expanding war in the middle east. president trump's deployment of combat troops in syria is the latest front in this endless war.\"\n",
      "\n",
      "QID: 2017-10-07-058395, Score: 0.3527 \n",
      " \"remember president trump said `what do we have to lose?' to the black community? well, we answered him and sent him an entire agenda as it relates to the african american community,\"\n",
      "\n",
      "------------------------------\n",
      "Sample from tulsi gabbard\n",
      "QID: 2017-12-06-098842, Score: 0.8555 \n",
      " \"our telephone townhall was an important opportunity to share the facts about what is at stake for the people of hawaiʻi under the republican tax proposals, as well as to share critical information and resources for hawaiʻi taxpayers ahead of the upcoming tax season. as congress goes to conference committee on the current tax proposals and moves closer towards a final vote, i will continue to ensure my constituents' concerns are heard and stand against this wrong-headed legislation,\"\n",
      "\n",
      "QID: 2015-10-30-028973, Score: 0.0 \n",
      " \"here's what i'm concerned about, bill, is that we end up in november of next year, and we end up with the frontrunner hillary, and many of the republican candidates that we're seeing, who are essentially interventionists, and who are taking positions that will put us in yet another position, just as we've seen over the last decade of getting into a regime change, nation-building mission, which is essentially what they're advocating for right now in syria.\"\n",
      "\n",
      "QID: 2019-06-24-056445, Score: -0.8885 \n",
      " \"military and political leaders who have carried the heavy responsibility of the nuclear football are outspoken about how immediate the threat of nuclear war really is. and every day, president trump, national security advisor john bolton and the state department push us closer to a war with other nuclear powers like russia, china or north korea that would have catastrophic consequences.\"\n",
      "\n",
      "------------------------------\n",
      "Sample from joe walsh\n",
      "QID: 2017-11-05-020827, Score: 0.0 \n",
      " \"he wasn't hillary clinton,\"\n",
      "\n",
      "QID: 2020-02-07-006761, Score: 0.4404 \n",
      " \"any democrat would be better.\"\n",
      "\n",
      "QID: 2018-03-20-112865, Score: -0.5106 \n",
      " \"the democratic voters are angrier than we've ever seen,\"\n",
      "\n",
      "------------------------------\n"
     ]
    }
   ],
   "source": [
    "speakers = [\"barbara lee\", \"tulsi gabbard\", \"joe walsh\"]\n",
    "\n",
    "for speaker in speakers:\n",
    "    print(\"Samples from\", speaker)\n",
    "    quotes = df[df[\"speaker\"] == speaker].sample(3)[[\"quoteID\", \"compound\", \"quotation\"]].values\n",
    "    for q in quotes:\n",
    "        print(f\"QID: {q[0]}, Score: {q[1]} \\n \\\"{q[-1]}\\\"\\n\")\n",
    "    print(\"-\" * 30)"
   ]
  },
  {
   "cell_type": "markdown",
   "metadata": {},
   "source": [
    "By doing that multiple times (we only extracted 3 quotes by politican here), we can observe a few things. First, our method seems to capture well the polarization between the two political camps:\n",
    "- Tulsi Gabbard (QID: 2019-09-25-056870, Score: -0.3182):\n",
    "> it's important that donald trump is defeated,\n",
    "- Barbara Lee (QID: 2015-09-16-064526 Score: -0.743):\n",
    "> it's past time that republicans stop governing by crisis,\n",
    "- Joe Walsh (QID: 2019-08-24-040425, Score: -0.3818):\n",
    "> the truth: as practiced by most muslims, islam is not a religion. these muslims are at war w us. barack obama, a muslim, is on their side,"
   ]
  },
  {
   "cell_type": "markdown",
   "metadata": {},
   "source": [
    "In some cases, though, this process outlined some clear problems:\n",
    "- Barbara Lee (QID: 2020-04-16-025948 Score: **0.8074**)\n",
    ">instead of giving relief to americans who are struggling to make ends meet, senate republicans snuck in tax breaks and corporate giveaways for their wealthy friends,\n",
    "    - This quote should be negative and is a clear example of polarizing quote. It is not detected as such by our algorithm.\n",
    "- Tulsi Gabbard (QID: 2019-04-30-091725, Score: -0.4927)\n",
    "> the most attacks i get are not from republicans,\n",
    "    - Although she mentions republicans, this quote is actually in favor of them, but is actually _in favor_ of republicans.\n",
    "    \n",
    "Those are just some examples that we wanted to outline to show some shortcomings of our algorithm. Those points could be further investigated in future work.\n",
    "\n",
    "Now that we analyzed the aggressivity in bulk, chapter 3.1 of this notebook indicated that there seems to be a great change through the years. So we now do a similar analysis of the most aggressive speakers per year.\n"
   ]
  },
  {
   "cell_type": "markdown",
   "metadata": {},
   "source": [
    "#### Most aggressive speakers by year"
   ]
  },
  {
   "cell_type": "markdown",
   "metadata": {},
   "source": [
    "By using the same methodology as the previous point, we extract only the most aggressive speakers with at least 100 quotes and with a mean score of at least -0.05."
   ]
  },
  {
   "cell_type": "code",
   "execution_count": 11,
   "metadata": {},
   "outputs": [],
   "source": [
    "# create new \"year\" column in df\n",
    "df[\"date\"] = pd.to_datetime(df[\"date\"])\n",
    "df[\"year\"] = df[\"date\"].dt.year"
   ]
  },
  {
   "cell_type": "code",
   "execution_count": 14,
   "metadata": {},
   "outputs": [
    {
     "data": {
      "text/html": [
       "<div>\n",
       "<style scoped>\n",
       "    .dataframe tbody tr th:only-of-type {\n",
       "        vertical-align: middle;\n",
       "    }\n",
       "\n",
       "    .dataframe tbody tr th {\n",
       "        vertical-align: top;\n",
       "    }\n",
       "\n",
       "    .dataframe thead th {\n",
       "        text-align: right;\n",
       "    }\n",
       "</style>\n",
       "<table border=\"1\" class=\"dataframe\">\n",
       "  <thead>\n",
       "    <tr style=\"text-align: right;\">\n",
       "      <th></th>\n",
       "      <th>quoteID</th>\n",
       "      <th>quotation</th>\n",
       "      <th>speaker</th>\n",
       "      <th>qids</th>\n",
       "      <th>date</th>\n",
       "      <th>numOccurrences</th>\n",
       "      <th>probas</th>\n",
       "      <th>urls</th>\n",
       "      <th>phase</th>\n",
       "      <th>subset</th>\n",
       "      <th>...</th>\n",
       "      <th>honorificSuffix</th>\n",
       "      <th>position</th>\n",
       "      <th>stateName</th>\n",
       "      <th>parties</th>\n",
       "      <th>NLTK score</th>\n",
       "      <th>neg</th>\n",
       "      <th>neu</th>\n",
       "      <th>pos</th>\n",
       "      <th>compound</th>\n",
       "      <th>year</th>\n",
       "    </tr>\n",
       "  </thead>\n",
       "  <tbody>\n",
       "    <tr>\n",
       "      <th>2665</th>\n",
       "      <td>2019-10-22-057060</td>\n",
       "      <td>just the facts, baby. if we tell that story wi...</td>\n",
       "      <td>hakeem jeffries</td>\n",
       "      <td>['Q5640425']</td>\n",
       "      <td>2019-10-22 13:11:08</td>\n",
       "      <td>3.0</td>\n",
       "      <td>[['Hakeem Jeffries', '0.9085'], ['None', '0.09...</td>\n",
       "      <td>['https://thefederalist.com/2019/10/22/the-clo...</td>\n",
       "      <td>E</td>\n",
       "      <td>True</td>\n",
       "      <td>...</td>\n",
       "      <td>NaN</td>\n",
       "      <td>Representative</td>\n",
       "      <td>NY</td>\n",
       "      <td>Democrat</td>\n",
       "      <td>{'neg': 0.048, 'neu': 0.845, 'pos': 0.107, 'co...</td>\n",
       "      <td>0.048</td>\n",
       "      <td>0.845</td>\n",
       "      <td>0.107</td>\n",
       "      <td>0.4404</td>\n",
       "      <td>2019</td>\n",
       "    </tr>\n",
       "  </tbody>\n",
       "</table>\n",
       "<p>1 rows × 32 columns</p>\n",
       "</div>"
      ],
      "text/plain": [
       "                quoteID                                          quotation  \\\n",
       "2665  2019-10-22-057060  just the facts, baby. if we tell that story wi...   \n",
       "\n",
       "              speaker          qids                date  numOccurrences  \\\n",
       "2665  hakeem jeffries  ['Q5640425'] 2019-10-22 13:11:08             3.0   \n",
       "\n",
       "                                                 probas  \\\n",
       "2665  [['Hakeem Jeffries', '0.9085'], ['None', '0.09...   \n",
       "\n",
       "                                                   urls phase  subset  ...  \\\n",
       "2665  ['https://thefederalist.com/2019/10/22/the-clo...     E    True  ...   \n",
       "\n",
       "     honorificSuffix        position stateName   parties  \\\n",
       "2665             NaN  Representative        NY  Democrat   \n",
       "\n",
       "                                             NLTK score    neg    neu    pos  \\\n",
       "2665  {'neg': 0.048, 'neu': 0.845, 'pos': 0.107, 'co...  0.048  0.845  0.107   \n",
       "\n",
       "     compound  year  \n",
       "2665   0.4404  2019  \n",
       "\n",
       "[1 rows x 32 columns]"
      ]
     },
     "execution_count": 14,
     "metadata": {},
     "output_type": "execute_result"
    }
   ],
   "source": [
    "# Sanity check\n",
    "df.sample(1)"
   ]
  },
  {
   "cell_type": "code",
   "execution_count": 34,
   "metadata": {},
   "outputs": [],
   "source": [
    "most_agg = df.groupby([\"year\", \"speaker\", \"parties\"]).agg({\n",
    "    \"compound\": \"mean\",\n",
    "    \"speaker\": \"size\", \n",
    "}) \\\n",
    ".rename({\"speaker\": \"quotes_count\"}, axis=1) \\\n",
    ".sort_values(\"compound\")\n",
    "\n",
    "most_agg = most_agg[most_agg[\"quotes_count\"] >= 100]\n",
    "# Only keep those really negative\n",
    "threshold = -0.05\n",
    "most_agg = most_agg[most_agg[\"compound\"] <= threshold].sort_values(\"year\")"
   ]
  },
  {
   "cell_type": "code",
   "execution_count": 17,
   "metadata": {},
   "outputs": [
    {
     "data": {
      "text/html": [
       "<div>\n",
       "<style scoped>\n",
       "    .dataframe tbody tr th:only-of-type {\n",
       "        vertical-align: middle;\n",
       "    }\n",
       "\n",
       "    .dataframe tbody tr th {\n",
       "        vertical-align: top;\n",
       "    }\n",
       "\n",
       "    .dataframe thead th {\n",
       "        text-align: right;\n",
       "    }\n",
       "</style>\n",
       "<table border=\"1\" class=\"dataframe\">\n",
       "  <thead>\n",
       "    <tr style=\"text-align: right;\">\n",
       "      <th></th>\n",
       "      <th></th>\n",
       "      <th></th>\n",
       "      <th>compound</th>\n",
       "      <th>quotes_count</th>\n",
       "    </tr>\n",
       "    <tr>\n",
       "      <th>year</th>\n",
       "      <th>speaker</th>\n",
       "      <th>parties</th>\n",
       "      <th></th>\n",
       "      <th></th>\n",
       "    </tr>\n",
       "  </thead>\n",
       "  <tbody>\n",
       "    <tr>\n",
       "      <th>2015</th>\n",
       "      <th>elijah cummings</th>\n",
       "      <th>Democrat</th>\n",
       "      <td>-0.339667</td>\n",
       "      <td>201</td>\n",
       "    </tr>\n",
       "    <tr>\n",
       "      <th rowspan=\"2\" valign=\"top\">2016</th>\n",
       "      <th>elijah cummings</th>\n",
       "      <th>Democrat</th>\n",
       "      <td>-0.188794</td>\n",
       "      <td>132</td>\n",
       "    </tr>\n",
       "    <tr>\n",
       "      <th>donald trump</th>\n",
       "      <th>Republican</th>\n",
       "      <td>-0.052753</td>\n",
       "      <td>4094</td>\n",
       "    </tr>\n",
       "    <tr>\n",
       "      <th rowspan=\"7\" valign=\"top\">2017</th>\n",
       "      <th>jeff flake</th>\n",
       "      <th>Republican</th>\n",
       "      <td>-0.111487</td>\n",
       "      <td>133</td>\n",
       "    </tr>\n",
       "    <tr>\n",
       "      <th>ted lieu</th>\n",
       "      <th>Democrat</th>\n",
       "      <td>-0.077877</td>\n",
       "      <td>100</td>\n",
       "    </tr>\n",
       "    <tr>\n",
       "      <th>cory booker</th>\n",
       "      <th>Democrat</th>\n",
       "      <td>-0.078286</td>\n",
       "      <td>132</td>\n",
       "    </tr>\n",
       "    <tr>\n",
       "      <th>jeanne shaheen</th>\n",
       "      <th>Democrat</th>\n",
       "      <td>-0.056756</td>\n",
       "      <td>100</td>\n",
       "    </tr>\n",
       "    <tr>\n",
       "      <th>barbara lee</th>\n",
       "      <th>Democrat</th>\n",
       "      <td>-0.232446</td>\n",
       "      <td>104</td>\n",
       "    </tr>\n",
       "    <tr>\n",
       "      <th>kirsten gillibrand</th>\n",
       "      <th>Democrat</th>\n",
       "      <td>-0.074496</td>\n",
       "      <td>156</td>\n",
       "    </tr>\n",
       "    <tr>\n",
       "      <th>maxine waters</th>\n",
       "      <th>Democrat</th>\n",
       "      <td>-0.114713</td>\n",
       "      <td>180</td>\n",
       "    </tr>\n",
       "    <tr>\n",
       "      <th rowspan=\"9\" valign=\"top\">2018</th>\n",
       "      <th>orrin hatch</th>\n",
       "      <th>Republican</th>\n",
       "      <td>-0.075000</td>\n",
       "      <td>137</td>\n",
       "    </tr>\n",
       "    <tr>\n",
       "      <th>ted lieu</th>\n",
       "      <th>Democrat</th>\n",
       "      <td>-0.061465</td>\n",
       "      <td>109</td>\n",
       "    </tr>\n",
       "    <tr>\n",
       "      <th>dianne feinstein</th>\n",
       "      <th>Democrat</th>\n",
       "      <td>-0.083949</td>\n",
       "      <td>318</td>\n",
       "    </tr>\n",
       "    <tr>\n",
       "      <th>mazie hirono</th>\n",
       "      <th>Democrat</th>\n",
       "      <td>-0.119052</td>\n",
       "      <td>102</td>\n",
       "    </tr>\n",
       "    <tr>\n",
       "      <th>kirsten gillibrand</th>\n",
       "      <th>Democrat</th>\n",
       "      <td>-0.120604</td>\n",
       "      <td>140</td>\n",
       "    </tr>\n",
       "    <tr>\n",
       "      <th>maxine waters</th>\n",
       "      <th>Democrat</th>\n",
       "      <td>-0.122643</td>\n",
       "      <td>164</td>\n",
       "    </tr>\n",
       "    <tr>\n",
       "      <th>adam smith</th>\n",
       "      <th>Democrat</th>\n",
       "      <td>-0.054608</td>\n",
       "      <td>106</td>\n",
       "    </tr>\n",
       "    <tr>\n",
       "      <th>jerrold nadler</th>\n",
       "      <th>Democrat</th>\n",
       "      <td>-0.116621</td>\n",
       "      <td>131</td>\n",
       "    </tr>\n",
       "    <tr>\n",
       "      <th>richard blumenthal</th>\n",
       "      <th>Democrat</th>\n",
       "      <td>-0.072185</td>\n",
       "      <td>227</td>\n",
       "    </tr>\n",
       "    <tr>\n",
       "      <th rowspan=\"11\" valign=\"top\">2019</th>\n",
       "      <th>president donald trump</th>\n",
       "      <th>Republican</th>\n",
       "      <td>-0.057747</td>\n",
       "      <td>3823</td>\n",
       "    </tr>\n",
       "    <tr>\n",
       "      <th>devin nunes</th>\n",
       "      <th>Republican</th>\n",
       "      <td>-0.062832</td>\n",
       "      <td>476</td>\n",
       "    </tr>\n",
       "    <tr>\n",
       "      <th>kamala harris</th>\n",
       "      <th>Democrat</th>\n",
       "      <td>-0.054848</td>\n",
       "      <td>169</td>\n",
       "    </tr>\n",
       "    <tr>\n",
       "      <th>xavier becerra</th>\n",
       "      <th>Democrat</th>\n",
       "      <td>-0.173166</td>\n",
       "      <td>116</td>\n",
       "    </tr>\n",
       "    <tr>\n",
       "      <th>rashida tlaib</th>\n",
       "      <th>Democrat</th>\n",
       "      <td>-0.054251</td>\n",
       "      <td>107</td>\n",
       "    </tr>\n",
       "    <tr>\n",
       "      <th>elise stefanik</th>\n",
       "      <th>Republican</th>\n",
       "      <td>-0.097369</td>\n",
       "      <td>157</td>\n",
       "    </tr>\n",
       "    <tr>\n",
       "      <th>mo brooks</th>\n",
       "      <th>Republican</th>\n",
       "      <td>-0.120918</td>\n",
       "      <td>171</td>\n",
       "    </tr>\n",
       "    <tr>\n",
       "      <th>tulsi gabbard</th>\n",
       "      <th>Democrat</th>\n",
       "      <td>-0.126019</td>\n",
       "      <td>205</td>\n",
       "    </tr>\n",
       "    <tr>\n",
       "      <th>john ratcliffe</th>\n",
       "      <th>Republican</th>\n",
       "      <td>-0.129743</td>\n",
       "      <td>117</td>\n",
       "    </tr>\n",
       "    <tr>\n",
       "      <th>alexandria ocasio-cortez</th>\n",
       "      <th>Democrat</th>\n",
       "      <td>-0.082365</td>\n",
       "      <td>279</td>\n",
       "    </tr>\n",
       "    <tr>\n",
       "      <th>donald trump</th>\n",
       "      <th>Republican</th>\n",
       "      <td>-0.080294</td>\n",
       "      <td>987</td>\n",
       "    </tr>\n",
       "  </tbody>\n",
       "</table>\n",
       "</div>"
      ],
      "text/plain": [
       "                                          compound  quotes_count\n",
       "year speaker                  parties                           \n",
       "2015 elijah cummings          Democrat   -0.339667           201\n",
       "2016 elijah cummings          Democrat   -0.188794           132\n",
       "     donald trump             Republican -0.052753          4094\n",
       "2017 jeff flake               Republican -0.111487           133\n",
       "     ted lieu                 Democrat   -0.077877           100\n",
       "     cory booker              Democrat   -0.078286           132\n",
       "     jeanne shaheen           Democrat   -0.056756           100\n",
       "     barbara lee              Democrat   -0.232446           104\n",
       "     kirsten gillibrand       Democrat   -0.074496           156\n",
       "     maxine waters            Democrat   -0.114713           180\n",
       "2018 orrin hatch              Republican -0.075000           137\n",
       "     ted lieu                 Democrat   -0.061465           109\n",
       "     dianne feinstein         Democrat   -0.083949           318\n",
       "     mazie hirono             Democrat   -0.119052           102\n",
       "     kirsten gillibrand       Democrat   -0.120604           140\n",
       "     maxine waters            Democrat   -0.122643           164\n",
       "     adam smith               Democrat   -0.054608           106\n",
       "     jerrold nadler           Democrat   -0.116621           131\n",
       "     richard blumenthal       Democrat   -0.072185           227\n",
       "2019 president donald trump   Republican -0.057747          3823\n",
       "     devin nunes              Republican -0.062832           476\n",
       "     kamala harris            Democrat   -0.054848           169\n",
       "     xavier becerra           Democrat   -0.173166           116\n",
       "     rashida tlaib            Democrat   -0.054251           107\n",
       "     elise stefanik           Republican -0.097369           157\n",
       "     mo brooks                Republican -0.120918           171\n",
       "     tulsi gabbard            Democrat   -0.126019           205\n",
       "     john ratcliffe           Republican -0.129743           117\n",
       "     alexandria ocasio-cortez Democrat   -0.082365           279\n",
       "     donald trump             Republican -0.080294           987"
      ]
     },
     "execution_count": 17,
     "metadata": {},
     "output_type": "execute_result"
    }
   ],
   "source": [
    "# Display table\n",
    "most_agg"
   ]
  },
  {
   "cell_type": "code",
   "execution_count": 37,
   "metadata": {},
   "outputs": [
    {
     "data": {
      "text/html": [
       "<div>\n",
       "<style scoped>\n",
       "    .dataframe tbody tr th:only-of-type {\n",
       "        vertical-align: middle;\n",
       "    }\n",
       "\n",
       "    .dataframe tbody tr th {\n",
       "        vertical-align: top;\n",
       "    }\n",
       "\n",
       "    .dataframe thead th {\n",
       "        text-align: right;\n",
       "    }\n",
       "</style>\n",
       "<table border=\"1\" class=\"dataframe\">\n",
       "  <thead>\n",
       "    <tr style=\"text-align: right;\">\n",
       "      <th></th>\n",
       "      <th></th>\n",
       "      <th>count</th>\n",
       "      <th>proportion</th>\n",
       "    </tr>\n",
       "    <tr>\n",
       "      <th>year</th>\n",
       "      <th>parties</th>\n",
       "      <th></th>\n",
       "      <th></th>\n",
       "    </tr>\n",
       "  </thead>\n",
       "  <tbody>\n",
       "    <tr>\n",
       "      <th>2015</th>\n",
       "      <th>Democrat</th>\n",
       "      <td>1</td>\n",
       "      <td>1.000000</td>\n",
       "    </tr>\n",
       "    <tr>\n",
       "      <th rowspan=\"2\" valign=\"top\">2016</th>\n",
       "      <th>Democrat</th>\n",
       "      <td>1</td>\n",
       "      <td>0.500000</td>\n",
       "    </tr>\n",
       "    <tr>\n",
       "      <th>Republican</th>\n",
       "      <td>1</td>\n",
       "      <td>0.500000</td>\n",
       "    </tr>\n",
       "    <tr>\n",
       "      <th rowspan=\"2\" valign=\"top\">2017</th>\n",
       "      <th>Democrat</th>\n",
       "      <td>6</td>\n",
       "      <td>0.857143</td>\n",
       "    </tr>\n",
       "    <tr>\n",
       "      <th>Republican</th>\n",
       "      <td>1</td>\n",
       "      <td>0.142857</td>\n",
       "    </tr>\n",
       "    <tr>\n",
       "      <th rowspan=\"2\" valign=\"top\">2018</th>\n",
       "      <th>Democrat</th>\n",
       "      <td>8</td>\n",
       "      <td>0.888889</td>\n",
       "    </tr>\n",
       "    <tr>\n",
       "      <th>Republican</th>\n",
       "      <td>1</td>\n",
       "      <td>0.111111</td>\n",
       "    </tr>\n",
       "    <tr>\n",
       "      <th rowspan=\"2\" valign=\"top\">2019</th>\n",
       "      <th>Democrat</th>\n",
       "      <td>5</td>\n",
       "      <td>0.454545</td>\n",
       "    </tr>\n",
       "    <tr>\n",
       "      <th>Republican</th>\n",
       "      <td>6</td>\n",
       "      <td>0.545455</td>\n",
       "    </tr>\n",
       "  </tbody>\n",
       "</table>\n",
       "</div>"
      ],
      "text/plain": [
       "                 count  proportion\n",
       "year parties                      \n",
       "2015 Democrat        1    1.000000\n",
       "2016 Democrat        1    0.500000\n",
       "     Republican      1    0.500000\n",
       "2017 Democrat        6    0.857143\n",
       "     Republican      1    0.142857\n",
       "2018 Democrat        8    0.888889\n",
       "     Republican      1    0.111111\n",
       "2019 Democrat        5    0.454545\n",
       "     Republican      6    0.545455"
      ]
     },
     "execution_count": 37,
     "metadata": {},
     "output_type": "execute_result"
    }
   ],
   "source": [
    "g = pd.DataFrame(most_agg.groupby([\"year\", \"parties\"]).size()).rename({0: \"count\"}, axis=1)\n",
    "g[\"proportion\"] = g[\"count\"] / g.groupby(\"year\")[\"count\"].sum()\n",
    "g"
   ]
  },
  {
   "cell_type": "markdown",
   "metadata": {},
   "source": [
    "The first thing we observe is that we have only one speaker denoted as \"aggressive\" in 2015. This comes from the fact that we have fewer quotes in earlier year (2015 and 2016, see section 3.1). Also, it appears that we did not have enough data in 2020 to extract meaningful insights. \n",
    "\n",
    "In 2017 and 2018, aggressive speakers are overwhelmingly democrats. Only one republican is denoted as aggressive. In 2019, we have an exact parity between democrats and republicans. Indeed, Donald Trump is counted twice, once under \"donald trump\" and once under \"president donald trump\". \n",
    "\n",
    "From the most aggressive table, we clearly see that something seems to have happened around 2016 (Trump's election?) which seems to have (1) greatly increased the number of quotes about the other camp by politicians and, (2) greatly increased the number of aggressive speakers (democrats in that case). In 2019, republicans **seem to have responded to that aggressivity** by also being aggressive. We will continue to explore the evolution of the score around key events in the next section.  "
   ]
  },
  {
   "cell_type": "markdown",
   "metadata": {},
   "source": [
    "### 3.5 Evolution of score around key events"
   ]
  },
  {
   "cell_type": "markdown",
   "metadata": {},
   "source": [
    "_Refer to `events_dataset.ipynb` to see how the events dataset was created._"
   ]
  },
  {
   "cell_type": "code",
   "execution_count": null,
   "metadata": {},
   "outputs": [],
   "source": []
  },
  {
   "cell_type": "markdown",
   "metadata": {},
   "source": [
    "## Conclusion "
   ]
  },
  {
   "cell_type": "markdown",
   "metadata": {},
   "source": []
  }
 ],
 "metadata": {
  "interpreter": {
   "hash": "edc1a23f945431ce4c0ce12a191555bee6d7f0d3bb9235137bba8922e6ad584d"
  },
  "kernelspec": {
   "display_name": "Python 3 (ipykernel)",
   "language": "python",
   "name": "python3"
  },
  "language_info": {
   "codemirror_mode": {
    "name": "ipython",
    "version": 3
   },
   "file_extension": ".py",
   "mimetype": "text/x-python",
   "name": "python",
   "nbconvert_exporter": "python",
   "pygments_lexer": "ipython3",
   "version": "3.9.5"
  }
 },
 "nbformat": 4,
 "nbformat_minor": 4
}
